{
 "cells": [
  {
   "cell_type": "markdown",
   "metadata": {},
   "source": [
    "# Overview\n",
    "This notebook introduces the basics of object-oriented programming in python by developing an example of a two-dimensional world containing objects that have locations and that can move about in the world.\n",
    "\n",
    "# Introducing the Vector class\n",
    "Everything will be built on top of the `Vector` class, which enables our objects to have things like locations and velocities. So we begin by defining that first. We'll decide to make instances of class `Vector` immutable, which means that, once created, their (x,y) coordinates cannot be changed. This is a design choice. We didn't need to do it this way, but it makes sense for this class and it also will help illustrate some useful python concepts, such as the `@property` decorator.\n",
    "\n",
    "Review the class definition and the examples of its use below, and then we'll discuss what is going on in more detail. Please read all of the comments, i.e., those that begin with a hash-mark, `#`, as they contain instructional material. "
   ]
  },
  {
   "cell_type": "code",
   "execution_count": 1,
   "metadata": {},
   "outputs": [
    {
     "name": "stdout",
     "output_type": "stream",
     "text": [
      "Creating a vector\n",
      "v = <__main__.Vector object at 0x11186ada0>\n",
      "\n",
      "Accessing its components\n",
      "v.x() = 1.2\n",
      "v.y() = 3.4\n",
      "\n",
      "Note that in python we can always get around read-only restrictions if we violate protocol.\n",
      "If we really want to change the value of v._x, we can do it.\n",
      "v.x() = 5.6\n"
     ]
    }
   ],
   "source": [
    "class Vector(object):\n",
    "    \"\"\"\n",
    "    Represents a two-dimensional vector, something with an x-component and a y-component.\n",
    "    \n",
    "    Knows how to perform basic vector operations on itself and on other vectors, such as\n",
    "    scaling and addition.\n",
    "    \"\"\"\n",
    "    def __init__(self, x, y):\n",
    "        # We use underscores in the names to indicate that these member variables are private.\n",
    "        self._x = x\n",
    "        self._y = y\n",
    "        \n",
    "    # Here we supply getter methods that give clients read-only access to the x and y coordinates.\n",
    "    def x(self):\n",
    "        return self._x\n",
    "    \n",
    "    def y(self):\n",
    "        return self._y\n",
    "    \n",
    "# Examples\n",
    "print(\"Creating a vector\")\n",
    "v = Vector(1.2, 3.4)\n",
    "print(\"v =\", v)\n",
    "\n",
    "print()\n",
    "print(\"Accessing its components\")\n",
    "print(\"v.x() =\", v.x())\n",
    "print(\"v.y() =\", v.y())\n",
    "    \n",
    "print()\n",
    "print(\"Note that in python we can always get around read-only restrictions if we violate protocol.\")\n",
    "print(\"If we really want to change the value of v._x, we can do it.\")\n",
    "v._x = 5.6\n",
    "print(\"v.x() =\", v.x())\n",
    "        "
   ]
  },
  {
   "cell_type": "markdown",
   "metadata": {},
   "source": [
    "There are several things to note about the code example above. \n",
    "\n",
    "## Inherit from class object\n",
    "Note that our base class `Vector` inherits from the class `object`. Our base classes should always do this.\n",
    "\n",
    "\n",
    "## Make things private using underscores\n",
    "In python, by convention, whenever a variable, function, or method name begins with an underscore, it is private. That means that client code should not attempt to read it, write it, or call it, as the case may be. It is good form, when defining a class, to clearly demarcate its public interface. Those member variables and methods that are not named with leading underscores are deemed part of its public interface. Client code is free to both read and write public member variables, and it is free to call public methods. Everything else is off limits.\n",
    "\n",
    "We don't want client code to be able to change the values of a vector's x and y components, but we do want client code to be able to read them. Naming our member variables `self._x` and `self._y` prevents client code from modifying them. In order to grant read-access to them, we created the public methods x() and y().\n",
    "\n",
    "\n"
   ]
  },
  {
   "cell_type": "markdown",
   "metadata": {},
   "source": [
    "# Make read-only properties with @property\n",
    "There is nothing wrong with our first draft of `Vector`, but it does seem a bit of a shame that we have to access a vector's x- and y-components via getter methods, e.g., `v.x()` and `v.y()`, rather than just accessing them like member variables, e.g., `v.x` and `v.y`. If `x` and `y` were public member variables, we'd be able to access them directly. It's only because they're private that we had to resort to getter methods.\n",
    "\n",
    "In python, there is an elegant way to allow client code to use the expressions `v.x` and `v.y` to read the x- and y-components of a vector, as though they were member variables (even though they're not), while still disallowing writing. This is done with the `@property` decorator. The version below is identical to the version above, except that the two getter methods now have the `@property` decorator above their definitions. Take a look at the slightly modified version of the code below and then we'll discuss it in detail."
   ]
  },
  {
   "cell_type": "code",
   "execution_count": 2,
   "metadata": {},
   "outputs": [
    {
     "name": "stdout",
     "output_type": "stream",
     "text": [
      "Creating a vector\n",
      "v = <__main__.Vector object at 0x111910cc0>\n",
      "\n",
      "Accessing its components\n",
      "v.x = 1.2\n",
      "v.y = 3.4\n",
      "\n",
      "Note that attempting to set its components raises an error!\n",
      "Caught an error while trying to set v.x to 5.6\n",
      "\n",
      "Note that in python we can always get around such restrictions if we violate protocol.\n",
      "If we really want to change the value of v.x, we can do it like this:\n",
      "v.x = 5.6\n"
     ]
    }
   ],
   "source": [
    "# Modify the Vector class to use @property for access to its x- and y-components.\n",
    "class Vector(object):\n",
    "    \"\"\"\n",
    "    Represents a two-dimensional vector, something with an x-component and a y-component.\n",
    "    \n",
    "    Knows how to perform basic vector operations on itself and on other vectors, such as\n",
    "    scaling and addition.\n",
    "    \"\"\"\n",
    "    def __init__(self, x, y):\n",
    "        # We use underscores in the names to indicate that these member variables are private.\n",
    "        self._x = x\n",
    "        self._y = y\n",
    "        \n",
    "    # Here we supply properties that give clients read-only access to the x and y coordinates.\n",
    "    @property\n",
    "    def x(self):\n",
    "        return self._x\n",
    "    \n",
    "    # Same as above, but for the y-component.\n",
    "    @property\n",
    "    def y(self):\n",
    "        return self._y\n",
    "    \n",
    "# Examples\n",
    "print(\"Creating a vector\")\n",
    "v = Vector(1.2, 3.4)\n",
    "print(\"v =\", v)\n",
    "\n",
    "print()\n",
    "print(\"Accessing its components\")\n",
    "print(\"v.x =\", v.x)\n",
    "print(\"v.y =\", v.y)\n",
    "\n",
    "print()\n",
    "print(\"Note that attempting to set its components raises an error!\")\n",
    "try:\n",
    "    v.x = 5.6\n",
    "except:\n",
    "    print(\"Caught an error while trying to set v.x to 5.6\")\n",
    "    \n",
    "print()\n",
    "print(\"Note that in python we can always get around such restrictions if we violate protocol.\")\n",
    "print(\"If we really want to change the value of v.x, we can do it like this:\")\n",
    "v._x = 5.6\n",
    "print(\"v.x =\", v.x)"
   ]
  },
  {
   "cell_type": "markdown",
   "metadata": {},
   "source": [
    "As we can see from the modified example section above, it is now possible to refer to the components of the vector `v` as `v.x` and `v.y` instead of the clunkier `v.x()` and `v.y()`. The methods we defined are still being called under the hood. Only the syntax has changed. This allows for a clearer class definition, because the x- and y-components feel like member variables, rather than methods. Conceptually, they truly are member variables. We only interpose the methods to protect them from being written to. The `@property` decorator allows us to treat them as read-only member variables. (Of course, we can still write to `v._x` and `v._y` if we are willing to break  convention.)\n",
    "\n",
    "It is beyond the scope of this tutorial to describe in detail how `@property` works under the hood, but let's talk about when one can use it. Whenever we have a method that only takes `self` as a single argument, we can decorate the method by putting `@property` above its definition. Doing so will allow us to \"call\" the method without employing open and close parentheses, e.g., via `my_obj.foo` instead of via `my_obj.foo()`. Things will look syntactically as though we're just reading a member variable. Don't try decorating with `@property` a method that takes more than `self` as arguments. It won't work, and, in fact, it would be meaningless, since we would have no way to pass the second arg to the method without using parentheses.\n",
    "\n",
    "We should also note that, having decorated the method `foo()` with `@property`, we can no longer call this method via `my_obj.foo()`. We *must* omit the parens and \"call\" it like `my_obj.foo`."
   ]
  },
  {
   "cell_type": "markdown",
   "metadata": {},
   "source": [
    "# Use @property to turn lazy calculations into properties\n",
    "We can use `@property` for more than just forcing member variables to be read-only. We can define any function of our object's member variables to be a property. This is usually a desireable thing to do when the property should always immediately change to reflect the current values of the variables from which it is calculated. Below is a typical example in which we define a `Rectangle` class with an `area` property."
   ]
  },
  {
   "cell_type": "code",
   "execution_count": 3,
   "metadata": {},
   "outputs": [
    {
     "name": "stdout",
     "output_type": "stream",
     "text": [
      "The current area of rectangle is 12\n",
      "We just changed rectangle.width to 10\n",
      "The area of rectangle is now 40\n"
     ]
    }
   ],
   "source": [
    "# Example of a class with a lazily calculated property.\n",
    "class Rectangle(object):\n",
    "    def __init__(self, width, height):\n",
    "        self.width  = width\n",
    "        self.height = height\n",
    "    \n",
    "    @property\n",
    "    def area(self):\n",
    "        return self.width * self.height\n",
    "    \n",
    "# Examples\n",
    "rectangle = Rectangle(3,4)\n",
    "print(\"The current area of rectangle is\", rectangle.area)\n",
    "\n",
    "rectangle.width = 10\n",
    "print(\"We just changed rectangle.width to 10\")\n",
    "\n",
    "print(\"The area of rectangle is now\", rectangle.area)"
   ]
  },
  {
   "cell_type": "markdown",
   "metadata": {},
   "source": [
    "By defining `area` as a property above, we ensure that it always reflects the area as a function of the current width and height of the rectangle. Note that this is a \"lazy\" calculation. We don't update the area whenever the width or height of the rectangle changes (which would be an \"eager\" calculation). We just calculate it whenever it is referenced. That is, every time `rectangle.area` is referenced, the method `Rectangle.area()` is called. The resulting value of area is not cached anywhere by the python system."
   ]
  },
  {
   "cell_type": "markdown",
   "metadata": {},
   "source": [
    "# Use @property to maintain consistency and to validate.\n",
    "In the example above, we used lazy calculation to calculate the area of a rectangle. That is the appropriate way to do things in this case, because the calculation is quick, so we don't need to cache the result. For the sake of argument, though, let's suppose that the area calculation were time intensive and that we therefore only want to calculate it when absolutely necessary, i.e., whenever the width or height of the rectangle changes, caching the result for future use (such a setup is called \"eager\" calculation). And suppose, further, we want to prevent client code from assigning non-positive values for width and height, since these are invalid. We can use `@property` to do both these things. The mechanism involves an aspect of `@property` that we have not seen yet. It allows us to intercept any changes to the member variables of Rectangle, running arbitrary code before changing their values. Take a look at the code below, and then we'll discuss it in detail.\n"
   ]
  },
  {
   "cell_type": "code",
   "execution_count": 4,
   "metadata": {},
   "outputs": [
    {
     "name": "stdout",
     "output_type": "stream",
     "text": [
      "The current area of rectangle is 12\n",
      "We just changed rectangle.width to 10\n",
      "The area of rectangle is now 40\n"
     ]
    }
   ],
   "source": [
    "class Rectangle(object):\n",
    "    def __init__(self, width, height):\n",
    "        # These private member variables are maintained by getters and setters.\n",
    "        self._width  = 1.0  # We have to set this to a valid value for the setter on line 12 to work.\n",
    "        self._height = 1.0  # We have to set this to a valid value for the setter on line 12 to work.\n",
    "        self._area   = None\n",
    "        \n",
    "        # We could have set the member variables above directly, but by invoking the getters and setters below,\n",
    "        # we ensure that Rectangle is not created with invalid width or height. Note also that, although there\n",
    "        # seems to be no explicit calculation of area done below, in fact it gets done twice implicitly:\n",
    "        # once when we set the width, and again when we set the height.\n",
    "        self.width  = width \n",
    "        self.height = height\n",
    "        \n",
    "    @property\n",
    "    def width(self):\n",
    "        return self._width\n",
    "    \n",
    "    # The method name \"width\" below is required. It must match the name of the property defined above.\n",
    "    @width.setter\n",
    "    def width(self, new_width):\n",
    "        assert new_width > 0, \"width must be greater than 0\"\n",
    "        self._width = new_width\n",
    "        self._area  = self._calc_area()\n",
    "        \n",
    "    \n",
    "    @property\n",
    "    def height(self):\n",
    "        return self._height\n",
    "    \n",
    "    # The method name \"height\" below is required. It must match the name of the property defined above.\n",
    "    @height.setter\n",
    "    def height(self, new_height):\n",
    "        assert new_height > 0, \"height must be greater than 0\"\n",
    "        self._height = new_height\n",
    "        self._area   = self._calc_area()\n",
    "    \n",
    "    # Note that we don't define a setter for area. It is read-only.\n",
    "    @property\n",
    "    def area(self):\n",
    "        return self._area\n",
    "    \n",
    "    def _calc_area(self):\n",
    "        return self.width * self.height\n",
    "    \n",
    "# Examples\n",
    "rectangle = Rectangle(3,4)\n",
    "print(\"The current area of rectangle is\", rectangle.area)\n",
    "\n",
    "rectangle.width = 10\n",
    "print(\"We just changed rectangle.width to 10\")\n",
    "\n",
    "print(\"The area of rectangle is now\", rectangle.area)"
   ]
  },
  {
   "cell_type": "markdown",
   "metadata": {},
   "source": [
    "On line 15 of the code above, when we use `@property` to decorate the `width()` method, it automatically generates a new decorator called `@width.setter`. When we use this decorator to decorate the method on line 21--which also _must_ be named `width`--we are telling python how to handle updates to the `width` property. Whenever any code invokes `rectangle.width = <blah>`, as on line 50 above, it is the setter method on line 21 that is called. The new value proposed for the `width` property--in this case 10--is passed in as an argument to the method. The method is solely responsible for handling the update. In this case, it not only updates the member variable `_width` on line 23, but it also makes sure the new proposed value is legal, raising an exception if it is not, and it further updates the `_area` member variable, whose value has also changed as a result of the change to `width`. If the setter fails to update the `_width` member variable, then the width property remains unchanged! Although this is legal, it will result in confusing code, since readers of the code on line 50 will naturally assume that it either changed the width as specified or raised an error.\n",
    "\n",
    "Note that the setter methods take an extra argument than the getter methods above. A getter method must always take just `self` as an argument, and a setter method must always take both `self` and `new_value` as arguments. (The names of course are arbitrary. We can name formal parameters any names we like. Even `self` is merely conventional, not required. There is nothing special about the name `self`.)\n",
    "\n",
    "Note also that the names of setter methods are required to match their property names, as illustrated on lines 21 and 33 above."
   ]
  },
  {
   "cell_type": "markdown",
   "metadata": {},
   "source": [
    "# Properties Summarized\n",
    "In sum, the `@property` decorator allows us to create something called a property. A property looks like a member variable, syntactically, but is read and updated via getter and setter methods that we define. When we decorate a method with `@property`, we are defining the getter method for a property of the same name as the method. By so doing, we automatically generate a new decorator to be the setter. If the name of the property is `foo`, then the name of the setter decorator becomes `@foo.setter`. We can use this decorator to define a setter method for the property `foo` if we wish. If we don't define a setter method, then setting the property remains an illegal operation and the property remains read-only."
   ]
  },
  {
   "cell_type": "code",
   "execution_count": null,
   "metadata": {
    "collapsed": true
   },
   "outputs": [],
   "source": []
  }
 ],
 "metadata": {
  "kernelspec": {
   "display_name": "Python 3",
   "language": "python",
   "name": "python3"
  },
  "language_info": {
   "codemirror_mode": {
    "name": "ipython",
    "version": 3
   },
   "file_extension": ".py",
   "mimetype": "text/x-python",
   "name": "python",
   "nbconvert_exporter": "python",
   "pygments_lexer": "ipython3",
   "version": "3.6.3"
  }
 },
 "nbformat": 4,
 "nbformat_minor": 2
}
