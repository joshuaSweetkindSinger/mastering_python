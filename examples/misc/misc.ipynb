{
 "cells": [
  {
   "cell_type": "markdown",
   "metadata": {},
   "source": [
    "# Overview\n",
    "This file contains examples illustrating various important miscellaneous features of the python language."
   ]
  },
  {
   "cell_type": "markdown",
   "metadata": {},
   "source": [
    "# The zip() builtin function\n",
    "\n",
    "The zip() built-in function is an ingenious way to handle a common problem of data organization related to lists and tuples.\n",
    "\n",
    "Suppose you are dealing with multiple (x,y) coordinates that need to be plotted, i.e.: (x1, y1), (x2, y2), (x3, y3), etc.\n",
    "Depending on the case at hand, it may be desirable at any given time to have the data represented either as two lists, like this:\n",
    " \n",
    " x_coords = [x1, x2, x3, ..., xn]\n",
    " y_coords = [y1, y2, y3, ..., yn]\n",
    " \n",
    "OR as a single list of pairs, like this:\n",
    "\n",
    "  xy_coords = [(x1, y1), (x2, y2), (x3, y3) ..., (xn, yn)]. \n",
    "  \n",
    "The zip() function lets you go concisely back and forth between these two representations."
   ]
  },
  {
   "cell_type": "code",
   "execution_count": 1,
   "metadata": {},
   "outputs": [
    {
     "name": "stdout",
     "output_type": "stream",
     "text": [
      "[100, 200, 300]\n[4, 5, 6]\n"
     ]
    }
   ],
   "source": [
    "x_coords = [100, 200, 300]\n",
    "y_coords = [4, 5, 6]\n",
    "\n",
    "print(x_coords)\n",
    "print(y_coords)"
   ]
  },
  {
   "cell_type": "code",
   "execution_count": 2,
   "metadata": {},
   "outputs": [
    {
     "name": "stdout",
     "output_type": "stream",
     "text": [
      "[(100, 4), (200, 5), (300, 6)]\n"
     ]
    }
   ],
   "source": [
    "xy_coords_iterator = zip(x_coords, y_coords)  # zip() returns an iterator object\n",
    "xy_coords          = list(xy_coords_iterator) # Let's just turn it back into a list so we can see it more easily. \n",
    "\n",
    "print(xy_coords)"
   ]
  },
  {
   "cell_type": "code",
   "execution_count": 3,
   "metadata": {},
   "outputs": [
    {
     "name": "stdout",
     "output_type": "stream",
     "text": [
      "[100, 200, 300]\n[4, 5, 6]\n"
     ]
    }
   ],
   "source": [
    "restored_coords_iterator = zip(*xy_coords) # Restore the x-coords and y-coords to separate data structures\n",
    "x_coords_again           = list(next(restored_coords_iterator))\n",
    "y_coords_again           = list(next(restored_coords_iterator))\n",
    "\n",
    "print(x_coords_again)\n",
    "print(y_coords_again)"
   ]
  },
  {
   "cell_type": "code",
   "execution_count": 4,
   "metadata": {
    "collapsed": true
   },
   "outputs": [],
   "source": []
  },
  {
   "cell_type": "markdown",
   "metadata": {},
   "source": []
  }
 ],
 "metadata": {
  "kernelspec": {
   "display_name": "Python 3",
   "language": "python",
   "name": "python3"
  },
  "language_info": {
   "codemirror_mode": {
    "name": "ipython",
    "version": 3
   },
   "file_extension": ".py",
   "mimetype": "text/x-python",
   "name": "python",
   "nbconvert_exporter": "python",
   "pygments_lexer": "ipython3",
   "version": "3.6.3"
  }
 },
 "nbformat": 4,
 "nbformat_minor": 2
}
