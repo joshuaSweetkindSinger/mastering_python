{
 "cells": [
  {
   "cell_type": "markdown",
   "metadata": {},
   "source": [
    "# Overview\n",
    "This tutorial introduces the basics of object-oriented programming in python by developing an example of a two-dimensional simulated universe whose objects change their states--such as location or velocity--according to their own physics, at each time epoch.\n",
    "\n",
    "The introduction to OOP in python is by no means comprehensive, but it should provide a good introduction to the most important language components.\n",
    "\n",
    "# Introducing the Vector class\n",
    "Everything will be built on top of the `Vector` class, which enables the universe's objects to have things like locations and velocities. So we begin by defining that first. We'll decide to make instances of class `Vector` immutable, which means that, once created, their (x,y) coordinates cannot be changed. This is a design choice. We didn't need to do it this way, but it makes sense for this class and it also will help illustrate some useful python concepts, such as the `@property` decorator.\n",
    "\n",
    "Review the class definition and the examples of its use below, and then we'll discuss what is going on in more detail. Please read all of the comments, i.e., those that begin with a hash-mark, `#`, as they contain instructional material. "
   ]
  },
  {
   "cell_type": "code",
   "execution_count": 1,
   "metadata": {},
   "outputs": [
    {
     "name": "stdout",
     "output_type": "stream",
     "text": [
      "Creating a vector\n",
      "v = <__main__.Vector object at 0x1037fb128>\n",
      "\n",
      "Accessing its components\n",
      "v.x() = 1.2\n",
      "v.y() = 3.4\n",
      "\n",
      "Note that in python we can always get around read-only restrictions if we violate protocol.\n",
      "If we really want to change the value of v._x, we can do it.\n",
      "v.x() = 5.6\n"
     ]
    }
   ],
   "source": [
    "class Vector(object):\n",
    "    \"\"\"\n",
    "    Represents a two-dimensional vector, something with an x-component and a y-component.\n",
    "    \n",
    "    Knows how to perform basic vector operations on itself and on other vectors, such as\n",
    "    scaling and addition.\n",
    "    \"\"\"\n",
    "    def __init__(self, x, y):\n",
    "        # We use underscores in the names to indicate that these member variables are private.\n",
    "        self._x = x\n",
    "        self._y = y\n",
    "        \n",
    "    # Here we supply getter methods that give clients read-only access to the x and y coordinates.\n",
    "    def x(self):\n",
    "        return self._x\n",
    "    \n",
    "    def y(self):\n",
    "        return self._y\n",
    "    \n",
    "# Examples\n",
    "print(\"Creating a vector\")\n",
    "v = Vector(1.2, 3.4)\n",
    "print(\"v =\", v)\n",
    "\n",
    "print()\n",
    "print(\"Accessing its components\")\n",
    "print(\"v.x() =\", v.x())\n",
    "print(\"v.y() =\", v.y())\n",
    "    \n",
    "print()\n",
    "print(\"Note that in python we can always get around read-only restrictions if we violate protocol.\")\n",
    "print(\"If we really want to change the value of v._x, we can do it.\")\n",
    "v._x = 5.6\n",
    "print(\"v.x() =\", v.x())\n",
    "        "
   ]
  },
  {
   "cell_type": "markdown",
   "metadata": {},
   "source": [
    "There are several things to note about the code example above. \n",
    "\n",
    "## Inherit from class object\n",
    "Note that our base class `Vector` inherits from the class `object`. Our base classes should always do this.\n",
    "\n",
    "## Define an __init__ method if necessary\n",
    "The `__init__()` method is a special method. (In fact, all methods beginning and ending with two underscores, known as \"dunders\" in python (for \"double under\"), are special methods). It tells python how to initialize instances of class `Vector`. By creating an `__init__()` method with two args (`x` and `y`), we tell the python interpreter that we expect vectors to be created like so: `Vector(x, y)`, as is done on line 22 above. The `__init__()` method is called when the Vector object is created to initialize its member variables.\n",
    "\n",
    "It is not always necessary to create an `__init__()` method. Every class always inherits an `__init__()` method from its parent. Sometimes, that method will work just fine, so there is no reason to create a new one. In the case of `Vector`, which inherits from `object`, a new method needs to be created, because the default `__init__()`  method on `object` takes 0 args, and we want to initialize our vectors with two args.\n",
    "\n",
    "\n",
    "## Make things private using underscores\n",
    "In python, by convention, whenever a variable, function, or method name begins with an underscore, it is private. That means that client code should not attempt to read it, write it, or call it, as the case may be. Only the code that \"owns\" it (typically the class it belongs to), should do these things. It is good form, when defining a class, to clearly demarcate its public interface. Those member variables and methods that are not named with leading underscores are deemed part of its public interface. Client code is free to both read and write the public member variables of an object, and it is free to call the public methods of an object. _Everything else is off limits._\n",
    "\n",
    "We don't want client code to be able to change the values of a vector's x and y components, but we do want client code to be able to read them. Naming our member variables `self._x` and `self._y` prevents client code from modifying them. In order to grant read-access to them, we created the public methods x() and y().\n",
    "\n",
    "\n"
   ]
  },
  {
   "cell_type": "markdown",
   "metadata": {},
   "source": [
    "# Make read-only properties with @property\n",
    "There is nothing wrong with our first draft of `Vector`, but it does seem a bit of a shame that we have to access a vector's x- and y-components via getter methods, e.g., `v.x()` and `v.y()`, rather than just accessing them like member variables, e.g., `v.x` and `v.y`. If `x` and `y` were public member variables, we'd be able to access them directly. It's only because they're private that we had to resort to getter methods.\n",
    "\n",
    "In python, there is an elegant way to allow client code to use the expressions `v.x` and `v.y` to read the x- and y-components of a vector, as though they were member variables (even though they're not), while still disallowing writing. This is done with the `@property` decorator. The version below is identical to the version above, except that the two getter methods now have the `@property` decorator above their definitions. Take a look at the slightly modified version of the code below and then we'll discuss it in detail."
   ]
  },
  {
   "cell_type": "code",
   "execution_count": 2,
   "metadata": {},
   "outputs": [
    {
     "name": "stdout",
     "output_type": "stream",
     "text": [
      "Creating a vector\n",
      "v = <__main__.Vector object at 0x104cf9b00>\n",
      "\n",
      "Accessing its components\n",
      "v.x = 1.2\n",
      "v.y = 3.4\n",
      "\n",
      "Note that attempting to set its components raises an error!\n",
      "Caught an error while trying to set v.x to 5.6\n",
      "\n",
      "Note that in python we can always get around such restrictions if we violate protocol.\n",
      "If we really want to change the value of v.x, we can do it like this:\n",
      "v.x = 5.6\n"
     ]
    }
   ],
   "source": [
    "# Modify the Vector class to use @property for access to its x- and y-components.\n",
    "class Vector(object):\n",
    "    \"\"\"\n",
    "    Represents a two-dimensional vector, something with an x-component and a y-component.\n",
    "    \n",
    "    Knows how to perform basic vector operations on itself and on other vectors, such as\n",
    "    scaling and addition.\n",
    "    \"\"\"\n",
    "    def __init__(self, x, y):\n",
    "        # We use underscores in the names to indicate that these member variables are private.\n",
    "        self._x = x\n",
    "        self._y = y\n",
    "        \n",
    "    # Here we supply properties that give clients read-only access to the x and y coordinates.\n",
    "    @property\n",
    "    def x(self):\n",
    "        return self._x\n",
    "    \n",
    "    # Same as above, but for the y-component.\n",
    "    @property\n",
    "    def y(self):\n",
    "        return self._y\n",
    "    \n",
    "# Examples\n",
    "print(\"Creating a vector\")\n",
    "v = Vector(1.2, 3.4)\n",
    "print(\"v =\", v)\n",
    "\n",
    "print()\n",
    "print(\"Accessing its components\")\n",
    "print(\"v.x =\", v.x)\n",
    "print(\"v.y =\", v.y)\n",
    "\n",
    "print()\n",
    "print(\"Note that attempting to set its components raises an error!\")\n",
    "try:\n",
    "    v.x = 5.6\n",
    "except:\n",
    "    print(\"Caught an error while trying to set v.x to 5.6\")\n",
    "    \n",
    "print()\n",
    "print(\"Note that in python we can always get around such restrictions if we violate protocol.\")\n",
    "print(\"If we really want to change the value of v.x, we can do it like this:\")\n",
    "v._x = 5.6\n",
    "print(\"v.x =\", v.x)"
   ]
  },
  {
   "cell_type": "markdown",
   "metadata": {},
   "source": [
    "As we can see from the modified example section above, it is now possible to refer to the components of the vector `v` as `v.x` and `v.y` instead of the clunkier `v.x()` and `v.y()`. The methods we defined are still being called under the hood. Only the syntax has changed. This allows for a clearer class definition, because the x- and y-components feel like member variables, rather than methods. Conceptually, they truly should be member variables. We only interpose the methods to protect them from being written to. The `@property` decorator allows us to treat them as read-only member variables. (Of course, we can still write to `v._x` and `v._y` if we are willing to break  convention.)\n",
    "\n",
    "It is beyond the scope of this tutorial to describe in detail how `@property` works under the hood, but let's talk about when one can use it. Whenever we have a method that only takes `self` as a single argument, we can decorate the method by putting `@property` above its definition. Doing so will allow us to \"call\" the method without employing open and close parentheses, e.g., via `my_obj.foo` instead of via `my_obj.foo()`. Things will look syntactically as though we're just reading a member variable. Don't try decorating with `@property` a method that takes more than `self` as arguments. It won't work, and, in fact, it would be meaningless, since we would have no way to pass the second arg to the method without using parentheses.\n",
    "\n",
    "We should also note that, having decorated the method `foo()` with `@property`, we can no longer call this method via `my_obj.foo()`. We *must* omit the parens and \"call\" it like `my_obj.foo`."
   ]
  },
  {
   "cell_type": "markdown",
   "metadata": {},
   "source": [
    "# Use @property to turn lazy calculations into properties\n",
    "We can use `@property` for more than just forcing member variables to be read-only. We can define any function of our object's member variables to be a property. This is usually a desireable thing to do when the property should always immediately change to reflect the current values of the variables from which it is calculated. Below is a typical example in which we define a `Rectangle` class with an `area` property."
   ]
  },
  {
   "cell_type": "code",
   "execution_count": 3,
   "metadata": {},
   "outputs": [
    {
     "name": "stdout",
     "output_type": "stream",
     "text": [
      "The current area of rectangle is 12\n",
      "We just changed rectangle.width to 10\n",
      "The area of rectangle is now 40\n"
     ]
    }
   ],
   "source": [
    "# Example of a class with a lazily calculated property.\n",
    "class Rectangle(object):\n",
    "    \"\"\"\n",
    "    Represents a rectangle. Knows its width and height. Knows its area.\n",
    "    \"\"\"\n",
    "    def __init__(self, width, height):\n",
    "        self.width  = width\n",
    "        self.height = height\n",
    "    \n",
    "    @property\n",
    "    def area(self):\n",
    "        return self.width * self.height\n",
    "    \n",
    "# Examples\n",
    "rectangle = Rectangle(3,4)\n",
    "print(\"The current area of rectangle is\", rectangle.area)\n",
    "\n",
    "rectangle.width = 10\n",
    "print(\"We just changed rectangle.width to 10\")\n",
    "\n",
    "print(\"The area of rectangle is now\", rectangle.area)"
   ]
  },
  {
   "cell_type": "markdown",
   "metadata": {},
   "source": [
    "By defining `area` as a property above, we ensure that it always reflects the area as a function of the current width and height of the rectangle. Note that this is a \"lazy\" calculation. We don't update the area whenever the width or height of the rectangle changes (which would be an \"eager\" calculation). We just calculate it whenever it is referenced. That is, every time `rectangle.area` is referenced, the method `Rectangle.area()` is called. The resulting value of area is not cached anywhere by the python system."
   ]
  },
  {
   "cell_type": "markdown",
   "metadata": {},
   "source": [
    "# Use @property to validate\n",
    "In the example above, we purposely did not make `Rectangle` immutable (notice that `width` and `height` do not have leading underscores). If it had been immutable, client code could never change the width or height of a rectangle, and there would be no need for a lazy recalculation of area. But with the ability to change width and height comes the potential for problems, because neither of these quantities should ever be non-positive. What happens if client code doesn't realize this and mistakenly sets one of them to a negative number?\n",
    "\n",
    "Ideally, the `Rectangle` class should be should take \"ownership\" of validating that its state is consistent, raising an exception whenever it becomes inconsistent. we can use `@property` to perform this validation for us. The mechanism involves an aspect of `@property` that we have not seen yet. It allows us to intercept any changes to the member variables of Rectangle, running arbitrary code before changing their values. Take a look at the code below, and then we'll discuss it in detail.\n"
   ]
  },
  {
   "cell_type": "code",
   "execution_count": 11,
   "metadata": {},
   "outputs": [
    {
     "name": "stdout",
     "output_type": "stream",
     "text": [
      "We just created a rectangle: <__main__.Rectangle object at 0x104d30358>\n",
      "The current area of rectangle is 12\n",
      "We just changed rectangle.width to 10\n",
      "The area of rectangle is now 40\n",
      "Got an error when setting width to 0: width must be greater than 0\n"
     ]
    }
   ],
   "source": [
    "class Rectangle(object):\n",
    "    \"\"\"\n",
    "    Represents a rectangle. Knows its width and height. Automatically updates its area\n",
    "    in response to changes in its width or height. Disallows setting of non-positive width or height.\n",
    "    \"\"\"\n",
    "    def __init__(self, width, height):\n",
    "        # Define our member variables. Not required, but good form.\n",
    "        self._width  = None\n",
    "        self._height = None\n",
    "    \n",
    "        # Invoke setters\n",
    "        self.width  = width \n",
    "        self.height = height\n",
    "        \n",
    "    @property\n",
    "    def width(self):\n",
    "        return self._width\n",
    "    \n",
    "    # The method name \"width\" below is required. It must match the name of the property defined above.\n",
    "    @width.setter\n",
    "    def width(self, new_width):\n",
    "        assert new_width > 0, \"width must be greater than 0\"\n",
    "        self._width = new_width        \n",
    "    \n",
    "    @property\n",
    "    def height(self):\n",
    "        return self._height\n",
    "    \n",
    "    # The method name \"height\" below is required. It must match the name of the property defined above.\n",
    "    @height.setter\n",
    "    def height(self, new_height):\n",
    "        assert new_height > 0, \"height must be greater than 0\"\n",
    "        self._height = new_height\n",
    "    \n",
    "    # Note that we don't define a setter for area. It is read-only.\n",
    "    @property\n",
    "    def area(self):\n",
    "        return self.width * self.height\n",
    "    \n",
    "# Examples\n",
    "rectangle = Rectangle(3,4)\n",
    "print(\"We just created a rectangle:\", rectangle)\n",
    "print(\"The current area of rectangle is\", rectangle.area)\n",
    "\n",
    "rectangle.width = 10\n",
    "print(\"We just changed rectangle.width to 10\")\n",
    "print(\"The area of rectangle is now\", rectangle.area)\n",
    "\n",
    "try:\n",
    "    rectangle.width = 0\n",
    "except Exception as e:\n",
    "    print(\"Got an error when setting width to 0:\", e)"
   ]
  },
  {
   "cell_type": "markdown",
   "metadata": {},
   "source": [
    "When we use `@property` to decorate the `width()` method on line 19 above, it automatically generates a new decorator called `@width.setter`. When we use this decorator to decorate the method on line 24--which also _must_ be named `width`--we are telling python how to handle updates to the `width` property. Whenever any code invokes `rectangle.width = <blah>`, as on line 48 above, it is the setter method on line 24 that is called. The new value proposed for the `width` property--in this case 10--is passed in as an argument to the method. The method is solely responsible for handling the update. In our case, we not only have it update the member variable `_width` on line 26, but we also make sure the new proposed value is legal, raising an exception if it is not. If our setter had chosen not to update the `_width` member variable at all, then the width property would have remained unchanged! Although this would have been legal, it would have resulted in confusing code, since readers of the code on line 48 will naturally assume that it either changed the width as specified or raised an error.\n",
    "\n",
    "Note that setter methods take an extra argument than getter methods. A getter method must always take just `self` as an argument, and a setter method must always take both `self` and `new_value` as arguments. (The names of course are arbitrary. We can name formal parameters any names we like. Even `self` is merely conventional, not required. There is nothing special about the name `self`.)\n",
    "\n",
    "Note also that the names of setter methods are required to match their property names, as illustrated on lines 24 and 34 above.\n",
    "\n",
    "We also offer a couple of notes on style. On lines 8 and 9 above, we define our member variables `_width` and `_height` and give them default values of `None`. Strictly speaking, this isn't necessary in python, but it is considered good form to explicitly define all of an object's member variables within its `__init__()` method.\n",
    "\n",
    "In the two lines that follow, lines 12 and 13, we invoke the setters. We could have simply set the member variables above directly and validated their values inline directly, but that would have been copy-coding. This way, if the operational semantics of the setters ever changes, we get that for free in the `__init__()` method."
   ]
  },
  {
   "cell_type": "markdown",
   "metadata": {},
   "source": [
    "# Use @property to maintain consistency.\n",
    "In the example above, we used lazy calculation to calculate the area of a rectangle. That is the appropriate way to do things in this case, because the calculation is quick, so we don't need to cache the result. For the sake of argument, though, let's suppose that the area calculation were time-intensive and that we therefore only want to calculate it when absolutely necessary, i.e., whenever the width or height of the rectangle changes, caching the result for future use (such a setup is called \"eager\" calculation). We can use `@property` to do this too. Take a look at the code below, and then we'll discuss it in detail.\n"
   ]
  },
  {
   "cell_type": "code",
   "execution_count": 13,
   "metadata": {},
   "outputs": [
    {
     "name": "stdout",
     "output_type": "stream",
     "text": [
      "We just created a rectangle: <__main__.Rectangle object at 0x104d07208>\n",
      "The current area of rectangle is 12\n",
      "We just changed rectangle.width to 10\n",
      "The area of rectangle is now 40\n",
      "Got an error when setting width to 0: width must be greater than 0\n"
     ]
    }
   ],
   "source": [
    "class Rectangle(object):\n",
    "    \"\"\"\n",
    "    Represents a rectangle. Knows its width and height. Automatically updates its area\n",
    "    in response to changes in its width or height. Disallows setting of non-positive width or height.\n",
    "    \"\"\"\n",
    "    def __init__(self, width, height):\n",
    "        # These private member variables are maintained by getters and setters.\n",
    "        self._width  = 1.0  # We have to set this to a valid value for the update on line 16 to work.\n",
    "        self._height = 1.0  # We have to set this to a valid value for the update on line 16 to work.\n",
    "        self._area   = None\n",
    "        \n",
    "        self.width  = width \n",
    "        self.height = height\n",
    "        \n",
    "    @property\n",
    "    def width(self):\n",
    "        return self._width\n",
    "    \n",
    "    # We \"eagerly\" recalculate the area whenever width changes.\n",
    "    @width.setter\n",
    "    def width(self, new_width):\n",
    "        assert new_width > 0, \"width must be greater than 0\"\n",
    "        self._width = new_width\n",
    "        self._area  = self._calc_area()\n",
    "        \n",
    "    \n",
    "    @property\n",
    "    def height(self):\n",
    "        return self._height\n",
    "    \n",
    "    # We eagerly recalculate the area whenever height changes.\n",
    "    @height.setter\n",
    "    def height(self, new_height):\n",
    "        assert new_height > 0, \"height must be greater than 0\"\n",
    "        self._height = new_height\n",
    "        self._area   = self._calc_area()\n",
    "    \n",
    "    # Note that we don't define a setter for area. It remains read-only.\n",
    "    @property\n",
    "    def area(self):\n",
    "        return self._area\n",
    "    \n",
    "    def _calc_area(self):\n",
    "        return self.width * self.height\n",
    "    \n",
    "# Examples\n",
    "rectangle = Rectangle(3,4)\n",
    "print(\"We just created a rectangle:\", rectangle)\n",
    "print(\"The current area of rectangle is\", rectangle.area)\n",
    "\n",
    "rectangle.width = 10\n",
    "print(\"We just changed rectangle.width to 10\")\n",
    "print(\"The area of rectangle is now\", rectangle.area)\n",
    "\n",
    "try:\n",
    "    rectangle.width = 0\n",
    "except Exception as e:\n",
    "    print(\"Got an error when setting width to 0:\", e)"
   ]
  },
  {
   "cell_type": "markdown",
   "metadata": {},
   "source": [
    "In the above revision, the setters not only update `width` or `height` as appropriate, but also update the new `_area` member variable, which depends on both of them. \n",
    "\n",
    "Note some subtle changes to the code. When the `width` setter is implicitly invoked on line 12 above, it attempts to re-calculate the value for `_area`. If the value of `height` at this time were `None`, then this calculation would raise an exception. That's why we can no longer initialize `_width` and `_height` to `None`. We have to give them default values that won't crash the area calculation."
   ]
  },
  {
   "cell_type": "markdown",
   "metadata": {},
   "source": [
    "# Properties Summarized\n",
    "In sum, the `@property` decorator allows us to create something called a property. A property looks like a member variable, syntactically, but is read and updated via getter and setter methods that we define. When we decorate a method with `@property`, we are defining the getter method for a property of the same name as the method. By so doing, we automatically generate a new decorator to be the setter. If the name of the property is `foo`, then the name of the setter decorator becomes `@foo.setter`. We can use this decorator to define a setter method for the property `foo` if we wish. If we don't define a setter method, then setting the property remains an illegal operation and the property remains read-only."
   ]
  },
  {
   "cell_type": "markdown",
   "metadata": {},
   "source": [
    "# Use __repr__() to print objects nicely\n",
    "The standard way that python prints our `Rectangle` and `Vector` instances is not very pretty, or informative. We can tell python to print them out differently by defining `__repr__()` methods for their classes. This is straightforward and is illustrated below. \n",
    "\n",
    "As a side note, all the python \"hooks\" into its interpreter are methods whose names begin and end with double underscores, known to pythonistas as \"dunders\" (for \"double under\"). These methods are also sometimes referred to as \"magic\" methods. `__init__()` is the most common such method. `__repr__()` is another. And there are many more that allow us to customize the way our objects behave when they interact with the components of the python language."
   ]
  },
  {
   "cell_type": "code",
   "execution_count": 5,
   "metadata": {},
   "outputs": [
    {
     "name": "stdout",
     "output_type": "stream",
     "text": [
      "We just created my_vector as: #v(1.2, 3.4)\n",
      "We just created my_rectangle as: <Rectangle: width = 5.6, height = 7.8>\n"
     ]
    }
   ],
   "source": [
    "# Modify the Vector class to print its instances nicely.\n",
    "class Vector(object):\n",
    "    \"\"\"\n",
    "    Represents a two-dimensional vector, something with an x-component and a y-component.\n",
    "    \n",
    "    Knows how to perform basic vector operations on itself and on other vectors, such as\n",
    "    scaling and addition.\n",
    "    \"\"\"\n",
    "    def __init__(self, x, y):\n",
    "        self._x = x\n",
    "        self._y = y\n",
    "        \n",
    "    # Here we tell the class how to format instances of itself for printing. We just have to return a string.\n",
    "    # The form is arbitrary. We can return whatever string we want.\n",
    "    def __repr__(self):\n",
    "        return \"#v({x}, {y})\".format(x = self.x, y = self.y)\n",
    "        \n",
    "    @property\n",
    "    def x(self):\n",
    "        return self._x\n",
    "    \n",
    "    @property\n",
    "    def y(self):\n",
    "        return self._y\n",
    "    \n",
    "    \n",
    "# Modify the Rectangle class to print its instances nicely.\n",
    "class Rectangle(object):\n",
    "    \"\"\"\n",
    "    Represents a rectangle. Knows its width and height. Automatically updates its area\n",
    "    in response to changes in its width or height.\n",
    "    \"\"\"\n",
    "    def __init__(self, width, height):\n",
    "        self._width  = 1.0  # We have to set this to a valid value for the setter on line 12 to work.\n",
    "        self._height = 1.0  # We have to set this to a valid value for the setter on line 12 to work.\n",
    "        self._area   = None\n",
    "        \n",
    "        self.width  = width \n",
    "        self.height = height\n",
    "        \n",
    "    # Here we choose a different kind of representation for Rectangle than we did for Vector.\n",
    "    # We also incidentally point out that you don't have to hardcode the name of a class. A classn\n",
    "    # can discover its own name at runtime.\n",
    "    def __repr__(self):\n",
    "        return \"<{name}: width = {width}, height = {height}>\".format(name = self.__class__.__name__,\n",
    "                                                                           width = self.width, \n",
    "                                                                           height = self.height)\n",
    "        \n",
    "    @property\n",
    "    def width(self):\n",
    "        return self._width\n",
    "    \n",
    "    @width.setter\n",
    "    def width(self, new_width):\n",
    "        assert new_width > 0, \"width must be greater than 0\"\n",
    "        self._width = new_width\n",
    "        self._area  = self._calc_area()\n",
    "        \n",
    "    \n",
    "    @property\n",
    "    def height(self):\n",
    "        return self._height\n",
    "    \n",
    "    @height.setter\n",
    "    def height(self, new_height):\n",
    "        assert new_height > 0, \"height must be greater than 0\"\n",
    "        self._height = new_height\n",
    "        self._area   = self._calc_area()\n",
    "    \n",
    "    @property\n",
    "    def area(self):\n",
    "        return self._area\n",
    "    \n",
    "    def _calc_area(self):\n",
    "        return self.width * self.height\n",
    "    \n",
    "# Examples\n",
    "my_vector = Vector(1.2, 3.4)\n",
    "my_rectangle = Rectangle(5.6, 7.8)\n",
    "print(\"We just created my_vector as:\", my_vector)\n",
    "print(\"We just created my_rectangle as:\", my_rectangle)\n"
   ]
  },
  {
   "cell_type": "markdown",
   "metadata": {},
   "source": [
    "# Class Variables\n",
    "Classes are proper objects in python. And they have attributes, just as all objects have attributes. For example, all the methods of a class are attributes of the class. Their values just happen to be functions. Here are some examples to illustrate."
   ]
  },
  {
   "cell_type": "code",
   "execution_count": 15,
   "metadata": {},
   "outputs": [
    {
     "name": "stdout",
     "output_type": "stream",
     "text": [
      "Here is class Vector: <class '__main__.Vector'>\n",
      "Here is class Rectangle: <class '__main__.Rectangle'>\n",
      "Here is the _calc_area() method of class Rectangle: <function Rectangle._calc_area at 0x104cf52f0>\n",
      "Here is the x-property of class Vector: <property object at 0x104d0b2c8>\n"
     ]
    }
   ],
   "source": [
    "print(\"Here is class Vector:\", Vector)\n",
    "print(\"Here is class Rectangle:\", Rectangle)\n",
    "print(\"Here is the _calc_area() method of class Rectangle:\", Rectangle._calc_area)\n",
    "print(\"Here is the x-property of class Vector:\", Vector.x)"
   ]
  },
  {
   "cell_type": "markdown",
   "metadata": {},
   "source": [
    "Note that by \"attribute\", we mean anything that can follow a \"dot\". In the above, `x` is an attribute of class `Vector` because one can write `Vector.x`.\n",
    "\n",
    "Classes can have attributes other than methods. Class attributes can be variables too. In practice, most often these \"variables\" are used as symbolic constants, whose values never change. The example below is somewhat contrived, but nonetheless illustrates a typical case. "
   ]
  },
  {
   "cell_type": "markdown",
   "metadata": {},
   "source": [
    "## Example--Rectangles With Color\n",
    "Suppose we endow our rectangles with color. Suppose further than all rectangles within a given subclass must have the _same_ color. The way to implement this is with a class variable."
   ]
  },
  {
   "cell_type": "code",
   "execution_count": 50,
   "metadata": {},
   "outputs": [
    {
     "name": "stdout",
     "output_type": "stream",
     "text": [
      "My color is CLEAR\n",
      "My color is BLUE\n",
      "My color is RED\n",
      "My color is RED\n",
      "Now we are defying convention and globally changing the value of COLOR for red rectangles to CRIMSON\n",
      "My color is CRIMSON\n",
      "My color is CRIMSON\n"
     ]
    }
   ],
   "source": [
    "# This example endows rectangle objects with color, to illustrate class variables.\n",
    "\n",
    "class ColoredRectangle(Rectangle):\n",
    "    \"\"\"\n",
    "    Represents a colored rectangle. Knows its width, height. and color. Automatically updates its area\n",
    "    in response to changes in its width or height. Disallows setting of non-positive width or height.\n",
    "    Knows how to declare its color. All rectangles of the same subclass share the same color.\n",
    "    \"\"\"\n",
    "    COLOR = 'CLEAR' # Default color for colored rectangles.\n",
    "        \n",
    "    # Define a method that prints out the color of a rectangle.\n",
    "    def declare_color(self):\n",
    "        \"\"\"\n",
    "        Print out a sentence that asserts the color we have.\n",
    "        \"\"\"\n",
    "        print(\"My color is {color}\".format(color = self.COLOR))\n",
    "    \n",
    "    \n",
    "class BlueRectangle(ColoredRectangle):\n",
    "    \"\"\"\n",
    "    The class of all blue rectangles\n",
    "    \"\"\"\n",
    "    COLOR = 'BLUE' # All BlueRectangle instances are blue.\n",
    "    \n",
    "    \n",
    "class RedRectangle(ColoredRectangle):\n",
    "    \"\"\"\n",
    "    The class of all red rectangles\n",
    "    \"\"\"\n",
    "    COLOR = 'RED' # All RedRectangle instances are red.\n",
    "    \n",
    "# Examples\n",
    "rectangle = ColoredRectangle(3,4)\n",
    "rectangle.declare_color()\n",
    "\n",
    "blue_rectangle = BlueRectangle(1,2)\n",
    "blue_rectangle.declare_color()\n",
    "\n",
    "red_rectangle1 = RedRectangle(5,6)\n",
    "red_rectangle2 = RedRectangle(7,8)\n",
    "red_rectangle1.declare_color()\n",
    "red_rectangle2.declare_color()\n",
    "\n",
    "print(\"Now we are defying convention and globally changing the value of COLOR for red rectangles to CRIMSON\")\n",
    "RedRectangle.COLOR = 'CRIMSON' # This is an example only. In real life, we would not defy convention like this.\n",
    "\n",
    "# Now the color of all instances of RedRectangle is CRIMSON\n",
    "red_rectangle1.declare_color()\n",
    "red_rectangle2.declare_color()"
   ]
  },
  {
   "cell_type": "markdown",
   "metadata": {},
   "source": [
    "The above is a typical example of how we handle the situation in which all instances of a class share the same value for an attribute: we make it a class variable. We _could_ have given all blue rectangles their own member variable called `_color`, initialized it to \"BLUE\" within the `__init()__` method in each case, and created a read-only property to protect it from being changed by client-code, but using a class-level symbolic constant `COLOR` gets the job done both more succinctly and more efficiently. With this architecture, there is only one color variable per class, as opposed to one color member variable per instance.\n",
    "\n",
    "Note that, because we have named the variable with all caps, i.e., `COLOR`, as opposed to `color`, we are indicating that the variable be treated as a symbolic constant _whose value should not be changed_. This is a convention, just as the leading underscore for private variables is a convention. One _can_ change the value of the class constant `COLOR` if one is determined to subvert the convention."
   ]
  },
  {
   "cell_type": "markdown",
   "metadata": {},
   "source": [
    "## Inheritance for class variables\n",
    "On line 16 above, notice that we access the class variable via `self.COLOR`. This requires some explaining, since `self` points to an instance, not to a class. In python, if an attribute reference such as `self.COLOR` cannot be resolved on the instance itself, the python interpreter looks to each of the instance's class parents (and their parents, and so on, the exact order being determined by the _method resolution order_), searching for the attribute in question. So, for example, when, on line 37, we evaluate `blue_rectangle.declare_color()`, this invokes the `declare_color()` method on line 12, and, on line 16 we evaluate `self.COLOR`, where `self` points to an instance of `BlueRectangle`. Since the instance has no member variable called `COLOR` the interpreter looks to its parent, which is `BlueRectangle`, where it finds the class variable `COLOR` set to the value `BLUE`. If class `BlueRectangle` did not define the class variable `COLOR`, then the search would have continued to _its_ parent, `ColoredRectangle`, where it would have found the class variable `COLOR` set to the value `CLEAR`.\n",
    "\n",
    "To avoid confusion, we emphasize that class instance variables most certainly _can_ be referenced explicitly via the clas they belong to. For example:"
   ]
  },
  {
   "cell_type": "code",
   "execution_count": 21,
   "metadata": {},
   "outputs": [
    {
     "name": "stdout",
     "output_type": "stream",
     "text": [
      "The color of all instances of class BlueRectangle is BLUE\n"
     ]
    }
   ],
   "source": [
    "print(\"The color of all instances of class BlueRectangle is\", BlueRectangle.COLOR)"
   ]
  },
  {
   "cell_type": "markdown",
   "metadata": {},
   "source": [
    "Further, every instance knows the class to which it belongs, via its `__class__` attribute. So, if we really want to be pedantic, we can write:"
   ]
  },
  {
   "cell_type": "code",
   "execution_count": 26,
   "metadata": {},
   "outputs": [
    {
     "name": "stdout",
     "output_type": "stream",
     "text": [
      "The color of <__main__.BlueRectangle object at 0x104d07b38> is BLUE\n"
     ]
    }
   ],
   "source": [
    "print(\"The color of\", blue_rectangle, \"is\", blue_rectangle.__class__.COLOR)"
   ]
  },
  {
   "cell_type": "markdown",
   "metadata": {},
   "source": [
    "In sum, inheritance operates on class variables the same way it operates on methods. In reality there are three class variables, and their full names are `ColoredRectangle.COLOR`, `BlueRectangle.COLOR`, and `RedRectangle.COLOR`. But the inheritance mechanism allows instances to access them in exactly the same way that instances can access methods--which are also defined at the class level--and one class's definition of a variable can override the definition of the same variable made by the class's parent, again in exact analogy with methods."
   ]
  },
  {
   "cell_type": "markdown",
   "metadata": {},
   "source": [
    "# Changing the value of a class variable\n",
    "One might think that an expression like `red_rectangle1.COLOR = 'CARDINAL'` would inadvertently change the color of all red rectangles to cardinal. In fact, that is not what happens. Because `red_rectangle1` is an instance, not a class, the previous expression merely creates a new member variable called `COLOR` on _just this specific instance_, which shadows the class variable, but leaves the class variable unchanged. In order to change the value of a class variable, we must explicitly reference the class variable we wish to change. The examples below illustrate."
   ]
  },
  {
   "cell_type": "code",
   "execution_count": 37,
   "metadata": {},
   "outputs": [
    {
     "name": "stdout",
     "output_type": "stream",
     "text": [
      "Changing the color of all red rectangles to CARDINAL\n",
      "My color is CARDINAL\n",
      "My color is CARDINAL\n",
      "Now we change the color of red_rectangle1 only to VERMILION\n",
      "My color is VERMILION\n",
      "My color is CARDINAL\n"
     ]
    }
   ],
   "source": [
    "# We start by setting all instances of RedRectangle to the color CARDINAL\n",
    "# The expression below works because we are explicitly referencing the variable we wish to alter.\n",
    "# Note that, in these examples, we are defying convention by changing the value of symbolic constant,\n",
    "# which should not be done in practice.\n",
    "print(\"Changing the color of all red rectangles to CARDINAL\")\n",
    "RedRectangle.COLOR = 'CARDINAL'\n",
    "red_rectangle1.declare_color()\n",
    "red_rectangle2.declare_color()\n",
    "\n",
    "print(\"Now we change the color of red_rectangle1 only to VERMILION\")\n",
    "red_rectangle1.COLOR = 'VERMILION' # This creates a member variable, shadowing the class variable of the same name.\n",
    "red_rectangle1.declare_color()\n",
    "red_rectangle2.declare_color()\n"
   ]
  },
  {
   "cell_type": "markdown",
   "metadata": {},
   "source": [
    "# Class Methods\n",
    "The normal use case, when we define a function inside a class, is for it to be called by one of the class's _instances_. When we write an expression such as `red_rectangle2.declare_color()` on line 13 above, the python interpreter arranges for the function `declare_color` defined on line [36]:12 above to be called with the instance `red_rectangle2` magically substituted in as its first argument.\n",
    "\n",
    "But classes are objects too. What if we want to define a method on a class in which the class object itself is magically substituted in as the first argument of the method, rather than one of the class's instances? Python makes this possible using the `@classmethod` decorator.\n",
    "\n",
    "You may have noticed, in fact, that the method `declare_color()` does not reference any member variable of `self`. It just references the class variable `COLOR`. When a method only references class variables and not member variables, it can be turned from a normal method into a class method, as illustrated below. The only required change is a single line that adds the decorator on line 12. By convention, the first arg to a class method is called `cls`, not `self`; however, as always, this is purely conventional. The name doesn't matter."
   ]
  },
  {
   "cell_type": "code",
   "execution_count": 52,
   "metadata": {},
   "outputs": [
    {
     "name": "stdout",
     "output_type": "stream",
     "text": [
      "Calling declare_color() on class objects . . .\n",
      "My color is CLEAR\n",
      "My color is RED\n",
      "My color is BLUE\n",
      "\n",
      "Calling declare_color() on class instances . . .\n",
      "My color is CLEAR\n",
      "My color is BLUE\n",
      "My color is RED\n",
      "My color is RED\n",
      "\n",
      "Now we are defying convention and globally changing the value of COLOR for red rectangles to CRIMSON\n",
      "My color is CRIMSON\n",
      "My color is CRIMSON\n"
     ]
    }
   ],
   "source": [
    "# Redefine class Colored Rectangle so that declare_color() is a class method.\n",
    "\n",
    "class ColoredRectangle(Rectangle):\n",
    "    \"\"\"\n",
    "    Represents a colored rectangle. Knows its width, height. and color. Automatically updates its area\n",
    "    in response to changes in its width or height. Disallows setting of non-positive width or height.\n",
    "    Knows how to declare its color. All rectangles of the same subclass share the same color.\n",
    "    \"\"\"\n",
    "    COLOR = 'CLEAR' # Default color for colored rectangles.\n",
    "        \n",
    "    # Define a method that prints out the color of a rectangle.\n",
    "    @classmethod\n",
    "    def declare_color(cls):\n",
    "        \"\"\"\n",
    "        Print out a sentence that asserts the color we have.\n",
    "        \"\"\"\n",
    "        print(\"My color is {color}\".format(color = cls.COLOR))\n",
    "    \n",
    "    \n",
    "class BlueRectangle(ColoredRectangle):\n",
    "    \"\"\"\n",
    "    The class of all blue rectangles\n",
    "    \"\"\"\n",
    "    COLOR = 'BLUE' # All BlueRectangle instances are blue.\n",
    "    \n",
    "    \n",
    "class RedRectangle(ColoredRectangle):\n",
    "    \"\"\"\n",
    "    The class of all red rectangles\n",
    "    \"\"\"\n",
    "    COLOR = 'RED' # All RedRectangle instances are red.\n",
    "    \n",
    "    \n",
    "    \n",
    "# Class Examples-- These would not have worked before. They would have raised an error. They work now.\n",
    "print(\"Calling declare_color() on class objects . . .\")\n",
    "ColoredRectangle.declare_color()\n",
    "RedRectangle.declare_color()\n",
    "BlueRectangle.declare_color()\n",
    "\n",
    "# Previous Examples -- These examples still work\n",
    "print()\n",
    "print(\"Calling declare_color() on class instances . . .\")\n",
    "rectangle = ColoredRectangle(3,4)\n",
    "rectangle.declare_color()\n",
    "\n",
    "blue_rectangle = BlueRectangle(1,2)\n",
    "blue_rectangle.declare_color()\n",
    "\n",
    "red_rectangle1 = RedRectangle(5,6)\n",
    "red_rectangle2 = RedRectangle(7,8)\n",
    "red_rectangle1.declare_color()\n",
    "red_rectangle2.declare_color()\n",
    "\n",
    "print()\n",
    "print(\"Now we are defying convention and globally changing the value of COLOR for red rectangles to CRIMSON\")\n",
    "RedRectangle.COLOR = 'CRIMSON' # This is an example only. In real life, we would not defy convention like this.\n",
    "\n",
    "# Now the color of all instances of RedRectangle is CRIMSON\n",
    "red_rectangle1.declare_color()\n",
    "red_rectangle2.declare_color()"
   ]
  },
  {
   "cell_type": "markdown",
   "metadata": {},
   "source": [
    "In line 37 above, we call `declare_color()`, which is now a class method, on the class object `ColoredRectangle`. On line 45 above, the exact same thing happens, even though the expression seems to be calling `declare_color()` on the class instance `rectangle`. Part of the magic of the inheritance mechanism combined with the `@classmethod` decorator is that these two, working together, are smart enough to substitute the class of `rectangle` for `rectangle` when the call is invoked."
   ]
  },
  {
   "cell_type": "markdown",
   "metadata": {},
   "source": [
    "# A peak under the hood\n",
    "Since the `declare_color()` method defined on line 12 above only references the class variable `COLOR`, one might think that the method could be called from a class object, instead of from an instance object, like this: `RedRectangle.declare_color()`. In fact, this does not work, as illustrated below."
   ]
  },
  {
   "cell_type": "code",
   "execution_count": 43,
   "metadata": {},
   "outputs": [
    {
     "name": "stdout",
     "output_type": "stream",
     "text": [
      "Got the following error: declare_color() missing 1 required positional argument: 'self'\n"
     ]
    }
   ],
   "source": [
    "# This does not work\n",
    "try:\n",
    "    RedRectangle.declare_color()\n",
    "except Exception as e:\n",
    "    print(\"Got the following error:\", e)"
   ]
  },
  {
   "cell_type": "markdown",
   "metadata": {},
   "source": [
    "In fact, the error we get above makes perfect sense. `RedRectangle` is an object, so we are allowed to reference one of its attributes. `declare_color` is such an attribute, so `RedRectangle.declare_color` makes perfect sense, and refers to the function defined on line [36]:12 above. But that function takes one argument, called `self`, and we have not passed such an argument in line 3 above. If we _do_ call the function with an appropriate argument, then it works, as illustrated below:"
   ]
  },
  {
   "cell_type": "code",
   "execution_count": 44,
   "metadata": {},
   "outputs": [
    {
     "name": "stdout",
     "output_type": "stream",
     "text": [
      "My color is CARDINAL\n"
     ]
    }
   ],
   "source": [
    "# This works\n",
    "RedRectangle.declare_color(RedRectangle)"
   ]
  },
  {
   "cell_type": "markdown",
   "metadata": {},
   "source": [
    "All of which might make us wonder why an expression like `red_rectangle2.declare_color()` works! Indeed, the magic is here, in understanding how python gets such an expression to do the right thing. We will not go into a detailed answer at the moment, but the short answer is that `RedRectangle.declare_color` is just a function, while `red_rectangle2.declare_color` is a _method_, as illustrated below:"
   ]
  },
  {
   "cell_type": "code",
   "execution_count": 48,
   "metadata": {},
   "outputs": [
    {
     "name": "stdout",
     "output_type": "stream",
     "text": [
      "<function Rectangle.declare_color at 0x104da3c80>\n",
      "<bound method Rectangle.declare_color of <__main__.RedRectangle object at 0x104d41cf8>>\n"
     ]
    }
   ],
   "source": [
    "# Referencing a function that has been defined on a class just returns that function as a normal function\n",
    "print(RedRectangle.declare_color)\n",
    "\n",
    "# Referencing the same function through an _instance_, and invoking the inheritance mechanism to access\n",
    "# the attribute through its class parent, transforms the function into a *method*\n",
    "print(red_rectangle2.declare_color)"
   ]
  },
  {
   "cell_type": "markdown",
   "metadata": {},
   "source": [
    "In line 2 above, we are simply making a function call and supplying the proper arguments to the function, so there is no mystery. As an aside, supplying an argument of `red_rectangle` would _also_ be supplying a proper argument, so this would also work:"
   ]
  },
  {
   "cell_type": "code",
   "execution_count": 46,
   "metadata": {},
   "outputs": [
    {
     "name": "stdout",
     "output_type": "stream",
     "text": [
      "My color is CARDINAL\n"
     ]
    }
   ],
   "source": [
    "RedRectangle.declare_color(red_rectangle2)"
   ]
  },
  {
   "cell_type": "markdown",
   "metadata": {},
   "source": [
    "When we define a method inside a class, we are really just defining a function, and it can always be called just as a function, if we know how to do it correctly. For example, this _also_ works:"
   ]
  },
  {
   "cell_type": "markdown",
   "metadata": {},
   "source": [
    "# Overload the + operator for Vector\n",
    "All of python's operators can be overloaded by overriding the appropriate method. Not only can all the mathematical operators, such as `+` and `*` be overloaded, but so can the `[]` operator, and even `()`, which normally implies a function call, can be defined for an object so that it becomes \"callable\". In this section, we simply introduce the overloading of a single operator, the `+` operator, for the Vector class. Take a look at the code below, and then we'll discuss it in more detail. For reference, here is the python documentation on [operator overloading](https://docs.python.org/3/reference/datamodel.html?highlight=operator%20overload#special-method-names)."
   ]
  },
  {
   "cell_type": "code",
   "execution_count": 6,
   "metadata": {},
   "outputs": [
    {
     "name": "stdout",
     "output_type": "stream",
     "text": [
      "Created these vectors: <1.2, 3.4> , <10, 20>\n",
      "Here is their sum: <11.2, 23.4>\n",
      "Incidentally, here is the method integers use to do addition: <slot wrapper '__add__' of 'int' objects>\n"
     ]
    }
   ],
   "source": [
    "# Modify the Vector class so that vectors can be added using `+`\n",
    "class Vector(object):\n",
    "    \"\"\"\n",
    "    Represents a two-dimensional vector, something with an x-component and a y-component.\n",
    "    \n",
    "    Knows how to perform basic vector operations on itself and on other vectors, such as\n",
    "    scaling and addition.\n",
    "    \"\"\"\n",
    "    def __init__(self, x, y):\n",
    "        self._x = x\n",
    "        self._y = y\n",
    "        \n",
    "    def __repr__(self):\n",
    "        return \"<{x}, {y}>\".format(x = self.x, y = self.y)\n",
    "    \n",
    "    # Here we overload the `+` operator by overriding the __add__() method. This __add__() method will\n",
    "    # be called implicitly by the python interpreter whenever it sees the expression x + y and the type \n",
    "    # of x is Vector. The call will be x.__add__(y)\n",
    "    def __add__(self, vector):\n",
    "        \"\"\"\n",
    "        :return: a new vector that is the sum of ourselves and vector\n",
    "        \"\"\"\n",
    "        return Vector(self.x + vector.x, self.y + vector.y)\n",
    "        \n",
    "    @property\n",
    "    def x(self):\n",
    "        return self._x\n",
    "    \n",
    "    @property\n",
    "    def y(self):\n",
    "        return self._y\n",
    "    \n",
    "\n",
    "# Examples\n",
    "v1 = Vector(1.2, 3.4)\n",
    "v2 = Vector(10, 20)\n",
    "print(\"Created these vectors:\", v1, ',', v2)\n",
    "print(\"Here is their sum:\", v1 + v2)\n",
    "print(\"Incidentally, here is the method integers use to do addition:\",int.__add__)\n",
    "    "
   ]
  },
  {
   "cell_type": "markdown",
   "metadata": {},
   "source": [
    "In the code above, we overload the `+` operator by defining the `__add__()` method. This `__add__()` method will\n",
    "be called implicitly by the python interpreter. In general, whenever the python interpreter sees the expression `x + y`, the interpreter defines the value of the expression to be `x.__add__(y)`. If `x` does not define `__add__()`, then the operation is undefined and python raises an exception."
   ]
  },
  {
   "cell_type": "markdown",
   "metadata": {},
   "source": [
    "# Abstract Classes and Methods\n",
    "An abstract class is a class that is never meant to be instantiated. Only some of its descendant classes are instantiated. For that reason, an abstract class is often referred to as an _abstract base class_.\n",
    "\n",
    "There are several reasons why one might want to create an abstract base class. First, from a purely organizational point of view, an abstract base class can represent a meaningful concept. For example, consider a collection of classes representing two-dimensional objects that know how to draw themselves on a display. There might be instantiable classes named `Circle`, or `Rectangle`, or `Line`, and so on. The top-level base class to which they all belong might be named `Shape`, even though it makes no sense to instantiate a `Shape`. It would therefore be an abstract class. A child class of `Shape` might be called `Polygon`, to which `Rectangle` would belong as a descendant, but not `Circle` or `Line`. Since it makes no sense to instantiate a `Polygon` (without knowing more specific information), it too would be abstract.\n",
    "\n",
    "Second, an abstract base class gives us a place to \"hang\" common code. If all the descendant classes of a parent class use exactly the same implementation of a particular method, then that method properly belongs on the parent class, even if the parent class is never, in itself, instantiated. For example, all the `Shape` subclasses might use the same `set_line_thickness()` method, in which case it could be defined by the `Shape` class.\n",
    "\n",
    "Thirdly, an abstract base class can _require_ that its descendants define certain methods, which remain undefined (stubs, really) in the base class. An abstract base class specifies such methods using the `@abstractmethod` decorator. A very typical use case is for an abstract base class to specify the entire public interface of all its descendants via the declaration of abstract methods. Another very typical use case is for an abstract base class to specify an abstract method because the base class plans to call that method itself in the implementation of one of its own methods. All of these use cases are demonstrated in the code example below.\n",
    "\n",
    "In python, a class is an abstract class if it inherits, directly, or indirectly from the class `ABC` _and_ at least one of its methods is also an abstract method."
   ]
  },
  {
   "cell_type": "markdown",
   "metadata": {},
   "source": [
    "# Examples of abstract base classes\n",
    "In the code example below, we illustrate abstract base classes by creating the beginnings of a class hierarchy  for objects that can belong to our two-dimensional universe. Take a look at the classes defined below, and then we'll review them in more detail.\n",
    "\n",
    "Note that the handling of abstract classes is different in python 3.x than in python 2.x. Here is a pointer to the [documentation](https://docs.python.org/2/library/abc.html) for  python 2.x."
   ]
  },
  {
   "cell_type": "code",
   "execution_count": 7,
   "metadata": {},
   "outputs": [
    {
     "name": "stdout",
     "output_type": "stream",
     "text": [
      "Got an error trying to create a Positionable: Can't instantiate abstract class Positionable with abstract methods update\n",
      "Got an error trying to create a Moveable: Can't instantiate abstract class Moveable with abstract methods update\n",
      "Successfully created a particle: <Particle position=<2, 3>, velocity=<1.1, 2.3>>\n",
      "Updated particle: <Particle position=<3.1, 5.3>, velocity=<1.1, 2.3>>\n"
     ]
    }
   ],
   "source": [
    "# The code in this example defines some abstract classes.\n",
    "\n",
    "# ABC should be the top-most parent class for an abstract class. ABC stands for \"Abstract Base Class\".\n",
    "# We also need the @abstractmethod decorator, so we import it.\n",
    "# Note: the line below only works in python 3.x \n",
    "from abc import ABC, abstractmethod  \n",
    "\n",
    "# For python 2.x, you would do this instead:\n",
    "# from abc import ABCMeta, abstractmethod\n",
    "\n",
    "\n",
    "# We make Actor an abstract base class by giving it ABC as its parent\n",
    "# NOTE: This will *only* work in python 3.x. For python 2.x, there's a different way\n",
    "# to make a class abstract.\n",
    "#\n",
    "# In python 2.x, you would do this instead:\n",
    "# class Actor(object):\n",
    "#     __metaclass__ = ABCMeta\n",
    "#     ...\n",
    "class Actor(ABC):\n",
    "    \"\"\"\n",
    "    Represents a \"physical\" object in our simulated universe, something\n",
    "    that potentially changes its state at each time epoch according to its own physics.\n",
    "    \n",
    "    An actor is called upon by the Universe to update() its state at each time epoch.\n",
    "    \"\"\"\n",
    "    \n",
    "    # We make update() an abstract method, which means that instantiable subclasses must provide a\n",
    "    # definition for it. Here we just define a do-nothing method. Note that we don't need to raise\n",
    "    # an error in the body of the method. Python takes care of that for us via the decorator.\n",
    "    # Note: this decorator will only work inside an abstract class.\n",
    "    @abstractmethod\n",
    "    def update(self):\n",
    "        \"\"\"\n",
    "        Update our internal state according to our physics.\n",
    "        \"\"\"\n",
    "        pass\n",
    "    \n",
    "    # Note that an abstract class can provide a non-abstract method, as this does below, which provides\n",
    "    # a default printing format for all subclasses that inherit from it.\n",
    "    def __repr__(self):\n",
    "        return \"<{name}>\".format(name = self.__class__.__name__)\n",
    "    \n",
    "\n",
    "# This class remains abstract because it inherits from the abstract base class Actor, but does not\n",
    "# define update()\n",
    "class Positionable(Actor):\n",
    "    \"\"\"\n",
    "    Represents an object that has a position.\n",
    "    \"\"\"\n",
    "    def __init__(self, position):\n",
    "        \"\"\"\n",
    "        :param position: a Vector\n",
    "        \"\"\"\n",
    "        self.position = position        \n",
    "\n",
    "\n",
    "# This class remains abstract, because it inherits from the abstract class Positionable, but does not\n",
    "# define update(). Notice also that it defines a method called move() that can be used by\n",
    "# its subclasses.\n",
    "class Moveable(Positionable):\n",
    "    \"\"\"\n",
    "    Represents an object that has both position and velocity. Moveables know how to move() themselves,\n",
    "    which means to update their position according to their velocity.\n",
    "    \"\"\"\n",
    "    def __init__(self, position, velocity):\n",
    "        # We have not discussed super() yet, but will soon.\n",
    "        # Note that the form used below only works in python 3.x.\n",
    "        super().__init__(position)\n",
    "        \n",
    "        # In python 2.x, the following would be used instead:\n",
    "        #    super(Moveable, self).__init__(position)\n",
    "        \n",
    "        self.velocity = velocity # Our position is updated when we move according to our velocity.\n",
    "\n",
    "        \n",
    "    def move(self):\n",
    "        \"\"\"\n",
    "        Update our position according to our velocity.\n",
    "        :return: self\n",
    "        \"\"\"\n",
    "        self.position += self.velocity\n",
    "        return self\n",
    "    \n",
    "        \n",
    "# This class is no longer abstract. It is instantiable because it has defined an update() method.\n",
    "class Particle(Moveable):\n",
    "    \"\"\"\n",
    "    Represents a Moveable object that does nothing else beside update its position each epoch\n",
    "    according to its velocity.\n",
    "    \"\"\" \n",
    "    def update(self):\n",
    "        \"\"\"\n",
    "        Update ourselves for the current epoch. All we do is move according to our velocity.\n",
    "        \"\"\"\n",
    "        self.move()\n",
    "        \n",
    "    # Here we override the default formatter for printing supplied by Actor.\n",
    "    def __repr__(self):\n",
    "        return \"<{name} position={position}, velocity={velocity}>\".format(name = self.__class__.__name__,\n",
    "                                                                          position = self.position,\n",
    "                                                                          velocity = self.velocity)\n",
    "        \n",
    "        \n",
    "# Examples\n",
    "# Try creating a positionable. It should fail.\n",
    "try:\n",
    "    positionable = Positionable(Vector(2,3))\n",
    "except Exception as e:\n",
    "    print(\"Got an error trying to create a Positionable:\", e)\n",
    "else:\n",
    "    print(\"Got no error, but should have!\")\n",
    "    \n",
    "# Try creating a Moveable. It should fail.\n",
    "try:\n",
    "    moveable = Moveable(position = Vector(2,3), velocity = Vector(1.1, 2.3))\n",
    "except Exception as e:\n",
    "    print(\"Got an error trying to create a Moveable:\", e)\n",
    "else:\n",
    "    print(\"Got no error, but should have!\")\n",
    "    \n",
    "# Try creating a particle. It should succeed.\n",
    "try:\n",
    "    particle = Particle(position = Vector(2,3), velocity = Vector(1.1, 2.3))\n",
    "except Exception as e:\n",
    "    print(\"Got an error trying to create a Particle:\", e)\n",
    "else:\n",
    "    print(\"Successfully created a particle:\", particle)\n",
    "    \n",
    "particle.update()\n",
    "print(\"Updated particle:\", particle)\n",
    "    "
   ]
  },
  {
   "cell_type": "markdown",
   "metadata": {},
   "source": [
    "In the code above, we first define abstract class `Actor`. This class specifies a public interface for all its descendants. Any `Actor` must define an `update()` method, whose purpose is to update the actor's state for the current epoch. The class `Actor` is abstract by virtue of inheriting from `ABC` and because it contains at least one abstract method.\n",
    "\n",
    "Note that we don't define an `__init__()` method for `Actor`. As an abstract class, it never will be directly\n",
    "instantiated, so such a method is not necessary. If we were to supply one, it would be because we wished to\n",
    "provide a default for subclasses; however, at this level of the hierarchy, there is no useful default\n",
    "to define.\n",
    "\n",
    "Next we define abstract class `Positionable`, whose parent is `Actor`. This represents all actors in the universe that have a location. (Not all actors need to have a position. We might choose to create some actors that update their state every epoch, but which have no defined location within the universe.) `Positionable` remains abstract because the inherited method `update()` is still not defined by the class.\n",
    "\n",
    "However, note that we _do_ define an `__init__()` method for `Positionable`, even though it is also abstract. This is because we can supply a useful default for subclasses. All subclasses of `Positionable` must, at the very least, initialize their position. This `__init()__` method takes care of that.\n",
    "\n",
    "Then we define abstract class `Moveable`, whose parent is `Positionable`. This represents all Positionable actors in the universe that have a velocity in addition to having a location. In other words, these actors *move*. To corresond to this ability, we give `Moveable` a `move()` method. This is not an abstract method, but `Moveable` nonetheless remains an abstract class, because, in order for a class not to be abstract, *all* its methods must be non-abstract, and `Moveable` still inherits `update()` as an abstract method from its parent. \n",
    "\n",
    "Note that `Moveable` defines an `__init__()` method for itself that incorporates the inherited `__init__()` method from its parent. It does this by using `super()`. Since the parent knows how to initialize the `position` attribute, we leave that to the parent and only focus on the new attribute, `velocity`, that we have defined at the level of `Moveable`. This avoids copy-coding, making the code easier to maintain. We will discuss `super()` in more detail shortly.\n",
    "\n",
    "Finally we create the instantiable class `Particle`, which inherits from Moveable. `Particle` is no longer abstract because it defines an `update()` method for itself. The only thing a Particle does on `update()` is move itself according to its velocity.\n",
    "\n",
    "Note that `Particle` does not need to define an `__init__()` method. The method it inherits from its parent is already correct."
   ]
  },
  {
   "cell_type": "markdown",
   "metadata": {},
   "source": [
    "# Invoking parent methods with super()\n",
    "\n",
    "## What super() does\n",
    "It is beyond the scope of this tutorial to go into the full functionality encompassed by `super()`. Here we will just discuss the main use case, which is fairly easy to understand. It is best described by example. Let's go through what happens when we create a `Particle` on line 124 above. The python interpreter creates an empty `Particle` object and then passes it to its `__init__()` method, along with the `position` and `velocity` arguments. The `Particle` class doesn't define its own `__init__()` method, so the new object uses the one it inherits from `Moveable` on line 66. The first thing that method does is call `super().__init__(position)` on line 69. The intent here should be clear. We want to call the `__init__()` method defined by the parent of `Moveable`, i.e., defined by `Positionable`, on line 51. And that is exactly what the python interpreter does.\n",
    "\n",
    "## How super() works . . . is complicated\n",
    "But notice that doing the \"obvious\" thing here is actually somewhat magical. The `self` arg being passed in on line 66 is actually an instance of `Particle`, not of `Moveable`, so one might think that its parent class should be `Moveable`, which would lead to an infinite recursion. Except that `self` isn't even passed to `super()`, so `super()` is not even given the opportunity to make that mistake. Somehow `super()` figures out the static context and knows that it is being invoked from inside class `Moveable`, so it knows that the right thing to do is to call the `__init__()` method on `Positionable`, ignoring the type of `self` altogether.\n",
    "\n",
    "But even that can't be exactly right, because, when the correct `__init__` method on line 51 is called, it needs to be passed an instance of `self`! And this instance has to be the one that was just created, i.e., the new `Particle` object, so that it can be initialized.\n",
    "\n",
    "It turns out that what `super()` returns is a special object called a \"proxy\" object. The proxy object has the same methods as the desired parent--in this case, `Positionable`; however, when any of those methods is invoked, the proxy object arranges for the `self` argument passed to those methods to be the correct runtime object--in this case, the new `Particle` object.\n",
    "\n",
    "## In python 2.x, super() is different\n",
    "The `super()` built-in is less magical in python2.x, and more cumbersome to use. When using `super()` in python 2.x, one must specify explicitly the parent class of interest *and* the object to be used as `self`, like this: `super(Positionable, self).__init__(position)`. The preceding expression is what we would need to put on line 69 above.\n",
    "\n",
    "## With multiple inheritance, super() becomes more important.\n",
    "The workings of `super()` are even more complicated in a hierarchy with multiple inheritance. If a class has multiple parents, to which parent should `super()` refer? The way to do this properly is tricky and involves an understanding of python's [method resolution order](https://www.python.org/download/releases/2.2.3/descrintro/#mro) (referred to often simply as _mro_). A lengthier discussion is beyond the scope of this tutorial."
   ]
  },
  {
   "cell_type": "markdown",
   "metadata": {},
   "source": [
    "# Defining Class Methods With @classmethod\n"
   ]
  }
 ],
 "metadata": {
  "kernelspec": {
   "display_name": "Python 3",
   "language": "python",
   "name": "python3"
  },
  "language_info": {
   "codemirror_mode": {
    "name": "ipython",
    "version": 3
   },
   "file_extension": ".py",
   "mimetype": "text/x-python",
   "name": "python",
   "nbconvert_exporter": "python",
   "pygments_lexer": "ipython3",
   "version": "3.6.3"
  }
 },
 "nbformat": 4,
 "nbformat_minor": 2
}
