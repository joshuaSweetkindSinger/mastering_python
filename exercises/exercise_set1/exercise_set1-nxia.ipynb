{
 "cells": [
  {
   "cell_type": "markdown",
   "metadata": {},
   "source": [
    "# Exercises\n"
   ]
  },
  {
   "cell_type": "code",
   "execution_count": 1,
   "metadata": {},
   "outputs": [
    {
     "name": "stdout",
     "output_type": "stream",
     "text": [
      "[17, 19, 24, 19]\n"
     ]
    }
   ],
   "source": [
    "# Exercise 1.1\n",
    "# Produce a list of length 4 whose i-th element is the sum of the i-th elements of xx and yy below.\n",
    "# For example, the 0th element of the list will contain 17 = 12 + 5\n",
    "xx = [12, 10, 5, 18]\n",
    "yy = [5, 9, 19, 1]\n",
    "None # Write an expression here that produces the required list\n",
    "result = [x + y for (x,y) in zip(xx,yy)]\n",
    "print(result)"
   ]
  },
  {
   "cell_type": "code",
   "execution_count": 2,
   "metadata": {},
   "outputs": [
    {
     "name": "stdout",
     "output_type": "stream",
     "text": [
      "Adams\n"
     ]
    }
   ],
   "source": [
    "# Exercise 1.2\n",
    "# Write code below to find the last name of the oldest person.\n",
    "\n",
    "class Person(object):\n",
    "    def __init__(self, first_name, last_name, age):\n",
    "        self.first_name = first_name\n",
    "        self.last_name = last_name\n",
    "        self.age = age\n",
    "        \n",
    "people = [Person('Arnold', 'Schwarzenegger', 70),\n",
    "         Person('Albert', 'Einstein', 139),\n",
    "         Person('John', 'Adams', 283),\n",
    "         Person('George', 'Harrison', 75)]\n",
    "\n",
    "None # Write an expression here that produces the required last name.\n",
    "oldest_person = max(people, key = lambda person: person.age)\n",
    "print(oldest_person.last_name)"
   ]
  },
  {
   "cell_type": "code",
   "execution_count": 3,
   "metadata": {},
   "outputs": [
    {
     "data": {
      "text/plain": [
       "False"
      ]
     },
     "execution_count": 3,
     "metadata": {},
     "output_type": "execute_result"
    }
   ],
   "source": [
    "# Exercise 1.3\n",
    "# Write code below to return True or False according to whether any of the people defined above\n",
    "# is older than 300.\n",
    "\n",
    "None  # Write an expression here that produces the required logical value.\n",
    "any(person.age > 300 for person in people)"
   ]
  },
  {
   "cell_type": "code",
   "execution_count": 4,
   "metadata": {},
   "outputs": [
    {
     "name": "stdout",
     "output_type": "stream",
     "text": [
      "['Arnold', 'Albert', 'John', 'George']\n"
     ]
    }
   ],
   "source": [
    "# Exercise 1.4\n",
    "\n",
    "None # Produce a list of the first names of all people.\n",
    "list = [person.first_name for person in people]\n",
    "print(list)"
   ]
  },
  {
   "cell_type": "code",
   "execution_count": 5,
   "metadata": {},
   "outputs": [
    {
     "name": "stdout",
     "output_type": "stream",
     "text": [
      "['Albert', 'John']\n"
     ]
    }
   ],
   "source": [
    "# Exercise 1.5\n",
    "None # Produce a list of all people older than 100.\n",
    "list = [person.first_name for person in people if person.age > 100]\n",
    "print(list)"
   ]
  },
  {
   "cell_type": "code",
   "execution_count": 6,
   "metadata": {},
   "outputs": [
    {
     "name": "stdout",
     "output_type": "stream",
     "text": [
      "\n",
      "           The rain in Spain falls mainly in the plain.\n",
      "           \n"
     ]
    }
   ],
   "source": [
    "# Exercise 1.6\n",
    "# Write a function to produce a formatted string according to the following template:\n",
    "# \"The <noun> in <country> falls <adverb> in the <location>\"\n",
    "# Then call it with the values \"rain\", \"Spain\", \"mainly\", and \"plain\".\n",
    "\n",
    "def f (noun, country, adverb, location):\n",
    "    return \"\"\"\n",
    "           The {noun} in {country} falls {adverb} in the {location}.\n",
    "           \"\"\".format(**locals())\n",
    "\n",
    "# This should print \"The rain in Spain falls mainly in the plain.\"\n",
    "print(f('rain', 'Spain', 'mainly', 'plain'))"
   ]
  },
  {
   "cell_type": "code",
   "execution_count": 7,
   "metadata": {},
   "outputs": [
    {
     "name": "stdout",
     "output_type": "stream",
     "text": [
      "Hello, John!\n",
      "Hi, Fred!\n"
     ]
    }
   ],
   "source": [
    "# Exercise 1.7\n",
    "# Let us call a function f a \"greeting function\" if it takes a person's\n",
    "# name as input and returns a string that represents a greeting to them.\n",
    "\n",
    "# The two functions below are examples of greeting functions\n",
    "# (They are examples only; you don't need to call them as part of your solution.)\n",
    "def say_hello(name):\n",
    "    return \"Hello, {name}!\".format(**locals())\n",
    "\n",
    "# The function say_hi() below is also a greeting function.\n",
    "def say_hi(name):\n",
    "    return \"Hi, {name}!\".format(**locals())\n",
    "\n",
    "print(say_hello('John'))\n",
    "print(say_hi('Fred'))\n",
    "\n",
    "\n",
    "\n",
    "# Write a greeting function generator that takes as input a greeting expression,\n",
    "# such as \"Hello\" or \"Hi\" and returns a greeting function based on\n",
    "# the specified greeting. The greeting function can then be called with a person's name\n",
    "# as an argument.\n",
    "def make_greeting_function(greeting):\n",
    "    def f(name):\n",
    "        return \"{greeting}, {name}!\".format(greeting = greeting, name = name) \n",
    "\n",
    "\n",
    "# This is test code that should work after you have defined the function above.\n",
    "# It should print out \"Howdy, Bob!\"\n",
    "greet_fun = make_greeting_function(\"Howdy\")\n",
    "if greet_fun:\n",
    "    print(greet_fun('Bob'))"
   ]
  },
  {
   "cell_type": "code",
   "execution_count": 8,
   "metadata": {},
   "outputs": [
    {
     "name": "stdout",
     "output_type": "stream",
     "text": [
      "Howdy, Bob!\n"
     ]
    }
   ],
   "source": [
    "# Exercise 1.8\n",
    "# Implement the preceding exercise using an object with a __call__() method.\n",
    "class Greeter(object):\n",
    "    def __init__(self, greeting):\n",
    "        self._greeting = greeting\n",
    "        \n",
    "    def __call__(self, name):\n",
    "        return \"{greeting}, {name}!\".format(greeting = self._greeting, name = name)\n",
    "\n",
    "# This is test code that should work after you have defined the class above.\n",
    "if True: # Set this to True to test your code.\n",
    "    greeter = Greeter('Howdy')\n",
    "    print(greeter('Bob'))"
   ]
  }
 ],
 "metadata": {
  "kernelspec": {
   "display_name": "Python 3",
   "language": "python",
   "name": "python3"
  },
  "language_info": {
   "codemirror_mode": {
    "name": "ipython",
    "version": 3
   },
   "file_extension": ".py",
   "mimetype": "text/x-python",
   "name": "python",
   "nbconvert_exporter": "python",
   "pygments_lexer": "ipython3",
   "version": "3.5.3"
  }
 },
 "nbformat": 4,
 "nbformat_minor": 1
}
