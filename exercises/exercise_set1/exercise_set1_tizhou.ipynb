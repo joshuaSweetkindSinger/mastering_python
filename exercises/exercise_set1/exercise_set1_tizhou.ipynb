{
 "cells": [
  {
   "cell_type": "markdown",
   "metadata": {
    "deletable": true,
    "editable": true
   },
   "source": [
    "# Exercises\n"
   ]
  },
  {
   "cell_type": "code",
   "execution_count": 18,
   "metadata": {
    "collapsed": false,
    "deletable": true,
    "editable": true
   },
   "outputs": [
    {
     "data": {
      "text/plain": [
       "[17, 19, 24, 19]"
      ]
     },
     "execution_count": 18,
     "metadata": {},
     "output_type": "execute_result"
    }
   ],
   "source": [
    "# Exercise 1.1\n",
    "# Produce a list of length 4 whose i-th element is the sum of the i-th elements of xx and yy below.\n",
    "# For example, the 0th element of the list will contain 17 = 12 + 5\n",
    "xx = [12, 10, 5, 18]\n",
    "yy = [5, 9, 19, 1]\n",
    "# Write an expression here that produces the required list\n",
    "map(lambda x: sum(x), zip(xx, yy))"
   ]
  },
  {
   "cell_type": "code",
   "execution_count": 19,
   "metadata": {
    "collapsed": false,
    "deletable": true,
    "editable": true
   },
   "outputs": [
    {
     "data": {
      "text/plain": [
       "'Adams'"
      ]
     },
     "execution_count": 19,
     "metadata": {},
     "output_type": "execute_result"
    }
   ],
   "source": [
    "# Exercise 1.2\n",
    "# Write code below to find the last name of the oldest person.\n",
    "\n",
    "class Person(object):\n",
    "    def __init__(self, first_name, last_name, age):\n",
    "        self.first_name = first_name\n",
    "        self.last_name = last_name\n",
    "        self.age = age\n",
    "        \n",
    "people = [Person('Arnold', 'Schwarzenegger', 70),\n",
    "         Person('Albert', 'Einstein', 139),\n",
    "         Person('John', 'Adams', 283),\n",
    "         Person('George', 'Harrison', 75)]\n",
    "\n",
    "# Write an expression here that produces the required last name.\n",
    "max(people, key=lambda p: p.age).last_name"
   ]
  },
  {
   "cell_type": "code",
   "execution_count": 4,
   "metadata": {
    "collapsed": false,
    "deletable": true,
    "editable": true
   },
   "outputs": [
    {
     "data": {
      "text/plain": [
       "False"
      ]
     },
     "execution_count": 4,
     "metadata": {},
     "output_type": "execute_result"
    }
   ],
   "source": [
    "# Exercise 1.3\n",
    "# Write code below to return True or False according to whether any of the people defined above\n",
    "# is older than 300.\n",
    "\n",
    "# Write an expression here that produces the required logical value.\n",
    "any(p.age > 300 for p in people)"
   ]
  },
  {
   "cell_type": "code",
   "execution_count": 20,
   "metadata": {
    "collapsed": false,
    "deletable": true,
    "editable": true
   },
   "outputs": [
    {
     "data": {
      "text/plain": [
       "['Arnold', 'Albert', 'John', 'George']"
      ]
     },
     "execution_count": 20,
     "metadata": {},
     "output_type": "execute_result"
    }
   ],
   "source": [
    "# Exercise 1.4\n",
    "\n",
    "# Produce a list of the first names of all people.\n",
    "map(lambda people: people.first_name, people)"
   ]
  },
  {
   "cell_type": "code",
   "execution_count": 10,
   "metadata": {
    "collapsed": false,
    "deletable": true,
    "editable": true
   },
   "outputs": [
    {
     "data": {
      "text/plain": [
       "['Albert Einstein', 'John Adams']"
      ]
     },
     "execution_count": 10,
     "metadata": {},
     "output_type": "execute_result"
    }
   ],
   "source": [
    "# Exercise 1.5\n",
    "# Produce a list of all people older than 100.\n",
    "map(lambda people:\n",
    "    people.first_name +\n",
    "    \" \" + \n",
    "    people.last_name,\n",
    "    filter(lambda people: people.age > 100, people))"
   ]
  },
  {
   "cell_type": "code",
   "execution_count": 11,
   "metadata": {
    "collapsed": false,
    "deletable": true,
    "editable": true
   },
   "outputs": [
    {
     "name": "stdout",
     "output_type": "stream",
     "text": [
      "The rain in Spain falls mainly in the plain\n"
     ]
    }
   ],
   "source": [
    "# Exercise 1.6\n",
    "# Write a function to produce a formatted string according to the following template:\n",
    "# \"The <noun> in <country> falls <adverb> in the <location>\"\n",
    "# Then call it with the values \"rain\", \"Spain\", \"mainly\", and \"plain\".\n",
    "\n",
    "def f (noun, country, adverb, location):\n",
    "    # Supply the body of the function. It should return a string.\n",
    "    return \"The {noun} in {country} falls {adverb} in the {location}\".format(noun=noun,\n",
    "                                                                            country=country,\n",
    "                                                                            adverb=adverb,\n",
    "                                                                            location=location)\n",
    "    \n",
    "# This should print \"The rain in Spain falls mainly in the plain.\"\n",
    "print(f('rain', 'Spain', 'mainly', 'plain')) \n"
   ]
  },
  {
   "cell_type": "code",
   "execution_count": 15,
   "metadata": {
    "collapsed": false,
    "deletable": true,
    "editable": true
   },
   "outputs": [
    {
     "name": "stdout",
     "output_type": "stream",
     "text": [
      "Hello, John!\n",
      "Hi, Fred!\n",
      "Howdy, Bob!\n"
     ]
    }
   ],
   "source": [
    "# Exercise 1.7\n",
    "# Let us call a function f a \"greeting function\" if it takes a person's\n",
    "# name as input and returns a string that represents a greeting to them.\n",
    "\n",
    "# The two functions below are examples of greeting functions\n",
    "# (They are examples only; you don't need to call them as part of your solution.)\n",
    "def say_hello(name):\n",
    "    return \"Hello, {name}!\".format(**locals())\n",
    "\n",
    "# The function say_hi() below is also a greeting function.\n",
    "def say_hi(name):\n",
    "    return \"Hi, {name}!\".format(**locals())\n",
    "\n",
    "print(say_hello('John'))\n",
    "print(say_hi('Fred'))\n",
    "\n",
    "\n",
    "\n",
    "# Write a greeting function generator that takes as input a greeting expression,\n",
    "# such as \"Hello\" or \"Hi\" and returns a greeting function based on\n",
    "# the specified greeting. The greeting function can then be called with a person's name\n",
    "# as an argument.\n",
    "def make_greeting_function(greeting):\n",
    "    # Define the body of your greeting function here.\n",
    "    return lambda name: \"{greeting}, {name}!\".format(greeting=greeting,\n",
    "                                                   name=name)\n",
    "\n",
    "\n",
    "\n",
    "# This is test code that should work after you have defined the function above.\n",
    "# It should print out \"Howdy, Bob!\"\n",
    "greet_fun = make_greeting_function(\"Howdy\")\n",
    "if greet_fun:\n",
    "    print(greet_fun('Bob'))"
   ]
  },
  {
   "cell_type": "code",
   "execution_count": 17,
   "metadata": {
    "collapsed": false,
    "deletable": true,
    "editable": true
   },
   "outputs": [
    {
     "name": "stdout",
     "output_type": "stream",
     "text": [
      "Howdy, Bob!\n"
     ]
    }
   ],
   "source": [
    "# Exercise 1.8\n",
    "# Implement the preceding exercise using an object with a __call__() method.\n",
    "class Greeter(object):\n",
    "    # Define your class methods here\n",
    "    def __init__(self, greeting):\n",
    "        self.greeting = greeting\n",
    "    \n",
    "    def __call__(self, name):\n",
    "        print \"{greeting}, {name}!\".format(greeting=self.greeting,\n",
    "                                         name=name)\n",
    "\n",
    "# This is test code that should work after you have defined the class above.\n",
    "if True: # Set this to True to test your code.\n",
    "    greeter = Greeter('Howdy')\n",
    "    greeter('Bob')\n",
    "    "
   ]
  }
 ],
 "metadata": {
  "kernelspec": {
   "display_name": "Python 2",
   "language": "python",
   "name": "python2"
  },
  "language_info": {
   "codemirror_mode": {
    "name": "ipython",
    "version": 2
   },
   "file_extension": ".py",
   "mimetype": "text/x-python",
   "name": "python",
   "nbconvert_exporter": "python",
   "pygments_lexer": "ipython2",
   "version": "2.7.13"
  }
 },
 "nbformat": 4,
 "nbformat_minor": 2
}
