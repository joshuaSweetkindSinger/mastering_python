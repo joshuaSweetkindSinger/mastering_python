{
 "cells": [
  {
   "cell_type": "markdown",
   "metadata": {},
   "source": [
    "# Exercises"
   ]
  },
  {
   "cell_type": "code",
   "execution_count": 1,
   "metadata": {
    "collapsed": true
   },
   "outputs": [],
   "source": [
    "# Exercise 2.1\n",
    "# Create a class called Ingredient, that represents an ingredient in a recipe.\n",
    "# Give it *class* symbolic constants (i.e., class variables, NOT member variables) named:\n",
    "#    - NAME: the name of the ingredient, e.g. \"sugar\"\n",
    "#    - DENSITY: the density of the ingredient, in grams per cm^3, e.g. 1.59\n",
    "#    - CALORIES: the calories per gram of the ingredient, e.g. 3.87\n",
    "#\n",
    "# Note that you won't be able to assign meaningful values to the above symbolic constants\n",
    "# at the Ingredient level, so just give them the values '', 0, 0. When you create subclasses\n",
    "# later on, you'll be able to override these names with meaningful values.\n",
    "#\n",
    "# We are not going to create instances of this class, but we will create subclasses. \n",
    "# The subclasses themselves will act as singleton objects, representing the properties\n",
    "# of a particular ingredient.\n",
    "#\n",
    "# Create a class method called \"calories_per_cm3()\" that returns the calories\n",
    "# per cm^3 of the object.\n",
    "#\n",
    "# Create a subclass of Ingredient called Sugar that sets its symbolic constants \n",
    "# with the appropriate values for sugar: NAME = \"sugar', DENSITY = 1.59, CALORIES = 3.87.\n",
    "\n",
    "# Create a subclass of Ingredient called Lemon that sets its symbolic constants with the\n",
    "# appropriate values for lemon: NAME = \"lemon\", DENSITY = 1.03, CALORIES = .22\n",
    "\n",
    "# Define your classes beneath this line.\n",
    "class Ingredient(object):\n",
    "    \"\"\"\n",
    "    Represents an ingredient in a recipe.\n",
    "    \"\"\"\n",
    "    NAME = ''\n",
    "    DENSITY = 0\n",
    "    CALORIES = 0\n",
    "    \n",
    "    @classmethod\n",
    "    def calories_per_cm3(cls):\n",
    "        return cls.DENSITY * cls.CALORIES\n",
    "    \n",
    "class Sugar(Ingredient):\n",
    "    NAME = 'sugar'\n",
    "    DENSITY = 1.59\n",
    "    CALORIES = 3.87\n",
    "    \n",
    "class Lemon(Ingredient):\n",
    "    NAME = 'lemon'\n",
    "    DENSITY = 1.03\n",
    "    CALORIES = 0.22"
   ]
  },
  {
   "cell_type": "code",
   "execution_count": 2,
   "metadata": {},
   "outputs": [
    {
     "name": "stdout",
     "output_type": "stream",
     "text": [
      "The density of sugar is 1.59\n",
      "sugar has 3.87 calories per gram.\n",
      "sugar has 6.15 calories per cubic centimeter\n",
      "The density of lemon is 1.03\n",
      "lemon has 0.22 calories per gram.\n",
      "lemon has 0.23 calories per cubic centimeter\n"
     ]
    }
   ],
   "source": [
    "# Test Code\n",
    "if 'Sugar' in globals() and 'Lemon' in globals():\n",
    "    print(\"The density of {sugar} is {density:.2f}\".format(sugar = Sugar.NAME,\n",
    "                                                           density = Sugar.DENSITY))\n",
    "    print(\"{sugar} has {cal:.2f} calories per gram.\".format(sugar = Sugar.NAME, \n",
    "                                                            cal = Sugar.CALORIES))\n",
    "    print(\"{sugar} has {cal:.2f} calories per cubic centimeter\".format(sugar = Sugar.NAME, \n",
    "                                                                       cal = Sugar.calories_per_cm3()))\n",
    "    \n",
    "    print(\"The density of {lemon} is {density:.2f}\".format(lemon = Lemon.NAME, \n",
    "                                                           density = Lemon.DENSITY))\n",
    "    print(\"{lemon} has {cal:.2f} calories per gram.\".format(lemon = Lemon.NAME, \n",
    "                                                            cal = Lemon.CALORIES))\n",
    "    print(\"{lemon} has {cal:.2f} calories per cubic centimeter\".format(lemon = Lemon.NAME, \n",
    "                                                                       cal = Lemon.calories_per_cm3()))"
   ]
  },
  {
   "cell_type": "code",
   "execution_count": 12,
   "metadata": {},
   "outputs": [],
   "source": [
    "# Exercise 2.2\n",
    "# Create a class called IngredientAmount, which represents a particular amount \n",
    "# of a particular ingredient to be used in a recipe, e.g., 5 grams of sugar,\n",
    "# with member variables named:\n",
    "#     _grams: The amount of the ingredient to be used, in grams\n",
    "#     _ingredient: an Ingredient object.\n",
    "#     _calories: The calories resulting from using _grams of _ingredient. \n",
    "#                For example, using 5 grams of sugar at 3.87 calories / gm\n",
    "#                would result in self._calories = 5 * 3.87\n",
    "#\n",
    "# From a design standpoint, it would probably be best if instances of \n",
    "# IngredientAmount were immutable; however, for the sake of this exercise, \n",
    "# we are going to make our instances mutable, so that we can experiment\n",
    "# with using @property to implement setters, validations, and eager calculations.\n",
    "#\n",
    "# Use @property to provide setters and getters for both grams and ingredient.\n",
    "# When either grams or ingredient changes, have the setter recalculate self._calories.\n",
    "# Have the setter for grams also validate that grams is positive, raising an error\n",
    "# otherwise. If you wish, and you know how to do it, you can also have the setter for\n",
    "# ingredient verify that its value is a valid Ingredient subclass, by using python's\n",
    "# issubclass() built-in.\n",
    "\n",
    "# Use @property to make calories a read-only property.\n",
    "\n",
    "# Define a __repr__() method for your class so that an instance of IngredientAmount \n",
    "# will print out like: <5 grams of sugar>.\n",
    "\n",
    "# Define your class beneath this line.\n",
    "class IngredientAmount(object):\n",
    "    \"\"\"\n",
    "    Represents a particular amount of a particular ingredient to be used in a recipe\n",
    "    \"\"\"\n",
    "    def __init__(self, grams, ingredient):\n",
    "        self._grams = 0\n",
    "        self._ingredient = Ingredient()\n",
    "        self._calories = 0\n",
    "        self._is_dirty = 1\n",
    "        \n",
    "        self.grams = grams\n",
    "        self.ingredient = ingredient\n",
    "        \n",
    "    @property\n",
    "    def grams(self):\n",
    "        return self._grams\n",
    "    \n",
    "    @grams.setter\n",
    "    def grams(self, new_grams):\n",
    "        assert new_grams > 0, \"grams must be greater than 0\"\n",
    "        self._grams = new_grams\n",
    "        self._is_dirty = 1\n",
    "    \n",
    "    @property\n",
    "    def ingredient(self):\n",
    "        return self._ingredient\n",
    "    \n",
    "    @ingredient.setter\n",
    "    def ingredient(self, new_ingredient):\n",
    "        assert issubclass(new_ingredient, Ingredient), \"ingredient must be a valid Ingredient subclass\"\n",
    "        self._ingredient = new_ingredient\n",
    "        self._is_dirty = 1\n",
    "        \n",
    "    @property\n",
    "    def calories(self):\n",
    "        if self._is_dirty == 1:\n",
    "            self._calories = self._ingredient.CALORIES * self._grams\n",
    "            self._is_dirty = 0\n",
    "        return self._calories\n",
    "    \n",
    "    def __repr__(self):\n",
    "        return \"<{grams} grams of {ingredient.NAME}>\".format(grams = self.grams, ingredient = self.ingredient)"
   ]
  },
  {
   "cell_type": "code",
   "execution_count": 13,
   "metadata": {},
   "outputs": [
    {
     "name": "stdout",
     "output_type": "stream",
     "text": [
      "There are 19.35 calories in <5 grams of sugar>\n",
      "There are 38.70 calories in <10 grams of sugar>\n",
      "There are 2.20 calories in <10 grams of lemon>\n"
     ]
    }
   ],
   "source": [
    "# Test Code\n",
    "# Enable the conditional below to test your code\n",
    "if 'IngredientAmount' in globals():\n",
    "    amount = IngredientAmount(grams = 5, ingredient = Sugar)\n",
    "    print(\"There are {cal:.2f} calories in {amount}\".format(amount = amount, \n",
    "                                                            cal = amount.calories))\n",
    "    \n",
    "    amount.grams = 10\n",
    "    print(\"There are {cal:.2f} calories in {amount}\".format(amount = amount, \n",
    "                                                            cal = amount.calories))\n",
    "    \n",
    "    amount.ingredient = Lemon\n",
    "    print(\"There are {cal:.2f} calories in {amount}\".format(amount = amount, \n",
    "                                                            cal = amount.calories))\n",
    "\n",
    "    "
   ]
  },
  {
   "cell_type": "code",
   "execution_count": 16,
   "metadata": {},
   "outputs": [
    {
     "ename": "NameError",
     "evalue": "name 'let' is not defined",
     "output_type": "error",
     "traceback": [
      "\u001b[0;31m---------------------------------------------------------------------------\u001b[0m",
      "\u001b[0;31mNameError\u001b[0m                                 Traceback (most recent call last)",
      "\u001b[0;32m<ipython-input-16-cfc7d26659c5>\u001b[0m in \u001b[0;36m<module>\u001b[0;34m()\u001b[0m\n\u001b[0;32m----> 1\u001b[0;31m \u001b[0mamount\u001b[0m \u001b[0;34m=\u001b[0m \u001b[0mIngredientAmount\u001b[0m\u001b[0;34m(\u001b[0m\u001b[0mgrams\u001b[0m \u001b[0;34m=\u001b[0m \u001b[0;36m1\u001b[0m\u001b[0;34m,\u001b[0m \u001b[0mingredient\u001b[0m \u001b[0;34m=\u001b[0m \u001b[0mlet\u001b[0m\u001b[0;34m)\u001b[0m\u001b[0;34m\u001b[0m\u001b[0m\n\u001b[0m",
      "\u001b[0;31mNameError\u001b[0m: name 'let' is not defined"
     ]
    }
   ],
   "source": []
  },
  {
   "cell_type": "code",
   "execution_count": null,
   "metadata": {
    "collapsed": true
   },
   "outputs": [],
   "source": []
  }
 ],
 "metadata": {
  "kernelspec": {
   "display_name": "Python 3",
   "language": "python",
   "name": "python3"
  },
  "language_info": {
   "codemirror_mode": {
    "name": "ipython",
    "version": 3
   },
   "file_extension": ".py",
   "mimetype": "text/x-python",
   "name": "python",
   "nbconvert_exporter": "python",
   "pygments_lexer": "ipython3",
   "version": "3.5.3"
  }
 },
 "nbformat": 4,
 "nbformat_minor": 2
}
