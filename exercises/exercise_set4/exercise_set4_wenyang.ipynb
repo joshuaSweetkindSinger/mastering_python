{
 "cells": [
  {
   "cell_type": "markdown",
   "metadata": {},
   "source": [
    "# Exercise Set 4"
   ]
  },
  {
   "cell_type": "markdown",
   "metadata": {},
   "source": [
    "# Exercise 4.1"
   ]
  },
  {
   "cell_type": "code",
   "execution_count": 1,
   "metadata": {},
   "outputs": [],
   "source": [
    "# Create two classes, called Squares and SquaresIterator respectively.\n",
    "# The former will be an iterable and the latter will be its associated Iterator.\n",
    "# Make the instance returned by Squares(n) be an iterable that yields the first n squares, starting\n",
    "# with 0. So, for example, Squares(5) would represent the collection 0, 1, 4, 9, 16.\n",
    "\n",
    "# Define your two classes beneath this line.     \n",
    "class Squares(object):\n",
    "    def __init__(self, finish):\n",
    "        self._start = 0\n",
    "        self._finish = finish\n",
    "    \n",
    "    @property\n",
    "    def start(self):\n",
    "        return self._start\n",
    "    \n",
    "    @property\n",
    "    def finish(self):\n",
    "        return self._finish\n",
    "    \n",
    "    def __iter__(self):\n",
    "        return SquaresIterator(self)\n",
    "\n",
    "class SquaresIterator(object):\n",
    "    def __init__(self, squares):\n",
    "        self._squares = squares\n",
    "        self._next_integer = squares.start\n",
    "        \n",
    "    def __iter__(self):\n",
    "        return self\n",
    "    \n",
    "    def __next__(self):\n",
    "        while self._next_integer < self._squares.finish:\n",
    "            self._next_integer += 1\n",
    "            return (self._next_integer - 1)**2\n",
    "        \n",
    "        raise StopIteration\n",
    "        "
   ]
  },
  {
   "cell_type": "code",
   "execution_count": 2,
   "metadata": {},
   "outputs": [],
   "source": [
    "# Use this to test your code.\n",
    "for x in Squares(10):\n",
    "    print(x)"
   ]
  },
  {
   "cell_type": "markdown",
   "metadata": {},
   "source": [
    "# Expected Output From 4.1"
   ]
  },
  {
   "cell_type": "markdown",
   "metadata": {},
   "source": [
    "    0\n",
    "    1\n",
    "    4\n",
    "    9\n",
    "    16\n",
    "    25\n",
    "    36\n",
    "    49\n",
    "    64\n",
    "    81"
   ]
  },
  {
   "cell_type": "markdown",
   "metadata": {},
   "source": [
    "# Exercise Suite 4.2"
   ]
  },
  {
   "cell_type": "code",
   "execution_count": 3,
   "metadata": {},
   "outputs": [],
   "source": [
    "# Use built-ins iter(), next(), and list() to do the following:\n",
    "\n",
    "# Exercise 4.2.1\n",
    "# Create an iterator object over the first 10 squares, assign it to the variable x,\n",
    "# and print out the object x using print(x).\n",
    "# Code your solution beneath this line.\n",
    "x = iter(Squares(10))\n",
    "print(x)\n",
    "\n",
    "\n",
    "# Exercise 4.2.2\n",
    "# Using the x above and the next() function, print the sum of the first 3 squares\n",
    "# in the iterator x.\n",
    "# Code your solution beneath this line.\n",
    "print(sum(next(x) for i in range(3)))\n",
    "\n",
    "\n",
    "# Exercise 4.2.3\n",
    "# Using x and next(), print the sum of the next 4 squares in the iterator x.\n",
    "# Code your solution beneath this line.\n",
    "print(sum(next(x) for i in range(4)))\n",
    "\n",
    "\n",
    "# Exercise 4.2.4\n",
    "# Using x and list(), make a list consisting of the remaining 3 squares in\n",
    "# the iterator x and assign it to the variable y. Then print(y).\n",
    "# Code your solution beneath this line.\n",
    "y = list(x)\n",
    "print(y)"
   ]
  },
  {
   "cell_type": "markdown",
   "metadata": {},
   "source": [
    "# Expected output from Suite 4.2\n",
    "    <__main__.SquaresIterator object at 0x10b786470>\n",
    "    5\n",
    "    86\n",
    "    [49, 64, 81]"
   ]
  },
  {
   "cell_type": "markdown",
   "metadata": {},
   "source": [
    "# Exercise 4.3"
   ]
  },
  {
   "cell_type": "code",
   "execution_count": 4,
   "metadata": {},
   "outputs": [],
   "source": [
    "# Redo exercise 4.1 above using a generator instead of using any classes. \n",
    "# That is, create a function called generate_squares(n) that returns\n",
    "# a generator iterator over the first n squares, starting at 0.\n",
    "\n",
    "# Code your solution beneath this line.\n",
    "def generate_squares(n):\n",
    "    for i in range(n):\n",
    "        yield i*i"
   ]
  },
  {
   "cell_type": "code",
   "execution_count": 5,
   "metadata": {},
   "outputs": [],
   "source": [
    "# Use this to test your code.\n",
    "for x in generate_squares(10):\n",
    "    print(x)"
   ]
  },
  {
   "cell_type": "markdown",
   "metadata": {},
   "source": [
    "# Expected Output from 4.3\n",
    "    0\n",
    "    1\n",
    "    4\n",
    "    9\n",
    "    16\n",
    "    25\n",
    "    36\n",
    "    49\n",
    "    64\n",
    "    81"
   ]
  },
  {
   "cell_type": "markdown",
   "metadata": {},
   "source": [
    "# Exercise 4.4"
   ]
  },
  {
   "cell_type": "code",
   "execution_count": 6,
   "metadata": {},
   "outputs": [],
   "source": [
    "# Redo exercise 4.1 again! This time, keep the class Squares,\n",
    "# but get rid of the class SquaresIterator. Instead, implement\n",
    "# the __iter__() method of Squares by making this method a generator.\n",
    "\n",
    "# Code your solution beneath this line.\n",
    "class Squares(object):\n",
    "    def __init__(self, finish):\n",
    "        self._start = 0\n",
    "        self._finish = finish\n",
    "    \n",
    "    @property\n",
    "    def start(self):\n",
    "        return self._start\n",
    "    \n",
    "    @property\n",
    "    def finish(self):\n",
    "        return self._finish\n",
    "    \n",
    "    def __iter__(self):\n",
    "        for i in range(self.start, self.finish):\n",
    "            yield i*i"
   ]
  },
  {
   "cell_type": "code",
   "execution_count": 7,
   "metadata": {},
   "outputs": [
    {
     "name": "stdout",
     "output_type": "stream",
     "text": [
      "0\n",
      "1\n",
      "4\n",
      "9\n",
      "16\n",
      "25\n",
      "36\n",
      "49\n",
      "64\n",
      "81\n"
     ]
    }
   ],
   "source": [
    "# Use this to test your code.\n",
    "for x in Squares(10):\n",
    "    print(x)"
   ]
  },
  {
   "cell_type": "markdown",
   "metadata": {},
   "source": [
    "# Expected Output from 4.4\n",
    "    0\n",
    "    1\n",
    "    4\n",
    "    9\n",
    "    16\n",
    "    25\n",
    "    36\n",
    "    49\n",
    "    64\n",
    "    81"
   ]
  },
  {
   "cell_type": "markdown",
   "metadata": {},
   "source": [
    "# Exercise 4.5"
   ]
  },
  {
   "cell_type": "code",
   "execution_count": 8,
   "metadata": {},
   "outputs": [],
   "source": [
    "# Using any methodology you desire, create\n",
    "# an iterable or iterator over the Fibonacci numbers,\n",
    "# i.e., over the infinite sequence 1,1,2,3,5,8,13,...\n",
    "# Advice: incorporating a generator into your solution, either as a standalone\n",
    "# generator or as an __iter__() method on a class, is almost always easier than\n",
    "# creating an iterable or iterator without using a generator.\n",
    "\n",
    "# Code your solution beneath this line.\n",
    "class fibonaccis(object):\n",
    "    def __init__(self, finish = float('inf')):\n",
    "        self._first = 1\n",
    "        self._second = 1\n",
    "        self._finish = finish\n",
    "    \n",
    "    @property\n",
    "    def first(self):\n",
    "        return self._first\n",
    "    \n",
    "    @property\n",
    "    def second(self):\n",
    "        return self._second\n",
    "    \n",
    "    @property\n",
    "    def finish(self):\n",
    "        return self._finish\n",
    "    \n",
    "    def __iter__(self):\n",
    "        yield self.first\n",
    "        yield self.second\n",
    "        while self.first + self.second < self.finish:\n",
    "            tmp = self.first + self.second\n",
    "            self._first = self.second\n",
    "            self._second = tmp\n",
    "            yield tmp\n",
    "        "
   ]
  },
  {
   "cell_type": "code",
   "execution_count": 9,
   "metadata": {},
   "outputs": [
    {
     "name": "stdout",
     "output_type": "stream",
     "text": [
      "1\n",
      "1\n",
      "2\n",
      "3\n",
      "5\n",
      "8\n",
      "13\n",
      "21\n",
      "34\n",
      "55\n"
     ]
    }
   ],
   "source": [
    "# Use this to test your code\n",
    "from itertools import islice # This stands for iterator-slice and takes the first n elements of an iterator.\n",
    "for x in islice(fibonaccis(), 10):\n",
    "    print(x)"
   ]
  },
  {
   "cell_type": "markdown",
   "metadata": {},
   "source": [
    "# Expected Output from 4.5\n",
    "    1\n",
    "    1\n",
    "    2\n",
    "    3\n",
    "    5\n",
    "    8\n",
    "    13\n",
    "    21\n",
    "    34\n",
    "    55"
   ]
  },
  {
   "cell_type": "markdown",
   "metadata": {},
   "source": [
    "# Exercise 4.6"
   ]
  },
  {
   "cell_type": "code",
   "execution_count": 10,
   "metadata": {},
   "outputs": [],
   "source": [
    "# Leveraging the existing Fibonacci iterable/iterator you have created, \n",
    "# create a new iterable/iterator over the ratios of successive Fibonacci numbers,\n",
    "# i.e., over the infinite sequence 1/1, 2/1, 3/2, 5/3 8/5, 13/8, ...\n",
    "\n",
    "# Code your solution beneath this line.\n",
    "def fibonacci_ratios():\n",
    "    fibs = iter(fibonaccis())\n",
    "    while True:\n",
    "        try:\n",
    "            last_fib = next(fibs)\n",
    "        except StopIteration:\n",
    "            last_fib = None\n",
    "        try:\n",
    "            fib = next(fibs)\n",
    "        except StopIteration:\n",
    "            fib = None\n",
    "        yield fib/last_fib\n",
    "        last_fib = fib"
   ]
  },
  {
   "cell_type": "code",
   "execution_count": 11,
   "metadata": {},
   "outputs": [
    {
     "name": "stdout",
     "output_type": "stream",
     "text": [
      "1.0\n",
      "1.5\n",
      "1.6\n",
      "1.6153846153846154\n",
      "1.6176470588235294\n",
      "1.6179775280898876\n",
      "1.6180257510729614\n",
      "1.618032786885246\n",
      "1.6180338134001253\n",
      "1.6180339631667064\n",
      "fibs converges to:  1.618033988749895\n",
      "The Golden ratio is 1.618033988749895\n"
     ]
    }
   ],
   "source": [
    "# Use this to test your code\n",
    "\n",
    "import math\n",
    "fibs = fibonacci_ratios()\n",
    "for x in islice(fibs, 10):\n",
    "    print(x)\n",
    "\n",
    "# Peel off the next 50 numbers in the sequence.\n",
    "for x in islice(fibs, 50):\n",
    "    pass\n",
    "\n",
    "print(\"fibs converges to: \", next(fibs))\n",
    "print(\"The Golden ratio is\", (1 + math.sqrt(5))/2)"
   ]
  },
  {
   "cell_type": "markdown",
   "metadata": {},
   "source": [
    "# Expected Output from 4.6\n",
    "    1.0\n",
    "    2.0\n",
    "    1.5\n",
    "    1.6666666666666667\n",
    "    1.6\n",
    "    1.625\n",
    "    1.6153846153846154\n",
    "    1.619047619047619\n",
    "    1.6176470588235294\n",
    "    1.6181818181818182\n",
    "    fibs converges to:  1.618033988749895\n",
    "    The Golden ratio is 1.618033988749895"
   ]
  },
  {
   "cell_type": "markdown",
   "metadata": {},
   "source": [
    "# Exercise 4.7\n",
    "Using any methodology you desire, create an iterable or iterator over\n",
    "the sentences in a text represented as a string. For example, if you\n",
    "Look at the \"test your code\" section just below this section, you'll see\n",
    "the text of the Gettysburg address represented as a string. When that string\n",
    "is passed into your iterable/iterator/generator, the associated iterator should\n",
    "yield successive sentences from the text each time its `__next__()` method is called.\n",
    "\n",
    "- Each sentence should begin with a word, not whitespace, and should end with\n",
    "   a sentence terminator, one of `'.'`, `'?'`, `'!'`.\n",
    "- Treat a carriage return, i.e., `'\\n'`, as though it were a space. The output sentences of the iterator\n",
    "    should not contain carriage returns. Transform them to spaces instead.\n",
    "- For the purposes of this exercise, you can make the simplifying assumption that each\n",
    "    sentence terminator (period, question mark, exclamaton point), will be followed by\n",
    "    exactly one whitespace character: either a space or a carriage return.\n",
    "\n",
    "## Hints\n",
    "This exercise might be tricky for you if you if you are not familiar with some aspects\n",
    "of python. For example, `c in '.?!'` is an expression evaluating to `True` if the character `c`\n",
    "is one of the characters `'.'` , `'?'`, or `'!'`.\n",
    " \n",
    "Another useful idiom to know is that `''.join(my_list)` will join together all the strings in the list `my_list` into a single string.\n",
    "\n",
    "Another useful idiom to know is that if `s` is a string, then you can loop through its characters one character at a time via `for c in s:`\n",
    " \n",
    " \n",
    " "
   ]
  },
  {
   "cell_type": "code",
   "execution_count": 12,
   "metadata": {},
   "outputs": [],
   "source": [
    "# Write your code beneath this line. \n",
    "def split_sentences(sentences):\n",
    "    my_list = []\n",
    "    for c in sentences:\n",
    "        if c in '.?!':\n",
    "            my_list.append(c)\n",
    "            yield ''.join(my_list)\n",
    "            my_list = []\n",
    "        else:\n",
    "            if len(my_list) == 0 and c == \" \":\n",
    "                continue\n",
    "            if c != \"\\n\":\n",
    "                my_list.append(c)\n"
   ]
  },
  {
   "cell_type": "code",
   "execution_count": 13,
   "metadata": {},
   "outputs": [
    {
     "name": "stdout",
     "output_type": "stream",
     "text": [
      "Four score and seven years ago our fathers brought forth on this continent a new nation,conceived in Liberty, and dedicated to the proposition that all men are created equal.\n",
      "\n",
      "Now we are engaged in a great civil war, testing whether that nation or any nation soconceived and so dedicated, can long endure.\n",
      "\n",
      "We are met on a great battle-field of thatwar.\n",
      "\n",
      "We have come to dedicate a portion of that field, as a final resting place for thosewho here gave their lives that that nation might live.\n",
      "\n",
      "It is altogether fitting and properthat we should do this.\n",
      "\n",
      "But, in a larger sense, we can not dedicate—we can notconsecrate—we can not hallow—this ground.\n",
      "\n",
      "The brave men, living and dead, who struggled here, haveconsecrated it, far above our poor power to add or detract.\n",
      "\n",
      "The world will little note,nor long remember what we say here, but it can never forget what they did here.\n",
      "\n",
      "It is forus the living, rather, to be dedicated here to the unfinished work which they who fought here have thus far so nobly advanced.\n",
      "\n",
      "It is rather for us to be here dedicated to the great task remainingbefore us—that from these honored dead we take increased devotion to that cause for which theygave the last full measure of devotion—that we here highly resolve that these dead shall nothave died in vain—that this nation, under God, shall have a new birth of freedom—and thatgovernment of the people, by the people, for the people, shall not perish from the earth.\n",
      "\n"
     ]
    }
   ],
   "source": [
    "# Use this to test your code. Substitute the name of your iterable/iterator/generator\n",
    "# for the call to split_sentences() below.\n",
    "gettysburg = \"\"\"Four score and seven years ago our fathers brought forth on this continent a new nation,\n",
    "conceived in Liberty, and dedicated to the proposition that all men are created equal.\n",
    "Now we are engaged in a great civil war, testing whether that nation or any nation so\n",
    "conceived and so dedicated, can long endure. We are met on a great battle-field of that\n",
    "war. We have come to dedicate a portion of that field, as a final resting place for those\n",
    "who here gave their lives that that nation might live. It is altogether fitting and proper\n",
    "that we should do this. But, in a larger sense, we can not dedicate—we can not\n",
    "consecrate—we can not hallow—this ground. The brave men, living and dead, who struggled here, have\n",
    "consecrated it, far above our poor power to add or detract. The world will little note,\n",
    "nor long remember what we say here, but it can never forget what they did here. It is for\n",
    "us the living, rather, to be dedicated here to the unfinished work which they who fought here have \n",
    "thus far so nobly advanced. It is rather for us to be here dedicated to the great task remaining\n",
    "before us—that from these honored dead we take increased devotion to that cause for which they\n",
    "gave the last full measure of devotion—that we here highly resolve that these dead shall not\n",
    "have died in vain—that this nation, under God, shall have a new birth of freedom—and that\n",
    "government of the people, by the people, for the people, shall not perish from the earth.\n",
    "\"\"\"\n",
    "for sentence in split_sentences(gettysburg):\n",
    "    print(sentence)\n",
    "    print()"
   ]
  },
  {
   "cell_type": "markdown",
   "metadata": {},
   "source": [
    "# Expected Output from 4.7\n",
    "Four score and seven years ago our fathers brought forth on this continent a new nation, conceived in Liberty, and dedicated to the proposition that all men are created equal.\n",
    "\n",
    "Now we are engaged in a great civil war, testing whether that nation or any nation so conceived and so dedicated, can long endure.\n",
    "\n",
    "We are met on a great battle-field of that war.\n",
    "\n",
    "We have come to dedicate a portion of that field, as a final resting place for those who here gave their lives that that nation might live.\n",
    "\n",
    "It is altogether fitting and proper that we should do this.\n",
    "\n",
    "But, in a larger sense, we can not dedicate—we can not consecrate—we can not hallow—this ground.\n",
    "\n",
    "The brave men, living and dead, who struggled here, have consecrated it, far above our poor power to add or detract.\n",
    "\n",
    "The world will little note, nor long remember what we say here, but it can never forget what they did here.\n",
    "\n",
    "It is for us the living, rather, to be dedicated here to the unfinished work which they who fought here have  thus far so nobly advanced.\n",
    "\n",
    "It is rather for us to be here dedicated to the great task remaining before us—that from these honored dead we take increased devotion to that cause for which they gave the last full measure of devotion—that we here highly resolve that these dead shall not have died in vain—that this nation, under God, shall have a new birth of freedom—and that government of the people, by the people, for the people, shall not perish from the earth."
   ]
  }
 ],
 "metadata": {
  "kernelspec": {
   "display_name": "Python 3",
   "language": "python",
   "name": "python3"
  },
  "language_info": {
   "codemirror_mode": {
    "name": "ipython",
    "version": 3
   },
   "file_extension": ".py",
   "mimetype": "text/x-python",
   "name": "python",
   "nbconvert_exporter": "python",
   "pygments_lexer": "ipython3",
   "version": "3.6.4"
  }
 },
 "nbformat": 4,
 "nbformat_minor": 2
}
