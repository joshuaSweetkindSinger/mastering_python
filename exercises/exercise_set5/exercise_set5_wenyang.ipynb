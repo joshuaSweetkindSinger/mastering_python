{
 "cells": [
  {
   "cell_type": "markdown",
   "metadata": {},
   "source": [
    "# Exercise Set 5"
   ]
  },
  {
   "cell_type": "markdown",
   "metadata": {},
   "source": [
    "# Exercise 5.1\n"
   ]
  },
  {
   "cell_type": "code",
   "execution_count": 1,
   "metadata": {},
   "outputs": [],
   "source": [
    "# Create a decorator called @silence_errors that silences all errors\n",
    "# that occur inside a call to the function it decorates. If an error,\n",
    "# occurs, then the function simply returns None.\n",
    "\n",
    "# Write your decorator beneath this line.\n",
    "def silence_errors(f):\n",
    "    def wrapper(*args, **kwds):\n",
    "        try:\n",
    "            return args[0] / args[1]\n",
    "        except:\n",
    "            return None\n",
    "    return wrapper"
   ]
  },
  {
   "cell_type": "code",
   "execution_count": 2,
   "metadata": {},
   "outputs": [],
   "source": [
    "# Use this to test your code. \n",
    "@silence_errors\n",
    "def divide(x, y):\n",
    "    return x / y"
   ]
  },
  {
   "cell_type": "code",
   "execution_count": 3,
   "metadata": {},
   "outputs": [
    {
     "data": {
      "text/plain": [
       "1.5"
      ]
     },
     "execution_count": 3,
     "metadata": {},
     "output_type": "execute_result"
    }
   ],
   "source": [
    "# The return value here should be 1.5\n",
    "divide(3,2)"
   ]
  },
  {
   "cell_type": "code",
   "execution_count": 4,
   "metadata": {},
   "outputs": [],
   "source": [
    "# There should be no output at all here,\n",
    "# because the return value should be None.\n",
    "divide(1, 0)"
   ]
  },
  {
   "cell_type": "markdown",
   "metadata": {},
   "source": [
    "# Exercise 5.2"
   ]
  },
  {
   "cell_type": "code",
   "execution_count": 5,
   "metadata": {},
   "outputs": [],
   "source": [
    "# Write a decorator called @monitor that does the following:\n",
    "#   - whenever the function it decorates is invoked, it prints\n",
    "#     out the time, followed by \"enter <function name>\"\n",
    "#   - when the function exits, it prints out the time again,\n",
    "#     followed by \"exit <function name> <outcome>\", where\n",
    "#     outcome is SUCCESS if the function exited normally\n",
    "#     and FAILURE if the function raised an error.\n",
    "#\n",
    "# See the test code below for a concrete example of usage.\n",
    "#\n",
    "# HINTS:\n",
    "# Import the datetime module and use datetime.datetime.today() to\n",
    "# return a string with the current time.\n",
    "#\n",
    "# If f is a function, then f.__name__ is its name.\n",
    "\n",
    "# Write your decorator beneath this line.\n",
    "from datetime import datetime\n",
    "def monitor(f):\n",
    "    def wrapper(*args, **kwds):\n",
    "        print(datetime.today(), \" enter \", f.__name__)\n",
    "        try:\n",
    "            results = f(*args, **kwds)\n",
    "            print(datetime.today(), \" exit \", f.__name__, \" SUCCESS\")\n",
    "        except Exception as e:\n",
    "            print(datetime.today(), \" exit \", f.__name__, \" FAILURE\")\n",
    "    return wrapper"
   ]
  },
  {
   "cell_type": "code",
   "execution_count": 6,
   "metadata": {},
   "outputs": [
    {
     "name": "stdout",
     "output_type": "stream",
     "text": [
      "2018-04-25 19:01:23.634572  enter  add_em_up_slowly\n",
      "2018-04-25 19:01:23.634792  exit  add_em_up_slowly  SUCCESS\n",
      "2018-04-25 19:01:23.634868  enter  add_em_up_slowly\n",
      "2018-04-25 19:01:23.634991  exit  add_em_up_slowly  FAILURE\n"
     ]
    }
   ],
   "source": [
    "# Use the code below to test your decorator\n",
    "@monitor\n",
    "def add_em_up_slowly(n):\n",
    "    result = 0\n",
    "    for i in range(n):\n",
    "        result += i\n",
    "    return result\n",
    "\n",
    "add_em_up_slowly(1000)\n",
    "add_em_up_slowly('hello')"
   ]
  },
  {
   "cell_type": "markdown",
   "metadata": {},
   "source": [
    "# Expected Output From 5.2\n",
    "The test code above should output something like this:\n",
    "\n",
    "    2018-04-21 18:39:42.403478 enter add_em_up_slowly\n",
    "    2018-04-21 18:39:42.403837 exit add_em_up_slowly SUCCESS\n",
    "    2018-04-21 18:39:42.404231 enter add_em_up_slowly\n",
    "    2018-04-21 18:39:42.404443 exit add_em_up_slowly FAILURE"
   ]
  },
  {
   "cell_type": "markdown",
   "metadata": {},
   "source": [
    "# Exercise 5.3"
   ]
  },
  {
   "cell_type": "code",
   "execution_count": 7,
   "metadata": {},
   "outputs": [],
   "source": [
    "# Write a decorator generator called @validate_signature() \n",
    "# that raises an error at runtime if the types of the arguments\n",
    "# passed to the function it decorates do not match the types \n",
    "# specified to the decorator generator.\n",
    "#\n",
    "# See the test code below for a concrete example of usage.\n",
    "#\n",
    "# For this exercise you can assume that the function being decorated\n",
    "# only takes positional arguments, no keyword arguments.\n",
    "#\n",
    "# HINTS\n",
    "# In python, the symbols int, float, str. evaluate to type objects.\n",
    "# You can ask any object what its type is by calling type() on it.\n",
    "# For example type(1) -> <class 'int'> (in python 3.6).\n",
    "#\n",
    "# If o is an object and typ is a type, \n",
    "# then isinstance(o, typ) is true if o is of type typ.\n",
    "#\n",
    "# Use python's \"assert\" statement to conveniently raise an error.\n",
    "\n",
    "# Write your decorator beneath this line.\n",
    "def validate_signature(*types):\n",
    "    def decorator(f):\n",
    "        def wrapper(*args):\n",
    "            for arg, typ in zip(args, types):\n",
    "                assert isinstance(arg, typ), \"Arg {arg} must be of type {typ}\".format(**locals())\n",
    "            return f(*args)\n",
    "        return wrapper\n",
    "    return decorator"
   ]
  },
  {
   "cell_type": "code",
   "execution_count": 8,
   "metadata": {},
   "outputs": [],
   "source": [
    "# Use this to test your code\n",
    "@validate_signature(int, float, int)\n",
    "def foo(x, y, z):\n",
    "    print(x + y * z)"
   ]
  },
  {
   "cell_type": "code",
   "execution_count": 9,
   "metadata": {},
   "outputs": [
    {
     "name": "stdout",
     "output_type": "stream",
     "text": [
      "10.2\n"
     ]
    }
   ],
   "source": [
    "foo(1, 2.3, 4)"
   ]
  },
  {
   "cell_type": "code",
   "execution_count": 10,
   "metadata": {},
   "outputs": [
    {
     "ename": "AssertionError",
     "evalue": "Arg 2.3 must be of type <class 'int'>",
     "output_type": "error",
     "traceback": [
      "\u001b[0;31m---------------------------------------------------------------------------\u001b[0m",
      "\u001b[0;31mAssertionError\u001b[0m                            Traceback (most recent call last)",
      "\u001b[0;32m<ipython-input-10-0af36ee5ea73>\u001b[0m in \u001b[0;36m<module>\u001b[0;34m()\u001b[0m\n\u001b[0;32m----> 1\u001b[0;31m \u001b[0mfoo\u001b[0m\u001b[0;34m(\u001b[0m\u001b[0;36m2.3\u001b[0m\u001b[0;34m,\u001b[0m \u001b[0;36m1\u001b[0m\u001b[0;34m,\u001b[0m \u001b[0;36m1\u001b[0m\u001b[0;34m)\u001b[0m\u001b[0;34m\u001b[0m\u001b[0m\n\u001b[0m",
      "\u001b[0;32m<ipython-input-7-d620503b0f0b>\u001b[0m in \u001b[0;36mwrapper\u001b[0;34m(*args)\u001b[0m\n\u001b[1;32m     24\u001b[0m         \u001b[0;32mdef\u001b[0m \u001b[0mwrapper\u001b[0m\u001b[0;34m(\u001b[0m\u001b[0;34m*\u001b[0m\u001b[0margs\u001b[0m\u001b[0;34m)\u001b[0m\u001b[0;34m:\u001b[0m\u001b[0;34m\u001b[0m\u001b[0m\n\u001b[1;32m     25\u001b[0m             \u001b[0;32mfor\u001b[0m \u001b[0marg\u001b[0m\u001b[0;34m,\u001b[0m \u001b[0mtyp\u001b[0m \u001b[0;32min\u001b[0m \u001b[0mzip\u001b[0m\u001b[0;34m(\u001b[0m\u001b[0margs\u001b[0m\u001b[0;34m,\u001b[0m \u001b[0mtypes\u001b[0m\u001b[0;34m)\u001b[0m\u001b[0;34m:\u001b[0m\u001b[0;34m\u001b[0m\u001b[0m\n\u001b[0;32m---> 26\u001b[0;31m                 \u001b[0;32massert\u001b[0m \u001b[0misinstance\u001b[0m\u001b[0;34m(\u001b[0m\u001b[0marg\u001b[0m\u001b[0;34m,\u001b[0m \u001b[0mtyp\u001b[0m\u001b[0;34m)\u001b[0m\u001b[0;34m,\u001b[0m \u001b[0;34m\"Arg {arg} must be of type {typ}\"\u001b[0m\u001b[0;34m.\u001b[0m\u001b[0mformat\u001b[0m\u001b[0;34m(\u001b[0m\u001b[0;34m**\u001b[0m\u001b[0mlocals\u001b[0m\u001b[0;34m(\u001b[0m\u001b[0;34m)\u001b[0m\u001b[0;34m)\u001b[0m\u001b[0;34m\u001b[0m\u001b[0m\n\u001b[0m\u001b[1;32m     27\u001b[0m             \u001b[0;32mreturn\u001b[0m \u001b[0mf\u001b[0m\u001b[0;34m(\u001b[0m\u001b[0;34m*\u001b[0m\u001b[0margs\u001b[0m\u001b[0;34m)\u001b[0m\u001b[0;34m\u001b[0m\u001b[0m\n\u001b[1;32m     28\u001b[0m         \u001b[0;32mreturn\u001b[0m \u001b[0mwrapper\u001b[0m\u001b[0;34m\u001b[0m\u001b[0m\n",
      "\u001b[0;31mAssertionError\u001b[0m: Arg 2.3 must be of type <class 'int'>"
     ]
    }
   ],
   "source": [
    "foo(2.3, 1, 1)"
   ]
  },
  {
   "cell_type": "markdown",
   "metadata": {},
   "source": [
    "# Expected Output From 5.3\n",
    "\n",
    "    10.2\n",
    "    \n",
    "    ---------------------------------------------------------------------------\n",
    "    AssertionError                            Traceback (most recent call last)\n",
    "    <ipython-input-10-4374da063239> in <module>()\n",
    "    ----> 1 foo(2.3, 1, 1)\n",
    "\n",
    "    <ipython-input-7-2bb72d28c515> in wrapper(*args)\n",
    "         24         def wrapper(*args):\n",
    "         25             for arg, typ in zip(args, types):\n",
    "    ---> 26                 assert isinstance(arg, typ), \"Arg {arg} must be of type {typ}\".format(**locals())\n",
    "         27             return f(*args)\n",
    "         28         return wrapper\n",
    "\n",
    "    AssertionError: Arg 2.3 must be of type <class 'int'>"
   ]
  },
  {
   "cell_type": "markdown",
   "metadata": {},
   "source": [
    "# Exercise 5.4"
   ]
  },
  {
   "cell_type": "code",
   "execution_count": 11,
   "metadata": {},
   "outputs": [],
   "source": [
    "# The code below is necessary set-up code for this exercise. \n",
    "# The function handle_question() is designed to receive as input\n",
    "# a string representing a question, such as \n",
    "# \"how high is the empire state building?\". The function's job\n",
    "# is to return a string representing the answer to the question\n",
    "# if it can, or to return \"I don't know\" if it cannot answer the question.\n",
    "#\n",
    "# In order to get its job done, handle_question() \"consults\" a list of\n",
    "# question \"handlers\" by calling them one at a time, passing the question as\n",
    "# input to each of them. A handler is a function that accepts a question as\n",
    "# input. If the handler knows the answer to the question, then it returns\n",
    "# the answer as a string; otherwise, it returns None.\n",
    "#\n",
    "# Each handler is kept on a global list that identifies the existing handlers.\n",
    "# The system is designed so that new handlers can be added at any time to\n",
    "# expand the capabilities of the system.\n",
    "\n",
    "registered_handlers = [] # This holds the defined set of question handlers.\n",
    "    \n",
    "def handle_question(question):\n",
    "    \"\"\"\n",
    "    :param: question: A string representing a question\n",
    "    :return: a string representing the answer to the question.\n",
    "    \n",
    "    PROGRAMMER NOTES\n",
    "    This is the top-level function\n",
    "    for answering a question. It gets\n",
    "    its job done by consulting the list of registered handlers.\n",
    "    If none can answer the question, it returns \"I don't know.\"\n",
    "    \"\"\"\n",
    "    return next((handle(question) for handle in registered_handlers if handle(question)), \n",
    "                \"I don't know.\")"
   ]
  },
  {
   "cell_type": "code",
   "execution_count": 12,
   "metadata": {},
   "outputs": [],
   "source": [
    "# Write a decorator called @question_handler that, as a side-effect, installs the function\n",
    "# it decorates as a handler on the list of registered handlers. The\n",
    "# decorator doesn't need to wrap the function it decorates. It can return\n",
    "# the original function unaltered. In this case, we are using the decorator\n",
    "# only to achieve a side-effect, not to alter the original function.\n",
    "\n",
    "# See the test code below for a concrete example of usage.\n",
    "\n",
    "# Write your decorator beneath this line.\n",
    "def question_handler(f):\n",
    "    registered_handlers.append(f)\n",
    "    return f  \n",
    "    "
   ]
  },
  {
   "cell_type": "code",
   "execution_count": 13,
   "metadata": {},
   "outputs": [],
   "source": [
    "# Use this to test your code\n",
    "@question_handler\n",
    "def empire_state_height(question):\n",
    "    question = question.lower()\n",
    "    if (('high' in question) or ('height' in question)) and 'empire state building' in question:\n",
    "        return '1454 feet'\n",
    "    \n",
    "@question_handler\n",
    "def calories_in_chocolate(question):\n",
    "    question = question.lower()\n",
    "    if 'how many' in question and 'calories' in question and 'chocolate' in question:\n",
    "        return \"5.46 calories per gram\""
   ]
  },
  {
   "cell_type": "code",
   "execution_count": 14,
   "metadata": {},
   "outputs": [
    {
     "data": {
      "text/plain": [
       "'1454 feet'"
      ]
     },
     "execution_count": 14,
     "metadata": {},
     "output_type": "execute_result"
    }
   ],
   "source": [
    "handle_question(\"What is the height of the empire state building?\")"
   ]
  },
  {
   "cell_type": "code",
   "execution_count": 15,
   "metadata": {},
   "outputs": [
    {
     "data": {
      "text/plain": [
       "'5.46 calories per gram'"
      ]
     },
     "execution_count": 15,
     "metadata": {},
     "output_type": "execute_result"
    }
   ],
   "source": [
    "handle_question(\"How many calories does chocolate have?\")"
   ]
  },
  {
   "cell_type": "code",
   "execution_count": 16,
   "metadata": {},
   "outputs": [
    {
     "data": {
      "text/plain": [
       "\"I don't know.\""
      ]
     },
     "execution_count": 16,
     "metadata": {},
     "output_type": "execute_result"
    }
   ],
   "source": [
    "handle_question(\"Who was the first president of the united states?\")"
   ]
  },
  {
   "cell_type": "markdown",
   "metadata": {},
   "source": [
    "# Expected Output from 5.4\n",
    "    '1454 feet'\n",
    "    '5.46 calories per gram'\n",
    "    \"I don't know.\""
   ]
  },
  {
   "cell_type": "markdown",
   "metadata": {},
   "source": [
    "# Exercise 5.5"
   ]
  },
  {
   "cell_type": "code",
   "execution_count": 17,
   "metadata": {},
   "outputs": [],
   "source": [
    "# The code below is set-up code for this exercise.\n",
    "# It establishes a class whose instances can be used\n",
    "# as timers.\n",
    "# (SIDE NOTE: python already has a superior module for\n",
    "# timing things. See the module called \"timeit\".)\n",
    "import datetime\n",
    "\n",
    "class Timer:\n",
    "    \"\"\"\n",
    "    Represents an object that acts like a stopwatch.\n",
    "    It knows how to start() itself and stop() itself\n",
    "    and knows the time elapsed between when it was\n",
    "    started and stopped.\n",
    "    \"\"\"\n",
    "    def __init__(self):\n",
    "        self._start = None\n",
    "        self._finish = None\n",
    "        \n",
    "    def start(self):\n",
    "        self.start_time = datetime.datetime.today()\n",
    "        return self\n",
    "        \n",
    "    def stop(self):\n",
    "        self.end_time = datetime.datetime.today()\n",
    "        return self\n",
    "        \n",
    "    @property\n",
    "    def duration(self):\n",
    "        return self.end_time - self.start_time"
   ]
  },
  {
   "cell_type": "code",
   "execution_count": 18,
   "metadata": {},
   "outputs": [],
   "source": [
    "# Use @contextmanager to define a context called timed_execution() that establishes\n",
    "# a timer for its code block, yielding the timer back to\n",
    "# the calling code. The context should start the timer\n",
    "# before the code block enters and stop it after the code\n",
    "# block exits.\n",
    "#\n",
    "# See the test code below for a concrete example of usage.\n",
    "\n",
    "# Write your code beneath this line.\n",
    "from contextlib import contextmanager\n",
    "@contextmanager\n",
    "def timed_execution():\n",
    "    t = Timer()\n",
    "    t.start()\n",
    "    yield t\n",
    "    t.stop()"
   ]
  },
  {
   "cell_type": "code",
   "execution_count": 19,
   "metadata": {},
   "outputs": [
    {
     "name": "stdout",
     "output_type": "stream",
     "text": [
      "hello world\n",
      "goodbye now\n",
      "That lasted 0:00:00.000235 seconds\n"
     ]
    }
   ],
   "source": [
    "# Use this to test your code.\n",
    "with timed_execution() as timer:\n",
    "    print(\"hello world\")\n",
    "    print(\"goodbye now\")\n",
    "    \n",
    "print(\"That lasted {duration} seconds\".format(duration = timer.duration))\n",
    "    "
   ]
  },
  {
   "cell_type": "markdown",
   "metadata": {},
   "source": [
    "# Expected Output From 5.5\n",
    "The output from the above test should look something like this:\n",
    "\n",
    "    hello world\n",
    "    goodbye now\n",
    "    That lasted 0:00:00.000227 sections"
   ]
  },
  {
   "cell_type": "markdown",
   "metadata": {},
   "source": [
    "# Exercise 5.6"
   ]
  },
  {
   "cell_type": "code",
   "execution_count": 20,
   "metadata": {},
   "outputs": [],
   "source": [
    "# Use @contextmanager to define a context called formatted_printing()\n",
    "# within which the print() function treats its first argument as\n",
    "# a string template, automatically substituting into\n",
    "# the template the substitution values that have been\n",
    "# specified when the context was invoked.\n",
    "#\n",
    "# See the test code below for a concrete example of usage.\n",
    "#\n",
    "# HINTS\n",
    "# You'll need to \"bash\" the global print() function, restoring\n",
    "# it when the context is done. This task has a lot of\n",
    "# overlap with example [24] in the context_manager tutorial.\n",
    "# You can use that code as a starting point.\n",
    "\n",
    "# Write your context beneath this line.\n",
    "# To help get you started, I have already\n",
    "# entered the first few lines.\n",
    "from contextlib import contextmanager\n",
    "\n",
    "@contextmanager\n",
    "def formatted_printing(**substitutions):\n",
    "    \"\"\"\n",
    "    Treat any string passed as the first arg to print() as a template and automatically substitute\n",
    "    for the keys in substitutions if they appear as template args in the string,\n",
    "    without the need to call the string's format() method.\n",
    "    \n",
    "    For example:\n",
    "    with formatted_printing(foo = 1, bar = 2):\n",
    "        print(\"foo = {foo} and bar = {bar}\")\n",
    "        \n",
    "    will print out \"foo = 1 and bar = 2\"\n",
    "    \n",
    "    :return: None\n",
    "    \"\"\"\n",
    "    # Start writing your code here.\n",
    "    global print\n",
    "    old_print = print\n",
    "    \n",
    "    def new_print(s, *args, **kwds):\n",
    "        for i in substitutions:\n",
    "            s = s.replace(\"{\" + i + \"}\", str(substitutions[i]))\n",
    "        old_print(s, *args, **kwds)\n",
    "    print = new_print\n",
    "    try:\n",
    "        yield\n",
    "    finally:\n",
    "        print = old_print\n"
   ]
  },
  {
   "cell_type": "code",
   "execution_count": 21,
   "metadata": {},
   "outputs": [
    {
     "name": "stdout",
     "output_type": "stream",
     "text": [
      "1 is the first counting number.\n",
      "2 is the only even prime.\n",
      "1 + 2 = 3\n"
     ]
    }
   ],
   "source": [
    "# Use this to test your code.\n",
    "\n",
    "with formatted_printing(one = 1, two = 2):\n",
    "    print(\"{one} is the first counting number.\")\n",
    "    print(\"{two} is the only even prime.\")\n",
    "    print(\"{one} + {two} = 3\")"
   ]
  },
  {
   "cell_type": "markdown",
   "metadata": {},
   "source": [
    "# Expected Output From 5.6\n",
    "    1 is the first counting number.\n",
    "    2 is the only even prime.\n",
    "    1 + 2 = 3"
   ]
  },
  {
   "cell_type": "code",
   "execution_count": null,
   "metadata": {},
   "outputs": [],
   "source": []
  }
 ],
 "metadata": {
  "kernelspec": {
   "display_name": "Python 3",
   "language": "python",
   "name": "python3"
  },
  "language_info": {
   "codemirror_mode": {
    "name": "ipython",
    "version": 3
   },
   "file_extension": ".py",
   "mimetype": "text/x-python",
   "name": "python",
   "nbconvert_exporter": "python",
   "pygments_lexer": "ipython3",
   "version": "3.6.4"
  }
 },
 "nbformat": 4,
 "nbformat_minor": 2
}
