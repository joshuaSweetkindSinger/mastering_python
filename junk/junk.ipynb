{
 "cells": [
  {
   "cell_type": "markdown",
   "metadata": {},
   "source": [
    "# A peak under the hood"
   ]
  },
  {
   "cell_type": "code",
   "execution_count": 7,
   "metadata": {
    "collapsed": true
   },
   "outputs": [],
   "source": [
    "# This example endows rectangle objects with color, to illustrate class variables.\n",
    "    \n",
    "# Modify the Rectangle class to print its instances nicely.\n",
    "class Rectangle(object):\n",
    "    \"\"\"\n",
    "    Represents a rectangle. Knows its width and height. Automatically updates its area\n",
    "    in response to changes in its width or height.\n",
    "    \"\"\"\n",
    "    def __init__(self, width, height):\n",
    "        self._width  = 1.0  # We have to set this to a valid value for the setter on line 12 to work.\n",
    "        self._height = 1.0  # We have to set this to a valid value for the setter on line 12 to work.\n",
    "        self._area   = None\n",
    "        \n",
    "        self.width  = width \n",
    "        self.height = height\n",
    "        \n",
    "    # Here we choose a different kind of representation for Rectangle than we did for Vector.\n",
    "    # We also incidentally point out that you don't have to hardcode the name of a class. A classn\n",
    "    # can discover its own name at runtime.\n",
    "    def __repr__(self):\n",
    "        return \"<{name}: width = {width}, height = {height}>\".format(name = self.__class__.__name__,\n",
    "                                                                           width = self.width, \n",
    "                                                                           height = self.height)\n",
    "        \n",
    "    @property\n",
    "    def width(self):\n",
    "        return self._width\n",
    "    \n",
    "    @width.setter\n",
    "    def width(self, new_width):\n",
    "        assert new_width > 0, \"width must be greater than 0\"\n",
    "        self._width = new_width\n",
    "        self._area  = self._calc_area()\n",
    "        \n",
    "    \n",
    "    @property\n",
    "    def height(self):\n",
    "        return self._height\n",
    "    \n",
    "    @height.setter\n",
    "    def height(self, new_height):\n",
    "        assert new_height > 0, \"height must be greater than 0\"\n",
    "        self._height = new_height\n",
    "        self._area   = self._calc_area()\n",
    "    \n",
    "    @property\n",
    "    def area(self):\n",
    "        return self._area\n",
    "    \n",
    "    def _calc_area(self):\n",
    "        return self.width * self.height\n",
    "    "
   ]
  },
  {
   "cell_type": "code",
   "execution_count": 9,
   "metadata": {},
   "outputs": [
    {
     "name": "stdout",
     "output_type": "stream",
     "text": [
      "My color is CLEAR\n",
      "My color is BLUE\n",
      "My color is RED\n",
      "My color is RED\n",
      "Now we are defying convention and globally changing the value of COLOR for red rectangles to CRIMSON\n",
      "My color is CRIMSON\n",
      "My color is CRIMSON\n"
     ]
    }
   ],
   "source": [
    "\n",
    "\n",
    "class ColoredRectangle(Rectangle):\n",
    "    \"\"\"\n",
    "    Represents a colored rectangle. Knows its width, height. and color. Automatically updates its area\n",
    "    in response to changes in its width or height. Disallows setting of non-positive width or height.\n",
    "    Knows how to declare its color. All rectangles of the same subclass share the same color.\n",
    "    \"\"\"\n",
    "    COLOR = 'CLEAR' # Default color for colored rectangles.\n",
    "        \n",
    "    # Define a method that prints out the color of a rectangle.\n",
    "    def declare_color(self):\n",
    "        \"\"\"\n",
    "        Print out a sentence that asserts the color we have.\n",
    "        \"\"\"\n",
    "        print(\"My color is {color}\".format(color = self.COLOR))\n",
    "    \n",
    "    \n",
    "class BlueRectangle(ColoredRectangle):\n",
    "    \"\"\"\n",
    "    The class of all blue rectangles\n",
    "    \"\"\"\n",
    "    COLOR = 'BLUE' # All BlueRectangle instances are blue.\n",
    "    \n",
    "    \n",
    "class RedRectangle(ColoredRectangle):\n",
    "    \"\"\"\n",
    "    The class of all red rectangles\n",
    "    \"\"\"\n",
    "    COLOR = 'RED' # All RedRectangle instances are red.\n",
    "    \n",
    "# Examples\n",
    "rectangle = ColoredRectangle(3,4)\n",
    "rectangle.declare_color()\n",
    "\n",
    "blue_rectangle = BlueRectangle(1,2)\n",
    "blue_rectangle.declare_color()\n",
    "\n",
    "red_rectangle1 = RedRectangle(5,6)\n",
    "red_rectangle2 = RedRectangle(7,8)\n",
    "red_rectangle1.declare_color()\n",
    "red_rectangle2.declare_color()\n",
    "\n",
    "print(\"Now we are defying convention and globally changing the value of COLOR for red rectangles to CRIMSON\")\n",
    "RedRectangle.COLOR = 'CRIMSON' # This is an example only. In real life, we would not defy convention like this.\n",
    "\n",
    "# Now the color of all instances of RedRectangle is CRIMSON\n",
    "red_rectangle1.declare_color()\n",
    "red_rectangle2.declare_color()"
   ]
  },
  {
   "cell_type": "markdown",
   "metadata": {},
   "source": [
    "Since the `declare_color()` method defined on line 12 above only references the class variable `COLOR`, one might think that the method could be called from a class object, instead of from an instance object, like this: `RedRectangle.declare_color()`. In fact, this does not work, as illustrated below."
   ]
  },
  {
   "cell_type": "code",
   "execution_count": 1,
   "metadata": {},
   "outputs": [
    {
     "name": "stdout",
     "output_type": "stream",
     "text": [
      "Got the following error: name 'RedRectangle' is not defined\n"
     ]
    }
   ],
   "source": [
    "# This does not work\n",
    "try:\n",
    "    RedRectangle.declare_color()\n",
    "except Exception as e:\n",
    "    print(\"Got the following error:\", e)"
   ]
  },
  {
   "cell_type": "markdown",
   "metadata": {},
   "source": [
    "In fact, the error we get above makes perfect sense. `RedRectangle` is an object, so we are allowed to reference one of its attributes. `declare_color` is such an attribute, so `RedRectangle.declare_color` makes perfect sense, and refers to the function defined on line [36]:12 above. But that function takes one argument, called `self`, and we have not passed such an argument in line 3 above. If we _do_ call the function with an appropriate argument, then it works, as illustrated below:"
   ]
  },
  {
   "cell_type": "code",
   "execution_count": 2,
   "metadata": {},
   "outputs": [
    {
     "ename": "NameError",
     "evalue": "name 'RedRectangle' is not defined",
     "traceback": [
      "\u001b[0;31m---------------------------------------------------------------------------\u001b[0m",
      "\u001b[0;31mNameError\u001b[0m                                 Traceback (most recent call last)",
      "\u001b[0;32m<ipython-input-2-cfbe65cfec41>\u001b[0m in \u001b[0;36m<module>\u001b[0;34m()\u001b[0m\n\u001b[1;32m      1\u001b[0m \u001b[0;31m# This works\u001b[0m\u001b[0;34m\u001b[0m\u001b[0;34m\u001b[0m\u001b[0m\n\u001b[0;32m----> 2\u001b[0;31m \u001b[0mRedRectangle\u001b[0m\u001b[0;34m.\u001b[0m\u001b[0mdeclare_color\u001b[0m\u001b[0;34m(\u001b[0m\u001b[0mRedRectangle\u001b[0m\u001b[0;34m)\u001b[0m\u001b[0;34m\u001b[0m\u001b[0m\n\u001b[0m",
      "\u001b[0;31mNameError\u001b[0m: name 'RedRectangle' is not defined"
     ],
     "output_type": "error"
    }
   ],
   "source": [
    "# This works\n",
    "RedRectangle.declare_color(RedRectangle)"
   ]
  },
  {
   "cell_type": "markdown",
   "metadata": {},
   "source": [
    "All of which might make us wonder why an expression like `red_rectangle2.declare_color()` works! Indeed, the magic is here, in understanding how python gets such an expression to do the right thing. We will not go into a detailed answer at the moment, but the short answer is that `RedRectangle.declare_color` is just a function, while `red_rectangle2.declare_color` is a _method_, as illustrated below:"
   ]
  },
  {
   "cell_type": "code",
   "execution_count": 3,
   "metadata": {},
   "outputs": [
    {
     "ename": "NameError",
     "evalue": "name 'RedRectangle' is not defined",
     "traceback": [
      "\u001b[0;31m---------------------------------------------------------------------------\u001b[0m",
      "\u001b[0;31mNameError\u001b[0m                                 Traceback (most recent call last)",
      "\u001b[0;32m<ipython-input-3-e5508097f92e>\u001b[0m in \u001b[0;36m<module>\u001b[0;34m()\u001b[0m\n\u001b[1;32m      1\u001b[0m \u001b[0;31m# Referencing a function that has been defined on a class just returns that function as a normal function\u001b[0m\u001b[0;34m\u001b[0m\u001b[0;34m\u001b[0m\u001b[0m\n\u001b[0;32m----> 2\u001b[0;31m \u001b[0mprint\u001b[0m\u001b[0;34m(\u001b[0m\u001b[0mRedRectangle\u001b[0m\u001b[0;34m.\u001b[0m\u001b[0mdeclare_color\u001b[0m\u001b[0;34m)\u001b[0m\u001b[0;34m\u001b[0m\u001b[0m\n\u001b[0m\u001b[1;32m      3\u001b[0m \u001b[0;34m\u001b[0m\u001b[0m\n\u001b[1;32m      4\u001b[0m \u001b[0;31m# Referencing the same function through an _instance_, and invoking the inheritance mechanism to access\u001b[0m\u001b[0;34m\u001b[0m\u001b[0;34m\u001b[0m\u001b[0m\n\u001b[1;32m      5\u001b[0m \u001b[0;31m# the attribute through its class parent, transforms the function into a *method*\u001b[0m\u001b[0;34m\u001b[0m\u001b[0;34m\u001b[0m\u001b[0m\n",
      "\u001b[0;31mNameError\u001b[0m: name 'RedRectangle' is not defined"
     ],
     "output_type": "error"
    }
   ],
   "source": [
    "# Referencing a function that has been defined on a class just returns that function as a normal function\n",
    "print(RedRectangle.declare_color)\n",
    "\n",
    "# Referencing the same function through an _instance_, and invoking the inheritance mechanism to access\n",
    "# the attribute through its class parent, transforms the function into a *method*\n",
    "print(red_rectangle2.declare_color)"
   ]
  },
  {
   "cell_type": "markdown",
   "metadata": {},
   "source": [
    "In line 2 above, we are simply making a function call and supplying the proper arguments to the function, so there is no mystery. As an aside, supplying an argument of `red_rectangle` would _also_ be supplying a proper argument, so this would also work:"
   ]
  },
  {
   "cell_type": "code",
   "execution_count": 4,
   "metadata": {},
   "outputs": [
    {
     "ename": "NameError",
     "evalue": "name 'RedRectangle' is not defined",
     "traceback": [
      "\u001b[0;31m---------------------------------------------------------------------------\u001b[0m",
      "\u001b[0;31mNameError\u001b[0m                                 Traceback (most recent call last)",
      "\u001b[0;32m<ipython-input-4-c5df2a7c302d>\u001b[0m in \u001b[0;36m<module>\u001b[0;34m()\u001b[0m\n\u001b[0;32m----> 1\u001b[0;31m \u001b[0mRedRectangle\u001b[0m\u001b[0;34m.\u001b[0m\u001b[0mdeclare_color\u001b[0m\u001b[0;34m(\u001b[0m\u001b[0mred_rectangle2\u001b[0m\u001b[0;34m)\u001b[0m\u001b[0;34m\u001b[0m\u001b[0m\n\u001b[0m",
      "\u001b[0;31mNameError\u001b[0m: name 'RedRectangle' is not defined"
     ],
     "output_type": "error"
    }
   ],
   "source": [
    "RedRectangle.declare_color(red_rectangle2)"
   ]
  },
  {
   "cell_type": "markdown",
   "metadata": {},
   "source": [
    "When we define a method inside a class, we are really just defining a function, and it can always be called just as a function, if we know how to do it correctly. For example, this _also_ works:"
   ]
  },
  {
   "cell_type": "code",
   "execution_count": null,
   "metadata": {
    "collapsed": true
   },
   "outputs": [],
   "source": []
  }
 ],
 "metadata": {
  "kernelspec": {
   "display_name": "Python 3",
   "language": "python",
   "name": "python3"
  },
  "language_info": {
   "codemirror_mode": {
    "name": "ipython",
    "version": 3
   },
   "file_extension": ".py",
   "mimetype": "text/x-python",
   "name": "python",
   "nbconvert_exporter": "python",
   "pygments_lexer": "ipython3",
   "version": "3.6.3"
  }
 },
 "nbformat": 4,
 "nbformat_minor": 2
}
