{
 "cells": [
  {
   "cell_type": "code",
   "execution_count": 1,
   "metadata": {
    "collapsed": true
   },
   "outputs": [],
   "source": [
    "import numpy as np\n",
    "\n",
    "class Vector(np.ndarray):\n",
    "    \"\"\"Defines a two dimensional vector\n",
    "    \"\"\"\n",
    "    def __new__(cls, *args):\n",
    "        \"\"\"getting a child class of np.ndarray that is allowed to have new\n",
    "        methods and new attributes\"\"\"\n",
    "        obj = np.ndarray.__new__(cls, (2,))\n",
    "        return obj\n",
    "\n",
    "    def __init__(self, x, y):\n",
    "        self[0], self[1] = x, y\n",
    "\n",
    "    @property\n",
    "    def x(self):\n",
    "        \"\"\"synonymous to self[0]\"\"\"\n",
    "        return self[0]\n",
    "\n",
    "    @x.setter\n",
    "    def x(self, x):\n",
    "        \"\"\"setting self[0]\"\"\"\n",
    "        self[0] = x\n",
    "\n",
    "    @property\n",
    "    def y(self):\n",
    "        \"\"\"synonymous to self[1]\"\"\"\n",
    "        return self[1]\n",
    "\n",
    "    @y.setter\n",
    "    def y(self, y):\n",
    "        \"\"\"setting self[1]\"\"\"\n",
    "        self[1] = y\n",
    "\n",
    "    @property\n",
    "    def norm(self):\n",
    "        \"\"\"returning norm of a vector\"\"\"\n",
    "        return np.sqrt(self.dot(self))\n",
    "\n",
    "\n",
    "class Velocity(Vector):\n",
    "    \"\"\"Velocity class.  Has one additional property called speed\"\"\"\n",
    "    def __init__(self, x, y):\n",
    "        super().__init__(x, y)\n",
    "        # self.speed = self.norm.copy()\n",
    "        # del self.norm\n",
    "\n",
    "    @property\n",
    "    def speed(self):\n",
    "        \"\"\"speed is the norm of Velocity\"\"\"\n",
    "        return self.norm\n",
    "\n",
    "\n",
    "class Position(Vector):\n",
    "    \"\"\"Position class.  Has an additional method distance which gives the\n",
    "    distance between this position and another position\"\"\"\n",
    "#   def distance(self, position=Position(0, 0)):  How to accomplish this?\n",
    "\n",
    "    def distance(self, position):\n",
    "        \"\"\"Calculates the distance between two Positions\"\"\"\n",
    "        diff = self - position\n",
    "        return diff.norm"
   ]
  },
  {
   "cell_type": "code",
   "execution_count": 2,
   "metadata": {},
   "outputs": [
    {
     "data": {
      "text/plain": [
       "2.8284271247461903"
      ]
     },
     "execution_count": 2,
     "metadata": {},
     "output_type": "execute_result"
    }
   ],
   "source": [
    "v = Vector(5, 2)\n",
    "p = Position(3, 4)\n",
    "v = Velocity(2, 2)\n",
    "v.speed"
   ]
  },
  {
   "cell_type": "code",
   "execution_count": 3,
   "metadata": {
    "collapsed": true
   },
   "outputs": [],
   "source": [
    "import numpy as np\n",
    "\n",
    "class Vector2(np.ndarray):\n",
    "#Defines a two-dimentional vector\n",
    "    def __new__(cls,*args):\n",
    "        return np.array([0, 0])\n",
    "\n",
    "    def __init__(self, x, y):\n",
    "        self[0], self[1] = x, y\n",
    "\n",
    "    @property\n",
    "    def x(self):\n",
    "        return self[0]\n",
    "\n",
    "    @x.setter\n",
    "    def x(self,x):\n",
    "        self[0] = x\n",
    "\n",
    "    @property\n",
    "    def y(self):\n",
    "        return self[1]\n",
    "\n",
    "    @y.setter\n",
    "    def y(self,y):\n",
    "        self[1] = y\n",
    "\n",
    "    @property\n",
    "    def norm(self):\n",
    "        return np.sqrt(self.dot(self))"
   ]
  },
  {
   "cell_type": "code",
   "execution_count": 4,
   "metadata": {},
   "outputs": [
    {
     "data": {
      "text/plain": [
       "array([0, 0])"
      ]
     },
     "execution_count": 4,
     "metadata": {},
     "output_type": "execute_result"
    }
   ],
   "source": [
    "v = Vector2(0,1)\n",
    "v"
   ]
  },
  {
   "cell_type": "markdown",
   "metadata": {},
   "source": [
    "# Eugene\n",
    "This won’t work.  Not only that __init__ is never called (which is understandable since Vector is never instantiated — if you type v.x or v.y the interpreter also returns errors)\n",
    "\n",
    "# Josh\n",
    "It doesn't work for technical reasons. As you point out, the init method is never called. As the python documentation points out, the init method will only be called if `__new__` returns an instance of `cls`, which, in this case above, it does not do. In your previous example, the method `Vector.__new__()` calls `np.ndarray.__new__(cls, (2,))`, which returns an instance of `cls`. It is this that causes the `__init__()` method to be invoked."
   ]
  },
  {
   "cell_type": "code",
   "execution_count": 5,
   "metadata": {
    "collapsed": true
   },
   "outputs": [],
   "source": [
    "class A:\n",
    "    def __init__(self, x, y):\n",
    "        self.x = x\n",
    "        self.y = y\n",
    "\n",
    "class B(A):\n",
    "    @property\n",
    "    def u(self):\n",
    "        return self.x + self.y"
   ]
  },
  {
   "cell_type": "code",
   "execution_count": 6,
   "metadata": {},
   "outputs": [
    {
     "data": {
      "text/plain": [
       "3"
      ]
     },
     "execution_count": 6,
     "metadata": {},
     "output_type": "execute_result"
    }
   ],
   "source": [
    "b = B(1,2)\n",
    "b.u"
   ]
  },
  {
   "cell_type": "code",
   "execution_count": 7,
   "metadata": {},
   "outputs": [
    {
     "data": {
      "text/plain": [
       "False"
      ]
     },
     "execution_count": 7,
     "metadata": {},
     "output_type": "execute_result"
    }
   ],
   "source": [
    "a = A(1,2)\n",
    "hasattr(a, 'u')"
   ]
  },
  {
   "cell_type": "markdown",
   "metadata": {},
   "source": [
    "# Eugene\n",
    "My question is:  class B(A) is inheriting the __new__ and the __init__ of A.  Therefore, when b = B(1, 2) is called, b should be an instance of A.  Why are we able to access b.u?\n",
    "\n",
    "# Josh\n",
    "`b` is not an instance of `A`. It is an instance of `B`. The python interpreter's evaluation of `B(1,2)` is roughly equivalent to:"
   ]
  },
  {
   "cell_type": "code",
   "execution_count": 8,
   "metadata": {},
   "outputs": [
    {
     "data": {
      "text/plain": [
       "<__main__.B at 0x10990a780>"
      ]
     },
     "execution_count": 8,
     "metadata": {},
     "output_type": "execute_result"
    }
   ],
   "source": [
    "b = object.__new__(B, 1, 2)\n",
    "b.__init__(1, 2)\n",
    "b"
   ]
  },
  {
   "cell_type": "markdown",
   "metadata": {},
   "source": [
    "Line 1 above will create a new object of the specified class. In this case, the specified class is `B`, so the new object will be an instance of `B`."
   ]
  },
  {
   "cell_type": "code",
   "execution_count": null,
   "metadata": {
    "collapsed": true
   },
   "outputs": [],
   "source": []
  }
 ],
 "metadata": {
  "kernelspec": {
   "display_name": "Python 3",
   "language": "python",
   "name": "python3"
  },
  "language_info": {
   "codemirror_mode": {
    "name": "ipython",
    "version": 3
   },
   "file_extension": ".py",
   "mimetype": "text/x-python",
   "name": "python",
   "nbconvert_exporter": "python",
   "pygments_lexer": "ipython3",
   "version": "3.6.3"
  }
 },
 "nbformat": 4,
 "nbformat_minor": 2
}
