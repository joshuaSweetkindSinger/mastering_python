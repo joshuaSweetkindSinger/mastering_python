{
 "cells": [
  {
   "cell_type": "code",
   "execution_count": 2,
   "metadata": {
    "collapsed": true
   },
   "outputs": [],
   "source": [
    "class IndexedTuple:\n",
    "    \"\"\"\n",
    "    Represents a tuple of any length between 1 and 3 inclusive,\n",
    "    that automatically defines single-letter attributes\n",
    "    for each element of the tuple. The first maps to\n",
    "    the attribute 'a', the next to 'b', and the third to 'c'.\n",
    "    \"\"\"\n",
    "    def __init__(self, *args):\n",
    "        self.tuple = args\n",
    "        \n",
    "    def __getattr__(self, name):\n",
    "        if name == 'a':\n",
    "            return self.tuple[0]\n",
    "        elif name == 'b':\n",
    "            return self.tuple[1]\n",
    "        elif name == 'c':\n",
    "            return self.tuple[2]\n",
    "    \n",
    "        "
   ]
  },
  {
   "cell_type": "code",
   "execution_count": 5,
   "metadata": {},
   "outputs": [
    {
     "data": {
      "text/plain": [
       "100"
      ]
     },
     "execution_count": 5,
     "metadata": {},
     "output_type": "execute_result"
    }
   ],
   "source": [
    "x = IndexedTuple(10,12,100)\n",
    "x.c"
   ]
  },
  {
   "cell_type": "code",
   "execution_count": null,
   "metadata": {
    "collapsed": true
   },
   "outputs": [],
   "source": []
  }
 ],
 "metadata": {
  "kernelspec": {
   "display_name": "Python 3",
   "language": "python",
   "name": "python3"
  },
  "language_info": {
   "codemirror_mode": {
    "name": "ipython",
    "version": 3
   },
   "file_extension": ".py",
   "mimetype": "text/x-python",
   "name": "python",
   "nbconvert_exporter": "python",
   "pygments_lexer": "ipython3",
   "version": "3.6.3"
  }
 },
 "nbformat": 4,
 "nbformat_minor": 2
}
