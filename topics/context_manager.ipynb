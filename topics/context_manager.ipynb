{
 "cells": [
  {
   "cell_type": "markdown",
   "metadata": {},
   "source": [
    "# Context Managers\n",
    "This tutorial introduces contexts. A _context_ is a wrapper tha modifies the behavior of a block of code. This tutorial illustrates how to define a context using the `@contextmanager` decorator and how to invoke one using python's `with` statement. It does not describe the lower-level mechanisms upon which the decorator is based. That documentation is in the python manual, here: [`with` statement context managers](https://docs.python.org/3/reference/datamodel.html#context-managers)"
   ]
  },
  {
   "cell_type": "markdown",
   "metadata": {},
   "source": [
    "# The Canonical Example\n",
    "We begin with an example illustrating what a context is. This example is so ubiquitous in the python literature that virtually every explanation of contexts uses it:\n",
    "\n",
    "Suppose we wish to read and process the contents of a file. We first must _open_ the file, which is essentially asking the operating system for a file descriptor, and, when we are done with the file, we have to _close_ it; otherwise, the operating system thinks we're still using it. We have to write code that closes the file even if an exception is raised that causes a non-local exit from our code. That is typically handled using a template like the one below:"
   ]
  },
  {
   "cell_type": "code",
   "execution_count": 1,
   "metadata": {},
   "outputs": [
    {
     "name": "stdout",
     "output_type": "stream",
     "text": [
      "Hello, World!\n",
      "It's a beautiful today to learn python.\n",
      "Today I'm learning about context managers.\n"
     ]
    }
   ],
   "source": [
    "f = open('my_file.txt')  # Get file descriptor\n",
    "try:\n",
    "    print(f.readline(), end = '') # operate on the file's contents\n",
    "    print(f.readline(), end = '') # operate on the file's contents\n",
    "    print(f.readline(), end = '') # operate on the file's contents\n",
    "\n",
    "finally:\n",
    "    f.close() # return the descriptor back to the operating system."
   ]
  },
  {
   "cell_type": "markdown",
   "metadata": {},
   "source": [
    "Of the eight lines above, four of them constitute the context for file handling, irrespective of what specific code goes on lines 3-5, which could be any code at all that operates on the file:\n",
    "\n",
    "- Open the file and assign the resulting file descriptor object to a variable.\n",
    "- Establish a `try/except` block\n",
    "- Make sure the file gets closed regardless of any non-local exit by putting the `close()` operation in a `finally` block.\n",
    "\n",
    "Requiring the coder to write these four context lines everywhere they wish to process a file is somewhat tedious, and also somewhat error prone, because the coder has to remember the correct ritual for guaranteeing the closing of `f`. Furthermore, if the correct ritual changes one day, then altering the code to reflect the new style involves hunting for every occurence of this template within the code and changing it manually--even more tedious, and even more error-prone. \n",
    "\n",
    "A better solution is to define in a single place the template that represents the context. Once the context is defined, it can be invoked whenever it is needed. (Note: we haven't yet seen how `open()` is defined, and we won't see that, because python defines `open()` as part of the language. We'll use other examples below to illustrate how a context gets defined.) Below is what that invocation of the `open()` context looks like in python:"
   ]
  },
  {
   "cell_type": "code",
   "execution_count": 2,
   "metadata": {},
   "outputs": [
    {
     "name": "stdout",
     "output_type": "stream",
     "text": [
      "Hello, World!\n",
      "It's a beautiful today to learn python.\n",
      "Today I'm learning about context managers.\n"
     ]
    }
   ],
   "source": [
    "with open('my_file.txt') as f:\n",
    "    print(f.readline(), end = '') # operate on the file's contents\n",
    "    print(f.readline(), end = '') # operate on the file's contents\n",
    "    print(f.readline(), end = '') # operate on the file's contents\n",
    "\n",
    "    "
   ]
  },
  {
   "cell_type": "markdown",
   "metadata": {},
   "source": [
    "In the above example code, the file `my_file.txt` is opened for reading and a file descriptor is assigned to the variable `f`. The `with` statement invokes the context object that is returned by `open('my_file.txt')`, then executes `print(f.readline())` inside of that context, which guarantees that the file descriptor `f` will be closed after the body of the `with` is exited, even if a non-local exit occurs. It is seemingly as though the above two lines of code are replaced with all five lines of [1], with line [2]:2 sandwiched into the middle of the context as line [1]:3. (This is not really what happens, and the context established by `with` does _not_ have access to the local variables of the caller.)\n",
    "\n",
    "Notice the absence of explicit `try` and `except` language in the above example. All of that is implicit in the context established by the `with` statement.\n",
    "\n",
    "Because the above example is so common, python implements the `open` context as part of the language. The above example works without needing to define anything else, and is the preferred way to open a file in python."
   ]
  },
  {
   "cell_type": "markdown",
   "metadata": {},
   "source": [
    "# A context is a code sandwich\n",
    "A context is a way to make a \"code sandwich\" in which the middle of the sandwich can be any arbitrary code. In this analogy, the context is the two pieces of bread that wrap up the arbitrary code. One of the pieces of bread is the \"enter\" phase, and the other is the \"exit\" phase. These pieces of code are fixed and they define the \"context\".\n",
    "\n",
    "Contexts and decorators play similar roles. They are both wrappers. A context wraps an arbitrary code block, while a decorator wraps an arbitrary function. \n",
    "\n",
    "A context doesn't need to involve a `try/except/finally` block, but typically it does, because the primary use case is establish some data structures, allocate resources, etc., in the \"enter\" phase and then ensure they get cleaned up in the \"exit\" phase."
   ]
  },
  {
   "cell_type": "markdown",
   "metadata": {},
   "source": [
    "# Defining Contexts\n",
    "Now we are going to explore how to define contexts by introducing a sequence of progressively more complicated examples.\n",
    "\n",
    "Remember that a context is a code sandwich that defines the pieces of bread as the context and inserts arbitrary code in the middle of the sandwich.  When we use the `@contextmanager` decorator to define a context, the \"meat\" of the sandwich is demarcated by a single `yield` statement. Below is a simple example of a context defined in this way. Note the `yield` statement on line 8 that marks the place where python should insert the meat of the sandwich. Because the presence of `yield` always turns a function into a generator, we note in passing that the `@contextmanager` decorator leverages the generator/iterator functionality of python to create the desired context.\n",
    "\n",
    "NOTE: The `@contextmanager` decorator must be imported from module `contextlib`, as illustrated below."
   ]
  },
  {
   "cell_type": "code",
   "execution_count": 3,
   "metadata": {},
   "outputs": [
    {
     "name": "stdout",
     "output_type": "stream",
     "text": [
      "This is the enter code.\n",
      "It consists of everything before yield.\n",
      "** This is the meat of the sandwich.\n",
      "** You can put anything here.\n",
      "** It gets wrapped by the context's enter and exit phases.\n",
      "This is the exit code.\n",
      "It consists of everything after yield.\n"
     ]
    }
   ],
   "source": [
    "# Simplest context\n",
    "from contextlib import contextmanager\n",
    "\n",
    "@contextmanager\n",
    "def sandwiched_code():\n",
    "    print(\"This is the enter code.\")\n",
    "    print(\"It consists of everything before yield.\")\n",
    "    yield\n",
    "    print(\"This is the exit code.\")\n",
    "    print(\"It consists of everything after yield.\")\n",
    "    \n",
    "with sandwiched_code():\n",
    "    print(\"** This is the meat of the sandwich.\")\n",
    "    print(\"** You can put anything here.\")\n",
    "    print(\"** It gets wrapped by the context's enter and exit phases.\")"
   ]
  },
  {
   "cell_type": "markdown",
   "metadata": {},
   "source": [
    "A context definition should contain precisely one `yield` statement: no more, no less. The code below fails because it contains two `yield` statements."
   ]
  },
  {
   "cell_type": "code",
   "execution_count": 4,
   "metadata": {
    "collapsed": true
   },
   "outputs": [],
   "source": [
    "# An incorrectly defined context.\n",
    "# This context definition uses yield twice. It will break.\n",
    "from contextlib import contextmanager\n",
    "\n",
    "@contextmanager\n",
    "def sandwiched_code2():\n",
    "    print(\"This is the enter code.\")\n",
    "    print(\"It consists of everything before yield.\")\n",
    "    yield\n",
    "    print(\"This is the exit code.\")\n",
    "    yield # This yield doesn't belong here! The code breaks when it gets here.\n",
    "    print(\"It consists of everything after yield.\")\n",
    "    "
   ]
  },
  {
   "cell_type": "code",
   "execution_count": 5,
   "metadata": {},
   "outputs": [
    {
     "name": "stdout",
     "output_type": "stream",
     "text": [
      "This is the enter code.\n",
      "It consists of everything before yield.\n",
      "This is the meat of the sandwich.\n",
      "This is the exit code.\n"
     ]
    },
    {
     "ename": "RuntimeError",
     "evalue": "generator didn't stop",
     "output_type": "error",
     "traceback": [
      "\u001b[0;31m---------------------------------------------------------------------------\u001b[0m",
      "\u001b[0;31mRuntimeError\u001b[0m                              Traceback (most recent call last)",
      "\u001b[0;32m<ipython-input-5-f89b957df987>\u001b[0m in \u001b[0;36m<module>\u001b[0;34m()\u001b[0m\n\u001b[1;32m      1\u001b[0m \u001b[0;31m# We expect this code to break.\u001b[0m\u001b[0;34m\u001b[0m\u001b[0;34m\u001b[0m\u001b[0m\n\u001b[1;32m      2\u001b[0m \u001b[0;32mwith\u001b[0m \u001b[0msandwiched_code2\u001b[0m\u001b[0;34m(\u001b[0m\u001b[0;34m)\u001b[0m\u001b[0;34m:\u001b[0m\u001b[0;34m\u001b[0m\u001b[0m\n\u001b[0;32m----> 3\u001b[0;31m     \u001b[0mprint\u001b[0m\u001b[0;34m(\u001b[0m\u001b[0;34m\"This is the meat of the sandwich.\"\u001b[0m\u001b[0;34m)\u001b[0m\u001b[0;34m\u001b[0m\u001b[0m\n\u001b[0m",
      "\u001b[0;32m~/anaconda3/lib/python3.6/contextlib.py\u001b[0m in \u001b[0;36m__exit__\u001b[0;34m(self, type, value, traceback)\u001b[0m\n\u001b[1;32m     90\u001b[0m                 \u001b[0;32mreturn\u001b[0m \u001b[0;32mFalse\u001b[0m\u001b[0;34m\u001b[0m\u001b[0m\n\u001b[1;32m     91\u001b[0m             \u001b[0;32melse\u001b[0m\u001b[0;34m:\u001b[0m\u001b[0;34m\u001b[0m\u001b[0m\n\u001b[0;32m---> 92\u001b[0;31m                 \u001b[0;32mraise\u001b[0m \u001b[0mRuntimeError\u001b[0m\u001b[0;34m(\u001b[0m\u001b[0;34m\"generator didn't stop\"\u001b[0m\u001b[0;34m)\u001b[0m\u001b[0;34m\u001b[0m\u001b[0m\n\u001b[0m\u001b[1;32m     93\u001b[0m         \u001b[0;32melse\u001b[0m\u001b[0;34m:\u001b[0m\u001b[0;34m\u001b[0m\u001b[0m\n\u001b[1;32m     94\u001b[0m             \u001b[0;32mif\u001b[0m \u001b[0mvalue\u001b[0m \u001b[0;32mis\u001b[0m \u001b[0;32mNone\u001b[0m\u001b[0;34m:\u001b[0m\u001b[0;34m\u001b[0m\u001b[0m\n",
      "\u001b[0;31mRuntimeError\u001b[0m: generator didn't stop"
     ]
    }
   ],
   "source": [
    "# We expect this code to break.\n",
    "with sandwiched_code2():\n",
    "    print(\"This is the meat of the sandwich.\")"
   ]
  },
  {
   "cell_type": "markdown",
   "metadata": {},
   "source": [
    "# A context need not have any \"bread\"\n",
    "It is perfectly acceptable for a context to have no enter phase, or no exit phase, or neither. All it needs is a `yield` statement. An empty context is not particularly useful, but it is valid."
   ]
  },
  {
   "cell_type": "code",
   "execution_count": 6,
   "metadata": {},
   "outputs": [
    {
     "name": "stdout",
     "output_type": "stream",
     "text": [
      "This works!\n"
     ]
    }
   ],
   "source": [
    "# Establish a do-nothing context\n",
    "from contextlib import contextmanager\n",
    "\n",
    "@contextmanager\n",
    "def do_nothing():\n",
    "    yield\n",
    "    \n",
    "\n",
    "with do_nothing():\n",
    "    print(\"This works!\")\n"
   ]
  },
  {
   "cell_type": "markdown",
   "metadata": {},
   "source": [
    "# Contexts can take arguments\n",
    "You can pass in arguments to a context. These can be used to parameterize the context."
   ]
  },
  {
   "cell_type": "code",
   "execution_count": 7,
   "metadata": {
    "collapsed": true
   },
   "outputs": [],
   "source": [
    "# Establish a context for writing a letter to someone.\n",
    "from contextlib import contextmanager\n",
    "\n",
    "@contextmanager\n",
    "def letter_writing(to_person, from_person):\n",
    "    print(\"Dear,\", to_person)\n",
    "    yield\n",
    "    print(\"Very Truly Yours,\")\n",
    "    print(from_person)"
   ]
  },
  {
   "cell_type": "code",
   "execution_count": 8,
   "metadata": {},
   "outputs": [
    {
     "name": "stdout",
     "output_type": "stream",
     "text": [
      "Dear, Helen\n",
      "I miss you terribly!\n",
      "Very Truly Yours,\n",
      "Menelaus\n"
     ]
    }
   ],
   "source": [
    "with letter_writing('Helen', 'Menelaus'):\n",
    "    print(\"I miss you terribly!\")"
   ]
  },
  {
   "cell_type": "markdown",
   "metadata": {},
   "source": [
    "# Contexts can yield values back to the caller\n",
    "The calling code that uses a `with` statement to establish a context can receive values back from the context. The values received are whatever values are arguments to the `yield` statement within the context definition."
   ]
  },
  {
   "cell_type": "code",
   "execution_count": 9,
   "metadata": {
    "collapsed": true
   },
   "outputs": [],
   "source": [
    "# Establish a context for writing a letter to someone.\n",
    "# In this version, the letter is returned as a list of strings\n",
    "# in the variable named \"lines\".\n",
    "from contextlib import contextmanager\n",
    "\n",
    "@contextmanager\n",
    "def letter_writing(to_person, from_person):\n",
    "    lines = []\n",
    "    lines.append(\"Dear, \" + to_person)\n",
    "    yield lines\n",
    "    lines.append(\"Very Truly Yours,\")\n",
    "    lines.append(from_person)"
   ]
  },
  {
   "cell_type": "code",
   "execution_count": 10,
   "metadata": {},
   "outputs": [
    {
     "name": "stdout",
     "output_type": "stream",
     "text": [
      "Dear, Helen\n",
      "I miss you terribly!\n",
      "Very Truly Yours,\n",
      "Menelaus\n"
     ]
    }
   ],
   "source": [
    "with letter_writing('Helen', 'Menelaus') as letter_lines:\n",
    "    letter_lines.append(\"I miss you terribly!\")\n",
    "print('\\n'.join(letter_lines))"
   ]
  },
  {
   "cell_type": "markdown",
   "metadata": {},
   "source": [
    "# Contexts can yield multiple values back to the caller\n",
    "This should be obvious from what was said above, but here we give a motivated example and illustrate the syntax as well."
   ]
  },
  {
   "cell_type": "code",
   "execution_count": 11,
   "metadata": {
    "collapsed": true
   },
   "outputs": [],
   "source": [
    "# Establish a context for writing a letter to someone.\n",
    "# In this version, we take as input the relationship between\n",
    "# the sender and receiver and yield style advice about whether\n",
    "# the contents of the letter should be formal or informal.\n",
    "from contextlib import contextmanager\n",
    "\n",
    "@contextmanager\n",
    "def letter_writing(to_person, from_person, relationship):\n",
    "    # Determine style of address\n",
    "    if relationship == 'spouse':\n",
    "        style = 'informal'\n",
    "    else:\n",
    "        style = 'formal'\n",
    "        \n",
    "    lines = []\n",
    "    lines.append(\"Dear, \" + to_person)\n",
    "    yield lines, style\n",
    "    lines.append(\"Very Truly Yours,\")\n",
    "    lines.append(from_person)"
   ]
  },
  {
   "cell_type": "code",
   "execution_count": 12,
   "metadata": {},
   "outputs": [
    {
     "name": "stdout",
     "output_type": "stream",
     "text": [
      "Dear, Helen\n",
      "I miss you terribly!\n",
      "\n",
      "Dear, Helen\n",
      "I count the hours until we are reunited.\n"
     ]
    }
   ],
   "source": [
    "def make_i_miss_you_letter(to_person, from_person, relationship):\n",
    "    with letter_writing(to_person, from_person, relationship) as (letter_lines, style):\n",
    "        if style == 'informal':\n",
    "            letter_lines.append(\"I miss you terribly!\")\n",
    "        else:\n",
    "            letter_lines.append(\"I count the hours until we are reunited.\")\n",
    "        print('\\n'.join(letter_lines))       \n",
    "\n",
    "make_i_miss_you_letter('Helen', 'Menelaus', 'spouse')\n",
    "print()\n",
    "make_i_miss_you_letter('Helen', 'Menelaus', 'girlfriend')"
   ]
  },
  {
   "cell_type": "markdown",
   "metadata": {},
   "source": [
    "# Contexts generally use `try/except/finally` blocks\n",
    "Contexts generally exist to ensure that all necessary resources are set up in advance of the \"meat\" of the sandwich, and then taken down properly afterwards, irrespective of whether or not a non-local exit occurred during the meat of the sandwich. For this reason, contexts usually have `try/except/finally` blocks. "
   ]
  },
  {
   "cell_type": "code",
   "execution_count": 13,
   "metadata": {
    "collapsed": true
   },
   "outputs": [],
   "source": [
    "# In this example, we make sure to greet the person\n",
    "# and say goodbye to them. We arrange to say goodbye\n",
    "# even if some non-local exit occurs during the middle\n",
    "# of our interaction with them.\n",
    "\n",
    "from contextlib import contextmanager\n",
    "\n",
    "@contextmanager\n",
    "def greeting_and_farewell(to_person):\n",
    "    print(\"Hello, \" + to_person + '.')    \n",
    "    try:\n",
    "        yield\n",
    "    finally: \n",
    "       print(\"Nice talking to you, \" + to_person + \". See you soon!\")"
   ]
  },
  {
   "cell_type": "code",
   "execution_count": 14,
   "metadata": {},
   "outputs": [
    {
     "name": "stdout",
     "output_type": "stream",
     "text": [
      "Hello, John.\n",
      "Would you be available to chat with me about python sometime?\n",
      "Nice talking to you, John. See you soon!\n"
     ]
    },
    {
     "ename": "ZeroDivisionError",
     "evalue": "division by zero",
     "output_type": "error",
     "traceback": [
      "\u001b[0;31m---------------------------------------------------------------------------\u001b[0m",
      "\u001b[0;31mZeroDivisionError\u001b[0m                         Traceback (most recent call last)",
      "\u001b[0;32m<ipython-input-14-fd56c6f76fed>\u001b[0m in \u001b[0;36m<module>\u001b[0;34m()\u001b[0m\n\u001b[1;32m      3\u001b[0m \u001b[0;32mwith\u001b[0m \u001b[0mgreeting_and_farewell\u001b[0m\u001b[0;34m(\u001b[0m\u001b[0;34m'John'\u001b[0m\u001b[0;34m)\u001b[0m\u001b[0;34m:\u001b[0m\u001b[0;34m\u001b[0m\u001b[0m\n\u001b[1;32m      4\u001b[0m     \u001b[0mprint\u001b[0m\u001b[0;34m(\u001b[0m\u001b[0;34m\"Would you be available to chat with me about python sometime?\"\u001b[0m\u001b[0;34m)\u001b[0m\u001b[0;34m\u001b[0m\u001b[0m\n\u001b[0;32m----> 5\u001b[0;31m     \u001b[0mx\u001b[0m \u001b[0;34m=\u001b[0m \u001b[0;36m1\u001b[0m \u001b[0;34m/\u001b[0m \u001b[0;36m0\u001b[0m \u001b[0;31m# Oops, an exception occurs here, causing a non-local exit.\u001b[0m\u001b[0;34m\u001b[0m\u001b[0m\n\u001b[0m\u001b[1;32m      6\u001b[0m               \u001b[0;31m# But we still manage to say goodbye to John!\u001b[0m\u001b[0;34m\u001b[0m\u001b[0;34m\u001b[0m\u001b[0m\n",
      "\u001b[0;31mZeroDivisionError\u001b[0m: division by zero"
     ]
    }
   ],
   "source": [
    "# We expect this example to break into the debugger, but not before\n",
    "# it also says goodbye.\n",
    "with greeting_and_farewell('John'):\n",
    "    print(\"Would you be available to chat with me about python sometime?\")\n",
    "    x = 1 / 0 # Oops, an exception occurs here, causing a non-local exit.\n",
    "              # But we still manage to say goodbye to John!\n"
   ]
  },
  {
   "cell_type": "markdown",
   "metadata": {},
   "source": [
    "# A Context doesn't have access to the local environment of its caller.\n",
    "Below we define a context that references the free variable `person`. Even though `person` is a local variable\n",
    "in the caller, the context has no special access to it. This proves that the context is not simply \"inlined\" where it is invoked. It really is more like a function call."
   ]
  },
  {
   "cell_type": "code",
   "execution_count": 15,
   "metadata": {},
   "outputs": [
    {
     "ename": "NameError",
     "evalue": "name 'person' is not defined",
     "output_type": "error",
     "traceback": [
      "\u001b[0;31m---------------------------------------------------------------------------\u001b[0m",
      "\u001b[0;31mNameError\u001b[0m                                 Traceback (most recent call last)",
      "\u001b[0;32m<ipython-input-15-9f7f7915b205>\u001b[0m in \u001b[0;36m<module>\u001b[0;34m()\u001b[0m\n\u001b[1;32m     11\u001b[0m \u001b[0;31m# The error below is expected. The context has no special access to the local variable\u001b[0m\u001b[0;34m\u001b[0m\u001b[0;34m\u001b[0m\u001b[0m\n\u001b[1;32m     12\u001b[0m \u001b[0;31m# person in the caller.\u001b[0m\u001b[0;34m\u001b[0m\u001b[0;34m\u001b[0m\u001b[0m\n\u001b[0;32m---> 13\u001b[0;31m \u001b[0mfoo\u001b[0m\u001b[0;34m(\u001b[0m\u001b[0;34m)\u001b[0m\u001b[0;34m\u001b[0m\u001b[0m\n\u001b[0m",
      "\u001b[0;32m<ipython-input-15-9f7f7915b205>\u001b[0m in \u001b[0;36mfoo\u001b[0;34m()\u001b[0m\n\u001b[1;32m      6\u001b[0m \u001b[0;32mdef\u001b[0m \u001b[0mfoo\u001b[0m\u001b[0;34m(\u001b[0m\u001b[0;34m)\u001b[0m\u001b[0;34m:\u001b[0m\u001b[0;34m\u001b[0m\u001b[0m\n\u001b[1;32m      7\u001b[0m     \u001b[0mperson\u001b[0m \u001b[0;34m=\u001b[0m \u001b[0;34m'John'\u001b[0m\u001b[0;34m\u001b[0m\u001b[0m\n\u001b[0;32m----> 8\u001b[0;31m     \u001b[0;32mwith\u001b[0m \u001b[0mno_local_access\u001b[0m\u001b[0;34m(\u001b[0m\u001b[0;34m)\u001b[0m\u001b[0;34m:\u001b[0m\u001b[0;34m\u001b[0m\u001b[0m\n\u001b[0m\u001b[1;32m      9\u001b[0m         \u001b[0;32mpass\u001b[0m\u001b[0;34m\u001b[0m\u001b[0m\n\u001b[1;32m     10\u001b[0m \u001b[0;34m\u001b[0m\u001b[0m\n",
      "\u001b[0;32m~/anaconda3/lib/python3.6/contextlib.py\u001b[0m in \u001b[0;36m__enter__\u001b[0;34m(self)\u001b[0m\n\u001b[1;32m     79\u001b[0m     \u001b[0;32mdef\u001b[0m \u001b[0m__enter__\u001b[0m\u001b[0;34m(\u001b[0m\u001b[0mself\u001b[0m\u001b[0;34m)\u001b[0m\u001b[0;34m:\u001b[0m\u001b[0;34m\u001b[0m\u001b[0m\n\u001b[1;32m     80\u001b[0m         \u001b[0;32mtry\u001b[0m\u001b[0;34m:\u001b[0m\u001b[0;34m\u001b[0m\u001b[0m\n\u001b[0;32m---> 81\u001b[0;31m             \u001b[0;32mreturn\u001b[0m \u001b[0mnext\u001b[0m\u001b[0;34m(\u001b[0m\u001b[0mself\u001b[0m\u001b[0;34m.\u001b[0m\u001b[0mgen\u001b[0m\u001b[0;34m)\u001b[0m\u001b[0;34m\u001b[0m\u001b[0m\n\u001b[0m\u001b[1;32m     82\u001b[0m         \u001b[0;32mexcept\u001b[0m \u001b[0mStopIteration\u001b[0m\u001b[0;34m:\u001b[0m\u001b[0;34m\u001b[0m\u001b[0m\n\u001b[1;32m     83\u001b[0m             \u001b[0;32mraise\u001b[0m \u001b[0mRuntimeError\u001b[0m\u001b[0;34m(\u001b[0m\u001b[0;34m\"generator didn't yield\"\u001b[0m\u001b[0;34m)\u001b[0m \u001b[0;32mfrom\u001b[0m \u001b[0;32mNone\u001b[0m\u001b[0;34m\u001b[0m\u001b[0m\n",
      "\u001b[0;32m<ipython-input-15-9f7f7915b205>\u001b[0m in \u001b[0;36mno_local_access\u001b[0;34m()\u001b[0m\n\u001b[1;32m      1\u001b[0m \u001b[0;34m@\u001b[0m\u001b[0mcontextmanager\u001b[0m\u001b[0;34m\u001b[0m\u001b[0m\n\u001b[1;32m      2\u001b[0m \u001b[0;32mdef\u001b[0m \u001b[0mno_local_access\u001b[0m\u001b[0;34m(\u001b[0m\u001b[0;34m)\u001b[0m\u001b[0;34m:\u001b[0m\u001b[0;34m\u001b[0m\u001b[0m\n\u001b[0;32m----> 3\u001b[0;31m     \u001b[0mprint\u001b[0m\u001b[0;34m(\u001b[0m\u001b[0;34m'Hello, '\u001b[0m \u001b[0;34m+\u001b[0m \u001b[0mperson\u001b[0m\u001b[0;34m)\u001b[0m \u001b[0;31m# This reference to person won't resolve.\u001b[0m\u001b[0;34m\u001b[0m\u001b[0m\n\u001b[0m\u001b[1;32m      4\u001b[0m     \u001b[0;32myield\u001b[0m\u001b[0;34m\u001b[0m\u001b[0m\n\u001b[1;32m      5\u001b[0m \u001b[0;34m\u001b[0m\u001b[0m\n",
      "\u001b[0;31mNameError\u001b[0m: name 'person' is not defined"
     ]
    }
   ],
   "source": [
    "@contextmanager\n",
    "def no_local_access():\n",
    "    print('Hello, ' + person) # This reference to person won't resolve.\n",
    "    yield\n",
    "    \n",
    "def foo():\n",
    "    person = 'John'\n",
    "    with no_local_access():\n",
    "        pass\n",
    "        \n",
    "# The error below is expected. The context has no special access to the local variable \n",
    "# person in the caller.\n",
    "foo()"
   ]
  },
  {
   "cell_type": "markdown",
   "metadata": {},
   "source": [
    "# The body of a `with` statement has no access to the local environment of its context\n",
    "Similarly, the body of a `with` statement cannot see the local variables established by the context (unless the context yields them back to the caller).\n"
   ]
  },
  {
   "cell_type": "code",
   "execution_count": 16,
   "metadata": {},
   "outputs": [
    {
     "ename": "NameError",
     "evalue": "name 'person' is not defined",
     "output_type": "error",
     "traceback": [
      "\u001b[0;31m---------------------------------------------------------------------------\u001b[0m",
      "\u001b[0;31mNameError\u001b[0m                                 Traceback (most recent call last)",
      "\u001b[0;32m<ipython-input-16-55761e15cc4d>\u001b[0m in \u001b[0;36m<module>\u001b[0;34m()\u001b[0m\n\u001b[1;32m     10\u001b[0m \u001b[0;31m# The error below is expected. The body of the with statement has no special\u001b[0m\u001b[0;34m\u001b[0m\u001b[0;34m\u001b[0m\u001b[0m\n\u001b[1;32m     11\u001b[0m \u001b[0;31m# access to the local variable person in the context.\u001b[0m\u001b[0;34m\u001b[0m\u001b[0;34m\u001b[0m\u001b[0m\n\u001b[0;32m---> 12\u001b[0;31m \u001b[0mfoo\u001b[0m\u001b[0;34m(\u001b[0m\u001b[0;34m)\u001b[0m\u001b[0;34m\u001b[0m\u001b[0m\n\u001b[0m",
      "\u001b[0;32m<ipython-input-16-55761e15cc4d>\u001b[0m in \u001b[0;36mfoo\u001b[0;34m()\u001b[0m\n\u001b[1;32m      6\u001b[0m \u001b[0;32mdef\u001b[0m \u001b[0mfoo\u001b[0m\u001b[0;34m(\u001b[0m\u001b[0;34m)\u001b[0m\u001b[0;34m:\u001b[0m\u001b[0;34m\u001b[0m\u001b[0m\n\u001b[1;32m      7\u001b[0m     \u001b[0;32mwith\u001b[0m \u001b[0mno_local_access\u001b[0m\u001b[0;34m(\u001b[0m\u001b[0;34m)\u001b[0m\u001b[0;34m:\u001b[0m\u001b[0;34m\u001b[0m\u001b[0m\n\u001b[0;32m----> 8\u001b[0;31m         \u001b[0mprint\u001b[0m\u001b[0;34m(\u001b[0m\u001b[0;34m\"Hello, \"\u001b[0m \u001b[0;34m+\u001b[0m \u001b[0mperson\u001b[0m\u001b[0;34m)\u001b[0m \u001b[0;31m# This reference to person won't resolve.\u001b[0m\u001b[0;34m\u001b[0m\u001b[0m\n\u001b[0m\u001b[1;32m      9\u001b[0m \u001b[0;34m\u001b[0m\u001b[0m\n\u001b[1;32m     10\u001b[0m \u001b[0;31m# The error below is expected. The body of the with statement has no special\u001b[0m\u001b[0;34m\u001b[0m\u001b[0;34m\u001b[0m\u001b[0m\n",
      "\u001b[0;31mNameError\u001b[0m: name 'person' is not defined"
     ]
    }
   ],
   "source": [
    "@contextmanager\n",
    "def no_local_access():\n",
    "    person = 'John'\n",
    "    yield\n",
    "    \n",
    "def foo():\n",
    "    with no_local_access():\n",
    "        print(\"Hello, \" + person) # This reference to person won't resolve.\n",
    "        \n",
    "# The error below is expected. The body of the with statement has no special\n",
    "# access to the local variable person in the context.\n",
    "foo()"
   ]
  },
  {
   "cell_type": "markdown",
   "metadata": {},
   "source": [
    "# The body of a `with` statement _does_ have access to local variables outside the `with` statement.\n",
    "As you would expect, the code below works just fine."
   ]
  },
  {
   "cell_type": "code",
   "execution_count": 17,
   "metadata": {},
   "outputs": [
    {
     "name": "stdout",
     "output_type": "stream",
     "text": [
      "Hello, John\n"
     ]
    }
   ],
   "source": [
    "@contextmanager\n",
    "def do_nothing():\n",
    "    yield\n",
    "    \n",
    "def foo():\n",
    "    person = 'John'\n",
    "    with do_nothing():\n",
    "        print(\"Hello, \" + person) # This reference to person is fine.\n",
    "        \n",
    "\n",
    "foo()"
   ]
  },
  {
   "cell_type": "markdown",
   "metadata": {},
   "source": [
    "# The \"function\" defined by @contextmanager returns a context object with an embedded generator\n",
    "Remember that, because it contains a `yield` statement, the \"function\" that we decorate with `@contextmanager` is actually a generator. As such, it returns immediately when it is called. The decorator then wraps the generator in such a way as to make it an appropriate context object, which means that it defines `__enter__()` and `__exit__()` methods, and the `with` statement invokes those methods on the context object. We can see these pieces in the following example sequence. "
   ]
  },
  {
   "cell_type": "code",
   "execution_count": 18,
   "metadata": {},
   "outputs": [
    {
     "data": {
      "text/plain": [
       "<contextlib._GeneratorContextManager at 0x10cc6d8d0>"
      ]
     },
     "execution_count": 18,
     "metadata": {},
     "output_type": "execute_result"
    }
   ],
   "source": [
    "# Simplest context\n",
    "from contextlib import contextmanager\n",
    "\n",
    "@contextmanager\n",
    "def sandwiched_code():\n",
    "    print(\"This is the enter code.\")\n",
    "    print(\"It consists of everything before yield.\")\n",
    "    yield\n",
    "    print(\"This is the exit code.\")\n",
    "    print(\"It consists of everything after yield.\")\n",
    "    \n",
    "\n",
    "context = sandwiched_code()\n",
    "context"
   ]
  },
  {
   "cell_type": "code",
   "execution_count": 19,
   "metadata": {},
   "outputs": [
    {
     "data": {
      "text/plain": [
       "<bound method _GeneratorContextManager.__enter__ of <contextlib._GeneratorContextManager object at 0x10cc6d8d0>>"
      ]
     },
     "execution_count": 19,
     "metadata": {},
     "output_type": "execute_result"
    }
   ],
   "source": [
    "context.__enter__"
   ]
  },
  {
   "cell_type": "code",
   "execution_count": 20,
   "metadata": {},
   "outputs": [
    {
     "data": {
      "text/plain": [
       "<bound method _GeneratorContextManager.__exit__ of <contextlib._GeneratorContextManager object at 0x10cc6d8d0>>"
      ]
     },
     "execution_count": 20,
     "metadata": {},
     "output_type": "execute_result"
    }
   ],
   "source": [
    "context.__exit__"
   ]
  },
  {
   "cell_type": "code",
   "execution_count": 21,
   "metadata": {},
   "outputs": [
    {
     "name": "stdout",
     "output_type": "stream",
     "text": [
      "This is the enter code.\n",
      "It consists of everything before yield.\n",
      "This is the meat of the sandwich.\n",
      "This is the exit code.\n",
      "It consists of everything after yield.\n"
     ]
    }
   ],
   "source": [
    "# Here we see that the with statement works by actually\n",
    "# being given a context object to invoke.\n",
    "with context:\n",
    "    print(\"This is the meat of the sandwich.\")"
   ]
  },
  {
   "cell_type": "code",
   "execution_count": 22,
   "metadata": {},
   "outputs": [
    {
     "ename": "RuntimeError",
     "evalue": "generator didn't yield",
     "output_type": "error",
     "traceback": [
      "\u001b[0;31m---------------------------------------------------------------------------\u001b[0m",
      "\u001b[0;31mRuntimeError\u001b[0m                              Traceback (most recent call last)",
      "\u001b[0;32m<ipython-input-22-78510920cb4a>\u001b[0m in \u001b[0;36m<module>\u001b[0;34m()\u001b[0m\n\u001b[1;32m      1\u001b[0m \u001b[0;31m# This fails, because the context object contains\u001b[0m\u001b[0;34m\u001b[0m\u001b[0;34m\u001b[0m\u001b[0m\n\u001b[1;32m      2\u001b[0m \u001b[0;31m# an embedded generator, which we already exhausted above.\u001b[0m\u001b[0;34m\u001b[0m\u001b[0;34m\u001b[0m\u001b[0m\n\u001b[0;32m----> 3\u001b[0;31m \u001b[0;32mwith\u001b[0m \u001b[0mcontext\u001b[0m\u001b[0;34m:\u001b[0m\u001b[0;34m\u001b[0m\u001b[0m\n\u001b[0m\u001b[1;32m      4\u001b[0m     \u001b[0mprint\u001b[0m\u001b[0;34m(\u001b[0m\u001b[0;34m\"This is the meat of the sandwich.\"\u001b[0m\u001b[0;34m)\u001b[0m\u001b[0;34m\u001b[0m\u001b[0m\n",
      "\u001b[0;32m~/anaconda3/lib/python3.6/contextlib.py\u001b[0m in \u001b[0;36m__enter__\u001b[0;34m(self)\u001b[0m\n\u001b[1;32m     81\u001b[0m             \u001b[0;32mreturn\u001b[0m \u001b[0mnext\u001b[0m\u001b[0;34m(\u001b[0m\u001b[0mself\u001b[0m\u001b[0;34m.\u001b[0m\u001b[0mgen\u001b[0m\u001b[0;34m)\u001b[0m\u001b[0;34m\u001b[0m\u001b[0m\n\u001b[1;32m     82\u001b[0m         \u001b[0;32mexcept\u001b[0m \u001b[0mStopIteration\u001b[0m\u001b[0;34m:\u001b[0m\u001b[0;34m\u001b[0m\u001b[0m\n\u001b[0;32m---> 83\u001b[0;31m             \u001b[0;32mraise\u001b[0m \u001b[0mRuntimeError\u001b[0m\u001b[0;34m(\u001b[0m\u001b[0;34m\"generator didn't yield\"\u001b[0m\u001b[0;34m)\u001b[0m \u001b[0;32mfrom\u001b[0m \u001b[0;32mNone\u001b[0m\u001b[0;34m\u001b[0m\u001b[0m\n\u001b[0m\u001b[1;32m     84\u001b[0m \u001b[0;34m\u001b[0m\u001b[0m\n\u001b[1;32m     85\u001b[0m     \u001b[0;32mdef\u001b[0m \u001b[0m__exit__\u001b[0m\u001b[0;34m(\u001b[0m\u001b[0mself\u001b[0m\u001b[0;34m,\u001b[0m \u001b[0mtype\u001b[0m\u001b[0;34m,\u001b[0m \u001b[0mvalue\u001b[0m\u001b[0;34m,\u001b[0m \u001b[0mtraceback\u001b[0m\u001b[0;34m)\u001b[0m\u001b[0;34m:\u001b[0m\u001b[0;34m\u001b[0m\u001b[0m\n",
      "\u001b[0;31mRuntimeError\u001b[0m: generator didn't yield"
     ]
    }
   ],
   "source": [
    "# This fails, because the context object contains\n",
    "# an embedded generator, which we already exhausted above.\n",
    "with context:\n",
    "    print(\"This is the meat of the sandwich.\")"
   ]
  },
  {
   "cell_type": "markdown",
   "metadata": {},
   "source": [
    "# Contexts can be methods\n",
    "We can use `@contextmanager` to decorate a method as well as a function. The example below illustrates."
   ]
  },
  {
   "cell_type": "code",
   "execution_count": 23,
   "metadata": {},
   "outputs": [
    {
     "name": "stdout",
     "output_type": "stream",
     "text": [
      "Good Morning, John.\n",
      "How is life?\n",
      "Nice talking to you, John.\n"
     ]
    }
   ],
   "source": [
    "# In this example, we make sure to greet the person\n",
    "# and say goodbye to them. We arrange to say goodbye\n",
    "# even if some non-local exit occurs during the middle\n",
    "# of our interaction with them.\n",
    "\n",
    "from contextlib import contextmanager\n",
    "\n",
    "class Salutation:\n",
    "    \"\"\"\n",
    "    Represents a pair of phrases that are used\n",
    "    to say hello and goodbye respectively. \n",
    "    \n",
    "    Knows how to set up a context the begins with a hello\n",
    "    and ends with a goodbye.\n",
    "    \"\"\"\n",
    "    def __init__(self, hello, goodbye):\n",
    "        self.hello = hello\n",
    "        self.goodbye = goodbye\n",
    "\n",
    "    @contextmanager\n",
    "    def greeting_and_farewell(self, to_person):\n",
    "        print(self.hello + \", \" + to_person + '.')    \n",
    "        try:\n",
    "            yield\n",
    "        finally: \n",
    "            print(self.goodbye + \", \" + to_person + '.')\n",
    "            \n",
    "salutation = Salutation(\"Good Morning\", \"Nice talking to you\")\n",
    "with salutation.greeting_and_farewell('John'):\n",
    "    print(\"How is life?\")"
   ]
  },
  {
   "cell_type": "markdown",
   "metadata": {},
   "source": [
    "# A Final Example\n",
    "The final example below is a little bit more elaborate, providing a motivated example for the use of contexts."
   ]
  },
  {
   "cell_type": "code",
   "execution_count": 24,
   "metadata": {
    "collapsed": true
   },
   "outputs": [],
   "source": [
    "# This example defines a context that alters the built-in print() function so that\n",
    "# it prefixes any print statement with the current time, restoring the original\n",
    "# print() function when the context exits.\n",
    "\n",
    "from contextlib import contextmanager\n",
    "import datetime\n",
    "\n",
    "\n",
    "@contextmanager\n",
    "def print_prefixed_by_timestamp(date_time_format):\n",
    "    \"\"\"\n",
    "    Prefix any print statement within our context by the current date and time,\n",
    "    formatting it as specified by date_time_format.\n",
    "    :param date_time_format: A string that specifies the format for the date and time,\n",
    "                             whose syntax is dictated by the strftime() method of datetime.datime.\n",
    "    :return: None\n",
    "    \"\"\"\n",
    "    global print # This allows us to re-assign print to another function.\n",
    "\n",
    "    old_print = print # Save the old print() so we can restore it later.\n",
    "\n",
    "    # Define a new print function that prefixes the formatted time when printing.\n",
    "    def new_print(s, *args, **kwds):\n",
    "        \"\"\"\n",
    "        Print the string s, prefixed by the current time.\n",
    "        :param s:\n",
    "        :return: None\n",
    "        \"\"\"\n",
    "        old_print(datetime.datetime.now().strftime(date_time_format), end = '--')\n",
    "        old_print(s, *args, **kwds)\n",
    "\n",
    "\n",
    "    print = new_print  # Bash the built-in print() to use our new print function\n",
    "    try:\n",
    "        yield              # yield the context: all print() calls done here will use new_print()\n",
    "    finally:\n",
    "        print = old_print  # Restore the original print function\n"
   ]
  },
  {
   "cell_type": "code",
   "execution_count": 25,
   "metadata": {},
   "outputs": [
    {
     "name": "stdout",
     "output_type": "stream",
     "text": [
      "2018/04/24 08:06:54--Hello World\n",
      "2018/04/24 08:06:54--Nice to know what time it is.\n",
      "No more time-prefixing anymore.\n"
     ]
    }
   ],
   "source": [
    "with print_prefixed_by_timestamp('%Y/%m/%d %H:%M:%S'):\n",
    "    print(\"Hello World\")\n",
    "    print(\"Nice to know what time it is.\")\n",
    "print(\"No more time-prefixing anymore.\")"
   ]
  }
 ],
 "metadata": {
  "kernelspec": {
   "display_name": "Python 3",
   "language": "python",
   "name": "python3"
  },
  "language_info": {
   "codemirror_mode": {
    "name": "ipython",
    "version": 3
   },
   "file_extension": ".py",
   "mimetype": "text/x-python",
   "name": "python",
   "nbconvert_exporter": "python",
   "pygments_lexer": "ipython3",
   "version": "3.6.3"
  }
 },
 "nbformat": 4,
 "nbformat_minor": 2
}
