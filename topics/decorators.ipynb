{
 "cells": [
  {
   "cell_type": "markdown",
   "metadata": {},
   "source": [
    "# Decorators\n",
    "This tutorial introduces decorators. A decorator is a _wrapper_ that modifies the behavior of a function or class. The vast majority of use cases are to modify functions, rather than classes, so we will focus on that use case going forward.\n",
    "\n",
    "# A decorator example--debugging instrumentation\n",
    "\n",
    "The following example will help illustrate the kinds of situations in which we desire something like a decorator. Suppose we want to instrument some (or all) of our functions with debugging logic that tells us when the function has been entered and tells us when it has been exited. Consider the following pair of functions:"
   ]
  },
  {
   "cell_type": "code",
   "execution_count": 1,
   "metadata": {},
   "outputs": [
    {
     "name": "stdout",
     "output_type": "stream",
     "text": [
      "Hello, Josh\n",
      "Goodbye, Josh\n"
     ]
    }
   ],
   "source": [
    "# Functions that construct greeting and parting sentences.\n",
    "\n",
    "# Construct a greeting sentence\n",
    "def make_greeting(name):\n",
    "    return \"Hello, \" + name\n",
    "    \n",
    "# Construct a parting sentence.\n",
    "def make_parting(name):\n",
    "    return \"Goodbye, \" + name\n",
    "    \n",
    "# Run example\n",
    "print(make_greeting('Josh'))\n",
    "print(make_parting('Josh'))"
   ]
  },
  {
   "cell_type": "markdown",
   "metadata": {},
   "source": [
    "## A solution with problems--inline the debugging logic\n",
    "If we want to add debugging logic to these functions, we can change them to something like this."
   ]
  },
  {
   "cell_type": "code",
   "execution_count": 2,
   "metadata": {},
   "outputs": [
    {
     "name": "stdout",
     "output_type": "stream",
     "text": [
      "Enter make_greeting, arg = Josh\n",
      "Hello, Josh <-- Exit make_greeting\n",
      "Hello, Josh\n",
      "\n",
      "Enter make_greeting, arg = Josh\n",
      "Goodbye, Josh <-- Exit make_parting\n",
      "Goodbye, Josh\n"
     ]
    }
   ],
   "source": [
    "# Functions that say \"hello\" and \"goodbye\" instrumented with debugging logic.\n",
    "\n",
    "# Construct a greeting sentence\n",
    "def make_greeting(name):\n",
    "    print(\"Enter make_greeting, arg =\", name)\n",
    "    result = \"Hello, \" + name\n",
    "    print(result, \"<-- Exit make_greeting\")\n",
    "    \n",
    "    return result\n",
    "    \n",
    "# Construct a parting sentence.\n",
    "def make_parting(name):\n",
    "    print(\"Enter make_greeting, arg =\", name)\n",
    "    result = \"Goodbye, \" + name\n",
    "    print(result, \"<-- Exit make_parting\")\n",
    "    \n",
    "    return result\n",
    "    \n",
    "# Run example\n",
    "print(make_greeting('Josh'))\n",
    "print()\n",
    "print(make_parting('Josh'))"
   ]
  },
  {
   "cell_type": "markdown",
   "metadata": {},
   "source": [
    "The above solution is sub-optimal for several reasons:\n",
    "\n",
    "  - The code necessary to instrument the functions is the same in all cases. It is \"boiler-plate\" code, or template-code. To implement it for a new function, we have to remember the exact template, or we risk implementing it incorrectly.\n",
    "  - If we decide in the future to change how the debugging works, we would have to make changes all over the code base.\n",
    "  - The debugging code is orthogonal to the central purposes of the functions it modifies, obscuring these purposes and making the code harder to understand.\n",
    "  \n",
    "Ideally, we would like to isolate the code that handles the debugging logic in a single place and have it not be visible in the functions that use it. If we did so, this would immediately remove all three problems above.\n",
    "\n",
    "This is the reason we desire decorators. A decorator is usually created because it represents a general-purpose modification that could be used on many different functions, irrespective of the central purpose of the function. Applying the decorator to the function endows the function with the enhancement associated with the decorator, and it does so without cluttering the code of the function or requiring the coder to remember the details required to implement a specific code template.\n",
    "\n",
    "## An \"old-school\" solution--no decorators\n",
    "\n",
    "As it turns out, we don't really need decorators to achieve all of the above in python. A _decorator_ is really just _syntactic sugar_ that makes it easier and more elegant to _wrap_ a function. Below we illustrate how to wrap a function \"old school\", without the use of a decorators."
   ]
  },
  {
   "cell_type": "code",
   "execution_count": 3,
   "metadata": {},
   "outputs": [
    {
     "name": "stdout",
     "output_type": "stream",
     "text": [
      "Enter make_greeting, args = ('Josh',), kwds = {}\n",
      "Hello, Josh <-- Exit make_greeting\n",
      "Hello, Josh\n",
      "\n",
      "Enter make_parting, args = ('Josh',), kwds = {}\n",
      "Goodbye, Josh <-- Exit make_parting\n",
      "Goodbye, Josh\n"
     ]
    }
   ],
   "source": [
    "# Define a function that implements the debugging logic. It will \"wrap\" the\n",
    "# desired function.\n",
    "\n",
    "def debug(f):\n",
    "    \"\"\"\n",
    "    Return a wrapped function that implements debugging\n",
    "    logic for the function f.\n",
    "    \"\"\"\n",
    "    def wrapper(*args, **kwds):\n",
    "        # prologue\n",
    "        print(\"Enter\", f.__name__, end = '')\n",
    "        print(\", args = \", args, sep = '', end = '')\n",
    "        print(\", kwds =\", kwds)\n",
    "        \n",
    "        result = f(*args, **kwds) # Call the original function.\n",
    "        \n",
    "        # epilogue\n",
    "        print(result, \"<-- Exit\", f.__name__)\n",
    "\n",
    "        return result\n",
    "    \n",
    "    return wrapper\n",
    "\n",
    "\n",
    "# Construct a greeting sentence\n",
    "def make_greeting(name):\n",
    "    return \"Hello, \" + name\n",
    "make_greeting = debug(make_greeting) # Wrap make_greeting() with debugging logic\n",
    "\n",
    "# Construct a parting sentence\n",
    "def make_parting(name):\n",
    "    return \"Goodbye, \" + name\n",
    "make_parting  = debug(make_parting)  # Wrap make_parting() with debugging logic\n",
    " \n",
    "\n",
    "# Run example\n",
    "print(make_greeting('Josh'))\n",
    "print()\n",
    "print(make_parting('Josh'))"
   ]
  },
  {
   "cell_type": "markdown",
   "metadata": {},
   "source": [
    "## An elegant solution--with decorators\n",
    "The code above achieves everything we would like. The debugging logic is safely put in a single place, and it no longer clutters the definitions of `make_greeting()` or `make_parting()`. The only slight inelegance is that we have to bash the definitions of `make_greeting()` and `make_parting()` on lines 28 and 33 above. Python introduced decorators in order to make these lines unnecessary. Here is the same code again, using decorators."
   ]
  },
  {
   "cell_type": "code",
   "execution_count": 4,
   "metadata": {},
   "outputs": [
    {
     "name": "stdout",
     "output_type": "stream",
     "text": [
      "Enter make_greeting, args = ('Josh',), kwds = {}\n",
      "Hello, Josh <-- Exit make_greeting\n",
      "Hello, Josh\n",
      "\n",
      "Enter make_parting, args = ('Josh',), kwds = {}\n",
      "Goodbye, Josh <-- Exit make_parting\n",
      "Goodbye, Josh\n"
     ]
    }
   ],
   "source": [
    "# Apply debug as a decorator to add debugging logic.\n",
    "\n",
    "# We omit the definition of debug(). \n",
    "# We don't need to alter a single line of its code, \n",
    "# as defined above on [3]:4.\n",
    "\n",
    "# Construct a greeting sentence\n",
    "@debug                    # Here we employ debug() as a decorator.\n",
    "def make_greeting(name):  # This is the function definition that is decorated.\n",
    "    return \"Hello, \" + name\n",
    "\n",
    "# Construct a parting sentence\n",
    "@debug                    \n",
    "def make_parting(name):\n",
    "    return \"Goodbye, \" + name\n",
    " \n",
    "\n",
    "# Run example\n",
    "print(make_greeting('Josh'))\n",
    "print()\n",
    "print(make_parting('Josh'))    "
   ]
  },
  {
   "cell_type": "markdown",
   "metadata": {},
   "source": [
    "# Decorators Defined\n",
    "A decorator is a function that takes a single argument, which must also be a function. When a decorator is called, it returns as its value yet another function that is a wrapped version of the input argument.\n",
    "\n",
    "In the above code, on line 8, the presence of the `@` sign before `debug` tells python to treat `debug` as a decorator. As such, it expects `debug` to be a function that takes a single argument that is also a function. It also expects there to be a function definition directly beneath the decorator. The python interpeter evaluates the function definition on line 9, resulting in a function object, and then calls `debug` on this function object, assigning the return value of `debug` to the global `make_greeting`. In order words, `debug` gets fed in the original definition of `make_greeting` and returns a wrapped version of it, which wrapped version is the one actually assigned to the global `make_greeting`."
   ]
  },
  {
   "cell_type": "markdown",
   "metadata": {},
   "source": [
    "# Decorators are quite useful\n",
    "It may seem as though it isn't worth learning about something as fancy as decorators in order to implement something as simple as the above debugging logic; however, keep in mind that we intentionally keep examples simple here so that they will be more understandable.\n",
    "\n",
    "In reality, a decorator for debugging would have to handle exceptions and would also have to perform some kind of indenting to keep track of call levels. Below is an updated decorator that does these things. As one can see, it is well worth isolating all the debugging logic within a single function. Line 25 below is wrapped by a significant amount of prologue and epilogue code.\n",
    "\n",
    "# A more realistic version of the debugging decorator"
   ]
  },
  {
   "cell_type": "code",
   "execution_count": 5,
   "metadata": {},
   "outputs": [
    {
     "name": "stdout",
     "output_type": "stream",
     "text": [
      " Enter factorial, args = (3,), kwds = {}\n",
      "     Enter factorial, args = (2,), kwds = {}\n",
      "         Enter factorial, args = (1,), kwds = {}\n",
      "             Enter factorial, args = (0,), kwds = {}\n",
      "             Exit factorial --> 1.0\n",
      "         Exit factorial --> 1.0\n",
      "     Exit factorial --> 2.0\n",
      " Exit factorial --> 6.0\n",
      "6.0\n",
      "\n",
      " Enter factorial, args = ('hello',), kwds = {}\n",
      " Exit factorial --> Error: '<=' not supported between instances of 'str' and 'int'\n"
     ]
    }
   ],
   "source": [
    "# Define a decorator that adds debugging logic to any function.\n",
    "\n",
    "DebugCallLevel = -1 # Tracks how many nested calls have been made.\n",
    "DEBUG_INDENT   = 4  # How many spaces to lead with for each call-level.\n",
    "\n",
    "\n",
    "def debug(f):\n",
    "    \"\"\"\n",
    "    This is a decorator. Enhance the function f\n",
    "    so that it prints out debugging information\n",
    "    about when it is called and what results it returns.\n",
    "    \"\"\"\n",
    "    def wrapper(*args, **kwds):\n",
    "        global DebugCallLevel\n",
    "        \n",
    "        # Make sure our debug level is properly reset when any errors are encountered.\n",
    "        try:\n",
    "            # Prologue\n",
    "            DebugCallLevel += 1\n",
    "            \n",
    "            print(' '*4*DebugCallLevel, \"Enter\", f.__name__, end = '')\n",
    "            print(\", args = \", args, sep = '', end = '')\n",
    "            print(\", kwds =\", kwds)\n",
    "            \n",
    "            result = f(*args, **kwds) # Here we call the original function.\n",
    "            \n",
    "        # Epilogue\n",
    "        except Exception as e:\n",
    "            print(' '*DEBUG_INDENT*DebugCallLevel, \"Exit\", f.__name__, \"--> Error:\", e)\n",
    "            if DebugCallLevel > 0:\n",
    "                raise e\n",
    "        else:\n",
    "            print(' '*DEBUG_INDENT*DebugCallLevel, \"Exit\", f.__name__, \"-->\", result)\n",
    "\n",
    "            return result\n",
    "        finally:\n",
    "            DebugCallLevel -= 1\n",
    "    \n",
    "    return wrapper\n",
    "\n",
    "\n",
    "# Calculate the factorial function recursively.\n",
    "# Used as a test case for our debug decorator.\n",
    "@debug\n",
    "def factorial(n):\n",
    "    if n <= 0:\n",
    "        return 1.0\n",
    "    else:\n",
    "        return n * factorial(n - 1)\n",
    "\n",
    "\n",
    "# Run example\n",
    "print(factorial(3))\n",
    "print()\n",
    "factorial('hello')\n",
    "    "
   ]
  },
  {
   "cell_type": "markdown",
   "metadata": {},
   "source": [
    "# Decorator Constructors\n",
    "The expression that follows the `@` sign doesn't have to be a function name. It can be a function application that evaluates to a decorator. This allows us to define functions that are not decorators in themselves, but which consruct decorators. Read the example below, which alters the `debug` function defined above so that it is no longer a decorator but becomes a decorator constructor."
   ]
  },
  {
   "cell_type": "code",
   "execution_count": 6,
   "metadata": {},
   "outputs": [
    {
     "name": "stdout",
     "output_type": "stream",
     "text": [
      " Enter factorial, args = (8,), kwds = {}\n",
      "     Enter factorial, args = (7,), kwds = {}\n",
      "         Enter factorial, args = (6,), kwds = {}\n",
      "             Enter factorial, args = (5,), kwds = {}\n",
      "             Exit factorial --> 120.0\n",
      "         Exit factorial --> 720.0\n",
      "     Exit factorial --> 5040.0\n",
      " Exit factorial --> 40320.0\n",
      "40320.0\n",
      "\n",
      " Enter factorial, args = ('hello',), kwds = {}\n",
      " Exit factorial --> Error: '<=' not supported between instances of 'str' and 'int'\n"
     ]
    }
   ],
   "source": [
    "# Define a decorator generator that adds debugging logic to any function.\n",
    "\n",
    "# Only print out debugging information beneath\n",
    "# a certain call-level. Once the call-level gets too deep,\n",
    "# debugging information is no longer printed out.\n",
    "\n",
    "DebugCallLevel = -1 # Tracks how many nested calls have been made.\n",
    "DEBUG_INDENT   = 4  # How many spaces to lead with for each call-level.\n",
    "\n",
    "def debug(max_call_levels):\n",
    "    \"\"\"\n",
    "    This is a decorator generator.\n",
    "    \n",
    "    Return a decorator appropriate for wrapping functions with debug information.\n",
    "    \n",
    "    :param max_call_levels: an integer >= 1. The number of call levels to show\n",
    "                            debug info for.\n",
    "    \"\"\"\n",
    "    def decorator(f):\n",
    "        \"\"\"This is a dynamically generated decorator.\n",
    "    \n",
    "           Enhance the function f so that it prints out debugging information\n",
    "           about when it is called and what results it returns, so long as the\n",
    "           call-level is less than max_call_levels.\n",
    "        \"\"\"\n",
    "        def wrapper(*args, **kwds):\n",
    "            global DebugCallLevel\n",
    "\n",
    "            # Make sure our debug level is properly reset when any errors are encountered.\n",
    "            try:\n",
    "                # Prologue\n",
    "                DebugCallLevel += 1\n",
    "\n",
    "                if DebugCallLevel < max_call_levels: \n",
    "                    print(' '*4*DebugCallLevel, \"Enter\", f.__name__, end = '')\n",
    "                    print(\", args = \", args, sep = '', end = '')\n",
    "                    print(\", kwds =\", kwds)\n",
    "                    \n",
    "                    \n",
    "                result = f(*args, **kwds) # (8) Here we call the main function.\n",
    "\n",
    "            # Epilogue\n",
    "            except Exception as e:\n",
    "                if DebugCallLevel < max_call_levels:\n",
    "                    print(' '*DEBUG_INDENT*DebugCallLevel, \"Exit\", f.__name__, \"--> Error:\", e)\n",
    "                if DebugCallLevel > 0:\n",
    "                    raise e\n",
    "            else:\n",
    "                if DebugCallLevel < max_call_levels:\n",
    "                    print(' '*DEBUG_INDENT*DebugCallLevel, \"Exit\", f.__name__, \"-->\", result)\n",
    "\n",
    "                return result\n",
    "            finally:\n",
    "                DebugCallLevel -= 1\n",
    "        \n",
    "        return wrapper\n",
    "    return decorator\n",
    "\n",
    "\n",
    "# Calculate the factorial function recursively.\n",
    "# Used as a test case for our debug decorator.\n",
    "@debug(4)\n",
    "def factorial(n):\n",
    "    if n <= 0:\n",
    "        return 1.0\n",
    "    else:\n",
    "        return n * factorial(n - 1)\n",
    "\n",
    "\n",
    "# Run example\n",
    "print(factorial(8))\n",
    "print()\n",
    "factorial('hello')\n",
    "    "
   ]
  },
  {
   "cell_type": "markdown",
   "metadata": {},
   "source": [
    "In the example above, one can see that there are now three nested levels of function definition instead of just two, as we had before. This can be a little bit mind-boggling, and it's easy to get lost among the nested levels. We'll take them one at a time.\n",
    "\n",
    "The outermost function, `debug`, is no longer a decorator. Instead it is a decorator _constructor_, which means it must return a decorator when called. It does that, by returning the function named `decorator`. This function is a decorator, because it takes a function `f` as an argument and returns the function `wrapper` as its return value. The function `decorator` is really just the same as the function we used to call `debug`. But, by adding one more level of indirection, we can now pass in the `max_call_levels` variable to `debug` and have that imbedded in the closure that results when we return `wrapper`."
   ]
  },
  {
   "cell_type": "code",
   "execution_count": null,
   "metadata": {
    "collapsed": true
   },
   "outputs": [],
   "source": []
  }
 ],
 "metadata": {
  "kernelspec": {
   "display_name": "Python 3",
   "language": "python",
   "name": "python3"
  },
  "language_info": {
   "codemirror_mode": {
    "name": "ipython",
    "version": 3
   },
   "file_extension": ".py",
   "mimetype": "text/x-python",
   "name": "python",
   "nbconvert_exporter": "python",
   "pygments_lexer": "ipython3",
   "version": "3.6.3"
  }
 },
 "nbformat": 4,
 "nbformat_minor": 2
}
