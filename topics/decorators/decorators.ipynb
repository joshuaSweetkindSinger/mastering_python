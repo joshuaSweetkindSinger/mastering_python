{
 "cells": [
  {
   "cell_type": "markdown",
   "metadata": {},
   "source": [
    "# Decorators\n",
    "This tutorial introduces decorators. A decorator _wraps_ a given function or class to modify its behavior. The vast majority of use cases are to modify functions, rather than classes, so we will concentrate on that use case in this tutorial. Until we explicitly say otherwise, we assume in the following discussion that our decorators are wrapping functions, not classes.\n",
    "\n",
    "When a decorator wraps a function, it creates a new function that executes some code (the prologue), then calls the original function, then executes some additional code (the epilogue). Since the call to the original function is sandwiched between the prologue code and the epilogue code, we say that original function has been _wrapped_.\n",
    "\n",
    "# A decorator example--debugging instrumentation\n",
    "\n",
    "The following example will help illustrate the kinds of situations in which we desire something like a decorator. Suppose we want to instrument some of the functions in a particular module by adding debugging logic that tells us when such a function has been entered and tells us when it has been exited. To keep the example simple, suppose our module consists of just these two functions:"
   ]
  },
  {
   "cell_type": "code",
   "execution_count": 1,
   "metadata": {},
   "outputs": [
    {
     "name": "stdout",
     "output_type": "stream",
     "text": [
      "Hello, Josh\n",
      "Goodbye, Josh\n"
     ]
    }
   ],
   "source": [
    "# Functions that construct greeting and parting sentences.\n",
    "\n",
    "# Construct a greeting sentence\n",
    "def make_greeting(name):\n",
    "    return \"Hello, \" + name\n",
    "    \n",
    "# Construct a parting sentence.\n",
    "def make_parting(name):\n",
    "    return \"Goodbye, \" + name\n",
    "    \n",
    "# Run example\n",
    "print(make_greeting('Josh'))\n",
    "print(make_parting('Josh'))"
   ]
  },
  {
   "cell_type": "markdown",
   "metadata": {},
   "source": [
    "## A solution with problems--put the debugging logic in-line\n",
    "If we want to add debugging logic to these functions, we can change them to something like this."
   ]
  },
  {
   "cell_type": "code",
   "execution_count": 2,
   "metadata": {},
   "outputs": [
    {
     "name": "stdout",
     "output_type": "stream",
     "text": [
      "Enter make_greeting, arg = Josh\n",
      "Hello, Josh <-- Exit make_greeting\n",
      "Hello, Josh\n",
      "\n",
      "Enter make_greeting, arg = Josh\n",
      "Goodbye, Josh <-- Exit make_parting\n",
      "Goodbye, Josh\n"
     ]
    }
   ],
   "source": [
    "# Functions that construct greeting and parting sentences.\n",
    "\n",
    "# Construct a greeting sentence\n",
    "def make_greeting(name):\n",
    "    print(\"Enter make_greeting, arg =\", name)\n",
    "    result = \"Hello, \" + name\n",
    "    print(result, \"<-- Exit make_greeting\")\n",
    "    \n",
    "    return result\n",
    "    \n",
    "# Construct a parting sentence.\n",
    "def make_parting(name):\n",
    "    print(\"Enter make_greeting, arg =\", name)\n",
    "    result = \"Goodbye, \" + name\n",
    "    print(result, \"<-- Exit make_parting\")\n",
    "    \n",
    "    return result\n",
    "    \n",
    "# Run example\n",
    "print(make_greeting('Josh'))\n",
    "print()\n",
    "print(make_parting('Josh'))"
   ]
  },
  {
   "cell_type": "markdown",
   "metadata": {},
   "source": [
    "The above solution is sub-optimal for several reasons:\n",
    "\n",
    "  - The code necessary to instrument the functions is the same in all cases. It is \"boiler-plate\" code, or template-code. To implement it for a new function, we have to remember the exact template, or we risk implementing it incorrectly.\n",
    "  - If we decide in the future to change how the debugging works, we would have to make changes all over the code base.\n",
    "  - The debugging code is orthogonal to the central purposes of the functions it modifies, obscuring these purposes and making the code harder to understand.\n",
    "  \n",
    "Ideally, we would like to isolate the code that handles the debugging logic in a single place and have it not be visible in the functions that use it. If we did so, this would immediately remove all three problems above.\n",
    "\n",
    "This is the reason we desire decorators. A decorator is usually created because it represents a general-purpose modification that could be used on many different functions, irrespective of the central purpose of such a function. Applying the decorator to the function endows the function with the enhancement provided by the decorator, and it does so without cluttering the code of the function or requiring the coder to remember the details required to implement a specific code template.\n",
    "\n",
    "## An \"old-school\" solution--no decorators\n",
    "\n",
    "As it turns out, we don't really need decorators to achieve all of the above in python. Below we illustrate how to wrap a function \"old school\", without the use of a decorators."
   ]
  },
  {
   "cell_type": "code",
   "execution_count": 3,
   "metadata": {},
   "outputs": [
    {
     "name": "stdout",
     "output_type": "stream",
     "text": [
      "Enter make_greeting, args = ('Josh',), kwds = {}\n",
      "Hello, Josh <-- Exit make_greeting\n",
      "Hello, Josh\n",
      "\n",
      "Enter make_parting, args = ('Josh',), kwds = {}\n",
      "Goodbye, Josh <-- Exit make_parting\n",
      "Goodbye, Josh\n"
     ]
    }
   ],
   "source": [
    "# Define a function that implements the debugging logic. It will \"wrap\" the\n",
    "# desired function.\n",
    "\n",
    "def debug(f):\n",
    "    \"\"\"\n",
    "    Return a wrapped function that implements debugging\n",
    "    logic for the function f.\n",
    "    \"\"\"\n",
    "    def wrapper(*args, **kwds):\n",
    "        # prologue\n",
    "        print(\"Enter\", f.__name__, end = '')\n",
    "        print(\", args = \", args, sep = '', end = '')\n",
    "        print(\", kwds =\", kwds)\n",
    "        \n",
    "        result = f(*args, **kwds) # (3) Call the original function.\n",
    "        \n",
    "        # epilogue\n",
    "        print(result, \"<-- Exit\", f.__name__)\n",
    "\n",
    "        return result\n",
    "    \n",
    "    return wrapper\n",
    "\n",
    "\n",
    "# Construct a greeting sentence\n",
    "def make_greeting(name):\n",
    "    return \"Hello, \" + name\n",
    "make_greeting = debug(make_greeting) # (4) We wrap make_greeting() with debugging logic\n",
    "\n",
    "# Construct a parting sentence\n",
    "def make_parting(name):\n",
    "    return \"Goodbye, \" + name\n",
    "make_parting  = debug(make_parting)  # (5) We wrap make_parting() with debugging logic\n",
    " \n",
    "\n",
    "# Run example\n",
    "print(make_greeting('Josh'))\n",
    "print()\n",
    "print(make_parting('Josh'))"
   ]
  },
  {
   "cell_type": "markdown",
   "metadata": {},
   "source": [
    "## An elegant solution--with decorators\n",
    "The code above achieves everything we would like. The debugging logic is safely put in a single place, and it no longer clutters the definitions of `make_greeting()` or `make_parting()`. The only slight inelegance is that we have to bash the definitions of `make_greeting()` and `make_parting()` in (4) and (5) above. Python introduced decorators in order to make these lines unnecessary. A _decorator_ therefore is really just _syntactic sugar_ that makes it easier and more elegant to wrap a function. Here is the same code again, using decorators."
   ]
  },
  {
   "cell_type": "code",
   "execution_count": 4,
   "metadata": {},
   "outputs": [
    {
     "name": "stdout",
     "output_type": "stream",
     "text": [
      "Enter make_greeting, args = ('Josh',), kwds = {}\n",
      "Hello, Josh <-- Exit make_greeting\n",
      "Hello, Josh\n",
      "\n",
      "Enter make_parting, args = ('Josh',), kwds = {}\n",
      "Goodbye, Josh <-- Exit make_parting\n",
      "Goodbye, Josh\n"
     ]
    }
   ],
   "source": [
    "# Apply debug as a decorator to add debugging logic.\n",
    "\n",
    "# We omit the definition of debug(). \n",
    "# We don't need to alter a single line of its code, \n",
    "# as defined above in [3].\n",
    "\n",
    "# Construct a greeting sentence\n",
    "@debug                    # (6) Here we employ debug() as a decorator.\n",
    "def make_greeting(name):  # (7) This is the function definition that is decorated.\n",
    "    return \"Hello, \" + name\n",
    "\n",
    "# Construct a parting sentence\n",
    "@debug                    \n",
    "def make_parting(name):\n",
    "    return \"Goodbye, \" + name\n",
    " \n",
    "\n",
    "# Run example\n",
    "print(make_greeting('Josh'))\n",
    "print()\n",
    "print(make_parting('Josh'))    "
   ]
  },
  {
   "cell_type": "markdown",
   "metadata": {},
   "source": [
    "# Decorators Defined\n",
    "For the moment, we will define a decorator as a function that takes a single argument, which must also be a function. When a decorator is called, it returns as its value yet another function that is a wrapped version of the input argument. (The true definition of a decorator in python is slightly more general. We'll discuss that later.)\n",
    "\n",
    "In the above code, on the line marked (6), the presence of the `@` sign before `debug` tells python to treat `debug` as a decorator. As such, it expects `debug` to be a function that takes a single argument that is also a function. It also expects there to be a function definition directly beneath the decorator. We say in this case that `debug` _decorates_ `make_greeting`. The python interpeter evaluates the function definition on (7), resulting in a function object, and then calls `debug` on this function object, assigning the return value of `debug` to the global `make_greeting`. In order words, `debug` gets fed in the original definition of `make_greeting` and returns a wrapped version of it, which wrapped version is the one actually assigned to the global `make_greeting`."
   ]
  },
  {
   "cell_type": "markdown",
   "metadata": {},
   "source": [
    "# Decorators are quite useful\n",
    "It may seem as though it isn't worth learning about something as fancy as decorators in order to implement something as simple as the above debugging logic; however, keep in mind that we intentionally keep examples simple here so that they will be more understandable.\n",
    "\n",
    "In reality, a decorator for debugging would have to handle exceptions and would also have to perform some kind of indenting to keep track of call levels. Below is an updated decorator that does these things. As one can see, it is well worth isolating all the debugging logic within a single function. The single line marked (8) below is wrapped by a significant amount of prologue and epilogue code.\n",
    "\n",
    "# A more realistic version of the debugging decorator"
   ]
  },
  {
   "cell_type": "code",
   "execution_count": 5,
   "metadata": {},
   "outputs": [
    {
     "name": "stdout",
     "output_type": "stream",
     "text": [
      " Enter factorial, args = (3,), kwds = {}\n",
      "     Enter factorial, args = (2,), kwds = {}\n",
      "         Enter factorial, args = (1,), kwds = {}\n",
      "             Enter factorial, args = (0,), kwds = {}\n",
      "             1.0 <-- exit factorial\n",
      "         1.0 <-- exit factorial\n",
      "     2.0 <-- exit factorial\n",
      " 6.0 <-- exit factorial\n",
      "6.0\n",
      "\n",
      " Enter factorial, args = ('hello',), kwds = {}\n",
      " Debug: Encountered an error while evaluating factorial\n",
      "   Error: '<=' not supported between instances of 'str' and 'int'\n"
     ]
    }
   ],
   "source": [
    "# Define a decorator that adds debugging logic to any function.\n",
    "\n",
    "DebugCallLevel = -1 # Tracks how many nested calls have been made.\n",
    "DEBUG_INDENT   = 4  # How many spaces to lead with for each call-level.\n",
    "\n",
    "\n",
    "def debug(f):\n",
    "    \"\"\"\n",
    "    This is a decorator. Enhance the function f\n",
    "    so that it prints out debugging information\n",
    "    about when it is called and what results it returns.\n",
    "    \"\"\"\n",
    "    def wrapper(*args, **kwds):\n",
    "        global DebugCallLevel\n",
    "        \n",
    "        # We need a try/except block to properly handle errors.\n",
    "        try:\n",
    "            # ========== Prologue\n",
    "            \n",
    "            DebugCallLevel += 1\n",
    "            \n",
    "            # Provide information about entering the function.\n",
    "            print(' '*4*DebugCallLevel, \"Enter\", f.__name__, end = '')\n",
    "            print(\", args = \", args, sep = '', end = '')\n",
    "            print(\", kwds =\", kwds)\n",
    "            \n",
    "            # ==========\n",
    "            \n",
    "            result = f(*args, **kwds) # (8) Here we call the main function.\n",
    "            \n",
    "        # ========== Epilogue\n",
    "        \n",
    "        # We got an error-- provide information about it and re-raise it.\n",
    "        except Exception as e:\n",
    "            print(' '*DEBUG_INDENT*DebugCallLevel, \"Debug: Encountered an error while evaluating\", f.__name__)\n",
    "            print(' '*DEBUG_INDENT*DebugCallLevel, \"  Error:\", e)\n",
    "            if DebugCallLevel > 0:\n",
    "                raise e\n",
    "                \n",
    "        # No error occurred--provide info about exiting the function.\n",
    "        else:\n",
    "            print(' '*DEBUG_INDENT*DebugCallLevel, result, \"<-- exit\", f.__name__)\n",
    "\n",
    "            return result\n",
    "        \n",
    "        finally:\n",
    "            DebugCallLevel -= 1\n",
    "    \n",
    "    return wrapper\n",
    "\n",
    "\n",
    "# Calculate the factorial function recursively.\n",
    "# Used as a test case for our debug decorator.\n",
    "@debug\n",
    "def factorial(n):\n",
    "    if n <= 0:\n",
    "        return 1.0\n",
    "    else:\n",
    "        return n * factorial(n - 1)\n",
    "\n",
    "\n",
    "# Run example\n",
    "print(factorial(3))\n",
    "print()\n",
    "factorial('hello')\n",
    "    "
   ]
  },
  {
   "cell_type": "markdown",
   "metadata": {},
   "source": [
    "# Decorator Generators\n",
    "The expression that follows the `@` sign doesn't have to be a function name. It can also be a function call, so long as the object returned by the function call is a decorator. This allows us to define functions that are not decorators in themselves, but which generate decorators. Read the example below, which alters the `debug` function defined above so that it is no longer a decorator but becomes a decorator generator."
   ]
  },
  {
   "cell_type": "code",
   "execution_count": 6,
   "metadata": {},
   "outputs": [
    {
     "name": "stdout",
     "output_type": "stream",
     "text": [
      " Enter factorial, args = (8,), kwds = {}\n",
      "     Enter factorial, args = (7,), kwds = {}\n",
      "         Enter factorial, args = (6,), kwds = {}\n",
      "             Enter factorial, args = (5,), kwds = {}\n",
      "             120.0 <-- exit factorial\n",
      "         720.0 <-- exit factorial\n",
      "     5040.0 <-- exit factorial\n",
      " 40320.0 <-- exit factorial\n",
      "40320.0\n",
      "\n",
      " Enter factorial, args = ('hello',), kwds = {}\n",
      " Debug: Encountered an error while evaluating factorial\n",
      "   Error: '<=' not supported between instances of 'str' and 'int'\n"
     ]
    }
   ],
   "source": [
    "# Define a decorator generator that adds debugging logic to any function.\n",
    "\n",
    "# Only print out debugging information beneath\n",
    "# a certain call-level. Once the call-level gets too deep,\n",
    "# debugging information is no longer printed out.\n",
    "\n",
    "DebugCallLevel = -1 # Tracks how many nested calls have been made.\n",
    "DEBUG_INDENT   = 4  # How many spaces to lead with for each call-level.\n",
    "\n",
    "def debug(max_call_levels):\n",
    "    \"\"\"\n",
    "    This is a decorator generator.\n",
    "    \n",
    "    Return a decorator appropriate for wrapping functions with debug information.\n",
    "    \n",
    "    :param max_call_levels: an integer >= 1. The number of call levels to show\n",
    "                            debug info for.\n",
    "    \"\"\"\n",
    "    def decorator(f):\n",
    "        \"\"\"This is a dynamically generated decorator.\n",
    "    \n",
    "           Enhance the function f so that it prints out debugging information\n",
    "           about when it is called and what results it returns, so long as the\n",
    "           call-level is less than max_call_levels.\n",
    "        \"\"\"\n",
    "        def wrapper(*args, **kwds):\n",
    "            global DebugCallLevel\n",
    "\n",
    "            # Make sure our debug level is properly reset when any errors are encountered.\n",
    "            try:\n",
    "                # Prologue\n",
    "                DebugCallLevel += 1\n",
    "\n",
    "                if DebugCallLevel < max_call_levels: \n",
    "                    print(' '*4*DebugCallLevel, \"Enter\", f.__name__, end = '')\n",
    "                    print(\", args = \", args, sep = '', end = '')\n",
    "                    print(\", kwds =\", kwds)\n",
    "                    \n",
    "                    \n",
    "                result = f(*args, **kwds) # (8) Here we call the main function.\n",
    "\n",
    "            # Epilogue\n",
    "            except Exception as e:\n",
    "                if DebugCallLevel < max_call_levels:\n",
    "                    print(' '*DEBUG_INDENT*DebugCallLevel, \"Debug: Encountered an error while evaluating\", f.__name__)\n",
    "                    print(' '*DEBUG_INDENT*DebugCallLevel, \"  Error:\", e)\n",
    "                if DebugCallLevel > 0:\n",
    "                    raise e\n",
    "            else:\n",
    "                if DebugCallLevel < max_call_levels:\n",
    "                    print(' '*DEBUG_INDENT*DebugCallLevel, result, \"<-- exit\", f.__name__)\n",
    "\n",
    "                return result\n",
    "            finally:\n",
    "                DebugCallLevel -= 1\n",
    "        \n",
    "        return wrapper\n",
    "    return decorator\n",
    "\n",
    "\n",
    "# Calculate the factorial function recursively.\n",
    "# Used as a test case for our debug decorator.\n",
    "@debug(4)\n",
    "def factorial(n):\n",
    "    if n <= 0:\n",
    "        return 1.0\n",
    "    else:\n",
    "        return n * factorial(n - 1)\n",
    "\n",
    "\n",
    "# Run example\n",
    "print(factorial(8))\n",
    "print()\n",
    "factorial('hello')\n",
    "    "
   ]
  },
  {
   "cell_type": "markdown",
   "metadata": {},
   "source": [
    "In the example above, one can see that there are now three nested levels of function definition instead of just two, as we had before. This can seem a little bit mind-boggling, and it's easy to get lost among the nested levels. We'll take them one at a time.\n",
    "\n",
    "The outermost function, `debug`, is no longer a decorator. Instead it is a decorator _generator_, which means it must return a decorator when called. It does that, by returning the function named `decorator`. This function is a decorator, because it takes a function `f` as an argument and returns the function `wrapper` as its return value. The function `decorator` is really just the same as the function we named `debug` in the previous example. But, by adding one more level of indirection, we can now pass in the `max_call_levels` variable to `debug` and have that imbedded in the closure that results when we return `wrapper`."
   ]
  },
  {
   "cell_type": "markdown",
   "metadata": {},
   "source": [
    "# Odds And Ends\n",
    "We have presented examples above that illustrate the main use case for decorators, which includes decorator generators. As mentioned in the first paragraph of this tutorial, decorators are actually a little bit more general than we have described, although the extra generality does not get used that much in practice. Here we describe the additional contexts in which decorators may be used.\n",
    "\n",
    "## Decorators can return any object at all\n",
    "To begin with, a decorator need not return a function. It can return any python object at all. In particular, it can return a class object, which is what it should do when it is decorating a class instead of a function (this case is discussed in the next section). The next two examples are not particularly motivated or useful. They merely illustrate the freedom possible with decorators.\n"
   ]
  },
  {
   "cell_type": "code",
   "execution_count": 7,
   "metadata": {},
   "outputs": [
    {
     "name": "stdout",
     "output_type": "stream",
     "text": [
      "[1, 2, 3]\n"
     ]
    }
   ],
   "source": [
    "def foo(f):\n",
    "    \"\"\"\n",
    "    This decorator ignores its input\n",
    "    and returns the list [1,2,3]\n",
    "    \"\"\"\n",
    "    return [1,2,3]\n",
    "\n",
    "@foo\n",
    "def bar (x):\n",
    "    return x + 1\n",
    "\n",
    "# Example \n",
    "# The global bar now evaluates to the list [1,2,3]\n",
    "# It is not a function\n",
    "print(bar)"
   ]
  },
  {
   "cell_type": "markdown",
   "metadata": {},
   "source": [
    "In the code above, the global name `bar` now just points to the list `[1,2,3]`, rather than to a function. The original function was entirely ignored by the decorator. That is allowed, although not very useful.\n",
    "\n",
    "Below, instead of ignoring the function, we create a list that contains it as a single element."
   ]
  },
  {
   "cell_type": "code",
   "execution_count": 8,
   "metadata": {},
   "outputs": [
    {
     "name": "stdout",
     "output_type": "stream",
     "text": [
      "[<function bar at 0x109964a60>]\n"
     ]
    }
   ],
   "source": [
    "def listify(f):\n",
    "    \"\"\"\n",
    "    This decorator puts f inside a list.\n",
    "    \"\"\"\n",
    "    return [f]\n",
    "\n",
    "@listify\n",
    "def bar(x):\n",
    "    return x + 1\n",
    "\n",
    "# Example\n",
    "# The global bar now evaluates to a list containing\n",
    "# the original function bar.\n",
    "print(bar)"
   ]
  },
  {
   "cell_type": "markdown",
   "metadata": {},
   "source": [
    "Finally, below is a more motivated example. This decorator returns a callable object. It is not a function object, but it can be used like a function. Note that the example below is a general-purpose alternative to defining a wrapper function. The Counter instance behaves like a wrapper function."
   ]
  },
  {
   "cell_type": "code",
   "execution_count": 9,
   "metadata": {},
   "outputs": [
    {
     "name": "stdout",
     "output_type": "stream",
     "text": [
      "12\n",
      "21\n",
      "51\n",
      "foo has been called 3 times\n",
      "foo is a Counter object: <__main__.Counter object at 0x109952d30>\n"
     ]
    }
   ],
   "source": [
    "def counter(f):\n",
    "    \"\"\"\n",
    "    This is a decorator.\n",
    "    It returns a proxy for f that tracks how many times f is called.\n",
    "    \"\"\"\n",
    "    return Counter(f)\n",
    "\n",
    "class Counter(object):\n",
    "    \"\"\"\n",
    "    Represents a proxy for a function f.\n",
    "    Enhances f by tracking how many times f is called.\n",
    "    \"\"\"\n",
    "    def __init__(self, f):\n",
    "        self.f = f       # The function we are a proxy for.\n",
    "        self.counter = 0 # Keep track of how many times f is called.\n",
    "        \n",
    "    # Defining this method makes Counter instances act like functions.\n",
    "    def __call__(self, *args, **kwds):\n",
    "        self.counter += 1\n",
    "        return self.f(*args, **kwds)\n",
    "    \n",
    "    def report(self):\n",
    "        \"\"\"\n",
    "        Report how many times f has been called.\n",
    "        \"\"\"\n",
    "        print(\"{name} has been called {n} times\".format(name = self.f.__name__,\n",
    "                                                        n = self.counter))\n",
    "    \n",
    "@counter\n",
    "def foo(x):\n",
    "    return x + 1\n",
    "\n",
    "# Example\n",
    "print(foo(11))\n",
    "print(foo(20))\n",
    "print(foo(50))\n",
    "foo.report()\n",
    "print(\"foo is a Counter object:\", foo)\n",
    "        "
   ]
  },
  {
   "cell_type": "markdown",
   "metadata": {},
   "source": [
    "## Decorators can decorate class definitions\n",
    "As mentioned in the first paragraph, a decorator may decorate a class definition instead of a function. Below is an example. Note that the decorator is now returning a class object instead of a function. (Note also that python has more powerful facilities for creating specialized classes, called _metaclasses_, but those will not be covered in this course.)"
   ]
  },
  {
   "cell_type": "code",
   "execution_count": 10,
   "metadata": {},
   "outputs": [
    {
     "name": "stdout",
     "output_type": "stream",
     "text": [
      "The color of r is GREEN\n",
      "The area of r is 6\n"
     ]
    }
   ],
   "source": [
    "def foo(cls):\n",
    "    \"\"\"\n",
    "    This is a class decorator.\n",
    "    It gives cls a class variable called COLOR, set to 'GREEN',\n",
    "    and a new method called area()\n",
    "    \"\"\"\n",
    "    cls.COLOR = 'GREEN'  # Create a class variale\n",
    "\n",
    "    # Add an area() method. \n",
    "    # Note: this assumes cls defines\n",
    "    # width and height member variables.\n",
    "    def area(self):\n",
    "        return self.width * self.height\n",
    "    \n",
    "    cls.area = area\n",
    "    \n",
    "    return cls\n",
    "\n",
    "@foo\n",
    "class Rectangle(object):\n",
    "    def __init__(self, width, height):\n",
    "        self.width = width\n",
    "        self.height = height\n",
    "        \n",
    "# Example\n",
    "r = Rectangle(2, 3)\n",
    "print(\"The color of r is\", r.COLOR)\n",
    "print(\"The area of r is\", r.area())"
   ]
  },
  {
   "cell_type": "markdown",
   "metadata": {},
   "source": [
    "## Decorators don't need to be functions.\n",
    "Any callable object can be a decorator. Functions are simply the most common type of callable object. Below, we make instances of class `CallCounter` callable by giving them a `__call__()` method. This allows them to be decorators."
   ]
  },
  {
   "cell_type": "code",
   "execution_count": 11,
   "metadata": {},
   "outputs": [
    {
     "name": "stdout",
     "output_type": "stream",
     "text": [
      "2\n",
      "11\n",
      "5\n",
      "9\n",
      "19\n",
      "foo has been called 2 times\n",
      "bar has been called 3 times\n"
     ]
    }
   ],
   "source": [
    "class CallCounter(object):\n",
    "    \"\"\"\n",
    "    A decorator that counts how many times each function it decorates has been called.\n",
    "    \"\"\"\n",
    "    def __init__(self):\n",
    "        self.counts_dict = {} # A dictionary of function/count pairs\n",
    "            \n",
    "    def report(self):\n",
    "        for f, count in self.counts_dict.items():\n",
    "                print(\"{name} has been called {n} times\".format(name = f.__name__,\n",
    "                                                                n = count))\n",
    "        \n",
    "    def __call__(self, f):\n",
    "        \"\"\"\n",
    "        Wrap the function f so that it prints out how many times it has been called\n",
    "        and throws an error if it exceeds self.max_calls.\n",
    "        \"\"\"\n",
    "        self.counts_dict[f] = 0 # Initialize counter for f\n",
    "        \n",
    "        def wrapper(*args, **kwds):\n",
    "            self.counts_dict[f] += 1\n",
    "            return f(*args, **kwds)\n",
    "        \n",
    "        return wrapper\n",
    "            \n",
    "\n",
    "    \n",
    "count_calls = CallCounter() # Establish a call counter\n",
    "\n",
    "@count_calls\n",
    "def foo(x):\n",
    "    return x + 1\n",
    "\n",
    "@count_calls\n",
    "def bar(x):\n",
    "    return x + 2\n",
    "\n",
    "print(foo(1))\n",
    "print(foo(10))\n",
    "print(bar(3))\n",
    "print(bar(7))\n",
    "print(bar(17))\n",
    "count_calls.report()\n",
    "\n",
    "\n"
   ]
  },
  {
   "cell_type": "code",
   "execution_count": null,
   "metadata": {
    "collapsed": true
   },
   "outputs": [],
   "source": []
  }
 ],
 "metadata": {
  "kernelspec": {
   "display_name": "Python 3",
   "language": "python",
   "name": "python3"
  },
  "language_info": {
   "codemirror_mode": {
    "name": "ipython",
    "version": 3
   },
   "file_extension": ".py",
   "mimetype": "text/x-python",
   "name": "python",
   "nbconvert_exporter": "python",
   "pygments_lexer": "ipython3",
   "version": "3.6.3"
  }
 },
 "nbformat": 4,
 "nbformat_minor": 2
}
