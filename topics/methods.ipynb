{
 "cells": [
  {
   "cell_type": "markdown",
   "metadata": {},
   "source": [
    "# Method Magic\n",
    "This tutorial illustrates some of the \"magic\" that occurs to implement methods. The magic goes deeper than can be elucidated in this tutorial. For a fuller description (but probably less easy to understand), see the python documentation under [the standard type hierarchy](https://docs.python.org/3/reference/datamodel.html#the-standard-type-hierarchy). Search for \"instance methods\".\n",
    "\n",
    "In python, a method is simply a function that is the value of an attribute on a class object. So, for example, if `A` is a class object, and `bar` is an attribute of that class object that points to a function, then `A.bar` is a method. Typically, we achieve such a state by defining the function `bar` within the class's definition, as illustrated below.\n",
    "\n",
    "The python interpreter invokes some magic under the hood when an instance of `A` refers to the attribute `bar`. If `a` is an instance of `A`, then `a.bar` does not evaluate to the same object as `A.bar`, even though, by inheritance, one would think that these should be the exact same object. In the case of `a.bar`, there is magic that occurs that pre-binds `a` to be the implicit first argument of a new function-like object called a \"bound method\". "
   ]
  },
  {
   "cell_type": "markdown",
   "metadata": {},
   "source": [
    "# First Example\n",
    "The class definitions below are used in many of the examples that follow."
   ]
  },
  {
   "cell_type": "code",
   "execution_count": 1,
   "metadata": {},
   "outputs": [],
   "source": [
    "# This is a base class. Its subclass is B\n",
    "class A:\n",
    "    def __init__(self, x):\n",
    "        self.x = x # Both A and B get this instance variable, since B's init method calls super.\n",
    "        \n",
    "    # Both class A and class B define this.\n",
    "    def bar(self, y):\n",
    "        print(\"Calling A.bar() on:\", self, y)\n",
    "    \n",
    "    # This is only defined in class A, and inherited by B.\n",
    "    def baz(self, y):\n",
    "        print(\"Calling A.baz() on:\", self, y)\n",
    "        self.bar(y)\n",
    "    \n",
    "    \n",
    "class B(A):\n",
    "    def __init__(self, x):\n",
    "        super().__init__(x)\n",
    "        \n",
    "        def f (self, y):\n",
    "            print(\"Calling function f() on:\", self, y)\n",
    "            \n",
    "        # class B defines an extra attribute called \"foo\", not defined by A.\n",
    "        # This attribute points to a function, not a method.\n",
    "        # Methods must be defined on classes, not on instances.\n",
    "        self.foo = f  \n",
    "        \n",
    "    # Overrides the bar() method defined in parent class A\n",
    "    def bar(self, y):\n",
    "         print(\"Calling B.bar() on:\", self, y)\n",
    "\n",
    "    "
   ]
  },
  {
   "cell_type": "markdown",
   "metadata": {},
   "source": [
    "# Preliminaries\n",
    "Before diving into the magic, we first engage in some basics, just to refresh our memory about how classes, methods, and inheritance work."
   ]
  },
  {
   "cell_type": "code",
   "execution_count": 2,
   "metadata": {},
   "outputs": [],
   "source": [
    "a = A(1) # Create an instance of A"
   ]
  },
  {
   "cell_type": "code",
   "execution_count": 3,
   "metadata": {},
   "outputs": [
    {
     "name": "stdout",
     "output_type": "stream",
     "text": [
      "Calling A.bar() on: <__main__.A object at 0x10aa2e748> 0\n"
     ]
    }
   ],
   "source": [
    "a.bar(0)  # a's bar method is gotten from class A"
   ]
  },
  {
   "cell_type": "code",
   "execution_count": 4,
   "metadata": {
    "collapsed": true
   },
   "outputs": [],
   "source": [
    "b = B(2) # Create an instance of B"
   ]
  },
  {
   "cell_type": "code",
   "execution_count": 5,
   "metadata": {},
   "outputs": [
    {
     "name": "stdout",
     "output_type": "stream",
     "text": [
      "Calling B.bar() on: <__main__.B object at 0x10aa2e898> 0\n"
     ]
    }
   ],
   "source": [
    "b.bar(0)  # b's bar method is gotten from class B"
   ]
  },
  {
   "cell_type": "code",
   "execution_count": 6,
   "metadata": {},
   "outputs": [
    {
     "name": "stdout",
     "output_type": "stream",
     "text": [
      "Calling A.baz() on: <__main__.A object at 0x10aa2e748> 0\n",
      "Calling A.bar() on: <__main__.A object at 0x10aa2e748> 0\n"
     ]
    }
   ],
   "source": [
    "a.baz(0) # a's baz method is gotten from class A"
   ]
  },
  {
   "cell_type": "code",
   "execution_count": 7,
   "metadata": {},
   "outputs": [
    {
     "name": "stdout",
     "output_type": "stream",
     "text": [
      "Calling A.baz() on: <__main__.B object at 0x10aa2e898> 0\n",
      "Calling B.bar() on: <__main__.B object at 0x10aa2e898> 0\n"
     ]
    }
   ],
   "source": [
    "# b inherits A's baz() method, but uses its own bar() method.\n",
    "b.baz(0)"
   ]
  },
  {
   "cell_type": "markdown",
   "metadata": {},
   "source": [
    "# The Magic Begins\n",
    "Now we begin diving a bit \"under the hood\" and exploring how methods are represented in python."
   ]
  },
  {
   "cell_type": "markdown",
   "metadata": {},
   "source": [
    "## Methods Are Just Functions\n",
    "Methods are just functions when accessed from a class object, but they metamorphose into a special kind of object called a \"bound method\" when accessed from an instance of a class."
   ]
  },
  {
   "cell_type": "code",
   "execution_count": 8,
   "metadata": {},
   "outputs": [
    {
     "data": {
      "text/plain": [
       "<function __main__.A.bar>"
      ]
     },
     "execution_count": 8,
     "metadata": {},
     "output_type": "execute_result"
    }
   ],
   "source": [
    "# Methods are implemented as functions.\n",
    "# There is no \"magic\" to accessing them from the class object\n",
    "# on which they are defined. An access simply returns the function.\n",
    "A.bar"
   ]
  },
  {
   "cell_type": "code",
   "execution_count": 9,
   "metadata": {},
   "outputs": [
    {
     "data": {
      "text/plain": [
       "<bound method A.bar of <__main__.A object at 0x10aa2e748>>"
      ]
     },
     "execution_count": 9,
     "metadata": {},
     "output_type": "execute_result"
    }
   ],
   "source": [
    "# There IS magic when accessing a method from an instance.\n",
    "# The access returns a \"bound method\" object, not a function.\n",
    "a.bar"
   ]
  },
  {
   "cell_type": "code",
   "execution_count": 10,
   "metadata": {},
   "outputs": [
    {
     "data": {
      "text/plain": [
       "<function __main__.A.baz>"
      ]
     },
     "execution_count": 10,
     "metadata": {},
     "output_type": "execute_result"
    }
   ],
   "source": [
    "A.baz"
   ]
  },
  {
   "cell_type": "code",
   "execution_count": 11,
   "metadata": {},
   "outputs": [
    {
     "data": {
      "text/plain": [
       "<bound method A.baz of <__main__.A object at 0x10aa2e748>>"
      ]
     },
     "execution_count": 11,
     "metadata": {},
     "output_type": "execute_result"
    }
   ],
   "source": [
    "a.baz"
   ]
  },
  {
   "cell_type": "code",
   "execution_count": 12,
   "metadata": {},
   "outputs": [
    {
     "data": {
      "text/plain": [
       "<function __main__.B.bar>"
      ]
     },
     "execution_count": 12,
     "metadata": {},
     "output_type": "execute_result"
    }
   ],
   "source": [
    "B.bar"
   ]
  },
  {
   "cell_type": "code",
   "execution_count": 13,
   "metadata": {},
   "outputs": [
    {
     "data": {
      "text/plain": [
       "<bound method B.bar of <__main__.B object at 0x10aa2e898>>"
      ]
     },
     "execution_count": 13,
     "metadata": {},
     "output_type": "execute_result"
    }
   ],
   "source": [
    "b.bar"
   ]
  },
  {
   "cell_type": "code",
   "execution_count": 14,
   "metadata": {},
   "outputs": [
    {
     "data": {
      "text/plain": [
       "<function __main__.A.baz>"
      ]
     },
     "execution_count": 14,
     "metadata": {},
     "output_type": "execute_result"
    }
   ],
   "source": [
    "B.baz"
   ]
  },
  {
   "cell_type": "code",
   "execution_count": 15,
   "metadata": {},
   "outputs": [
    {
     "data": {
      "text/plain": [
       "<bound method A.baz of <__main__.B object at 0x10aa2e898>>"
      ]
     },
     "execution_count": 15,
     "metadata": {},
     "output_type": "execute_result"
    }
   ],
   "source": [
    "b.baz"
   ]
  },
  {
   "cell_type": "markdown",
   "metadata": {},
   "source": [
    "# Calling Methods Directly as Functions\n",
    "Because a method really is just a function, when accessed through a class object, we can call that function in a completely normal way. We can even pass to its `self` argument an object that is not an instance of the class or its sub-classes, violating the standard OOP paradigm (and likely resulting in an error, but not necessarily)."
   ]
  },
  {
   "cell_type": "code",
   "execution_count": 16,
   "metadata": {},
   "outputs": [
    {
     "name": "stdout",
     "output_type": "stream",
     "text": [
      "Calling B.bar() on: <__main__.B object at 0x10aa2e898> 0\n"
     ]
    }
   ],
   "source": [
    "# Call the bar method of class B as though it were a function.\n",
    "# Here we pass the object b to it, which is an instance of B\n",
    "B.bar(b, 0)"
   ]
  },
  {
   "cell_type": "code",
   "execution_count": 17,
   "metadata": {},
   "outputs": [
    {
     "name": "stdout",
     "output_type": "stream",
     "text": [
      "Calling B.bar() on: <__main__.A object at 0x10aa2e748> 0\n"
     ]
    }
   ],
   "source": [
    "# Call the bar method of class B as though it were a function.\n",
    "# Here we pass the object a to it, which is NOT instance of B, and which\n",
    "# has it own version of bar. But notice that A's bar() method is not\n",
    "# called here. B's is. This would never happen in an OOP paradigm.\n",
    "B.bar(a, 0)"
   ]
  },
  {
   "cell_type": "code",
   "execution_count": 18,
   "metadata": {},
   "outputs": [
    {
     "name": "stdout",
     "output_type": "stream",
     "text": [
      "Calling B.bar() on: 1 0\n"
     ]
    }
   ],
   "source": [
    "# Call the bar method of class B as though it were a function.\n",
    "# Here we pass the integer 1 to it, which is not even an instance in the hierarchy.\n",
    "# It works just fine.\n",
    "B.bar(1, 0)"
   ]
  },
  {
   "cell_type": "markdown",
   "metadata": {},
   "source": [
    "# Calling A Bound Method\n",
    "When we do `a.bar(0)`, we are actually calling the bound method `a.bar` on the argument `0`. The bound method encapsulates `a` as the first arg to `bar()` and expectes to receive the remaining parameters as arguments when it is called. That is why passing `0` to `a.bar` works: the bound method object only expects one more arg because it has already bound `a` to the first argument of `A.bar`."
   ]
  },
  {
   "cell_type": "code",
   "execution_count": 19,
   "metadata": {},
   "outputs": [
    {
     "data": {
      "text/plain": [
       "<bound method A.bar of <__main__.A object at 0x10aa2e748>>"
      ]
     },
     "execution_count": 19,
     "metadata": {},
     "output_type": "execute_result"
    }
   ],
   "source": [
    "g = a.bar\n",
    "g"
   ]
  },
  {
   "cell_type": "code",
   "execution_count": 20,
   "metadata": {},
   "outputs": [
    {
     "name": "stdout",
     "output_type": "stream",
     "text": [
      "Calling A.bar() on: <__main__.A object at 0x10aa2e748> 0\n"
     ]
    }
   ],
   "source": [
    "g(0)"
   ]
  },
  {
   "cell_type": "markdown",
   "metadata": {},
   "source": [
    "Note that the bound-method mechanism must gen up a new bound method object every time we do a method access (and hence every time we do a method invocation), as illustrated below:"
   ]
  },
  {
   "cell_type": "code",
   "execution_count": 21,
   "metadata": {},
   "outputs": [
    {
     "data": {
      "text/plain": [
       "False"
      ]
     },
     "execution_count": 21,
     "metadata": {},
     "output_type": "execute_result"
    }
   ],
   "source": [
    "g1 = a.bar\n",
    "g2 = a.bar\n",
    "g1 is g2"
   ]
  },
  {
   "cell_type": "markdown",
   "metadata": {},
   "source": [
    "By contrast, no magic happens when we access a method simply as a normal function via its class:"
   ]
  },
  {
   "cell_type": "code",
   "execution_count": 22,
   "metadata": {},
   "outputs": [
    {
     "data": {
      "text/plain": [
       "True"
      ]
     },
     "execution_count": 22,
     "metadata": {},
     "output_type": "execute_result"
    }
   ],
   "source": [
    "f1 = A.bar\n",
    "f2 = A.bar\n",
    "f1 is f2"
   ]
  },
  {
   "cell_type": "markdown",
   "metadata": {},
   "source": [
    "# Bound Method Attributes\n",
    "Bound methods are objects, and, as such, have some attributes, for example:"
   ]
  },
  {
   "cell_type": "code",
   "execution_count": 23,
   "metadata": {},
   "outputs": [
    {
     "name": "stdout",
     "output_type": "stream",
     "text": [
      "<bound method A.bar of <__main__.A object at 0x10aa2e748>>\n",
      "g's associated function is: <function A.bar at 0x10aa0fa60>\n",
      "g's bound 'self' arg is: <__main__.A object at 0x10aa2e748>\n",
      "g's method name is: bar\n"
     ]
    }
   ],
   "source": [
    "g = a.bar\n",
    "print(g)\n",
    "print(\"g's associated function is:\", g.__func__)\n",
    "print(\"g's bound 'self' arg is:\", g.__self__)\n",
    "print(\"g's method name is:\", g.__name__)"
   ]
  },
  {
   "cell_type": "markdown",
   "metadata": {},
   "source": [
    "# Methods cannot be defined directly on instances\n",
    "We can't define a method directly on an instance. Methods can only be defined on a class object. An instance created from a class object then inherits the methods of its class parent. For example, we define the method `bar()` on class `B`, and the instance `b` has access to `bar()` via its class parent. There is no mechanism for defining a method `bar()` directly on `b`. Note that `b` does have an attribute called `foo` that points to a function. That is fine, but `foo()` is just a function, not a method."
   ]
  },
  {
   "cell_type": "code",
   "execution_count": 24,
   "metadata": {},
   "outputs": [
    {
     "ename": "TypeError",
     "evalue": "f() missing 1 required positional argument: 'y'",
     "output_type": "error",
     "traceback": [
      "\u001b[0;31m---------------------------------------------------------------------------\u001b[0m",
      "\u001b[0;31mTypeError\u001b[0m                                 Traceback (most recent call last)",
      "\u001b[0;32m<ipython-input-24-5fb5ae8eee0f>\u001b[0m in \u001b[0;36m<module>\u001b[0;34m()\u001b[0m\n\u001b[1;32m      1\u001b[0m \u001b[0;31m# If `foo()` were a method, this would work, but it doesn't,\u001b[0m\u001b[0;34m\u001b[0m\u001b[0;34m\u001b[0m\u001b[0m\n\u001b[1;32m      2\u001b[0m \u001b[0;31m# even though it seems syntactically just like a method invocation.\u001b[0m\u001b[0;34m\u001b[0m\u001b[0;34m\u001b[0m\u001b[0m\n\u001b[0;32m----> 3\u001b[0;31m \u001b[0mb\u001b[0m\u001b[0;34m.\u001b[0m\u001b[0mfoo\u001b[0m\u001b[0;34m(\u001b[0m\u001b[0;36m0\u001b[0m\u001b[0;34m)\u001b[0m\u001b[0;34m\u001b[0m\u001b[0m\n\u001b[0m",
      "\u001b[0;31mTypeError\u001b[0m: f() missing 1 required positional argument: 'y'"
     ]
    }
   ],
   "source": [
    "# If `foo()` were a method, this would work, but it doesn't,\n",
    "# even though it seems syntactically just like a method invocation.\n",
    "b.foo(0)"
   ]
  },
  {
   "cell_type": "code",
   "execution_count": 25,
   "metadata": {},
   "outputs": [
    {
     "name": "stdout",
     "output_type": "stream",
     "text": [
      "Calling function f() on: 0 1\n"
     ]
    }
   ],
   "source": [
    "# Instead, we have to pass both required arguments to foo, because,\n",
    "# despite appearances this is merely a function application:\n",
    "b.foo(0, 1)"
   ]
  },
  {
   "cell_type": "markdown",
   "metadata": {},
   "source": [
    "# Methods can be shadowed, just like any other attribute\n",
    "Because of the way inheritance works, if an instance `bb` of class `B` assigns to an attribute on itself named `bar`, this will shadow the `bar()` method it inherits from its class parent."
   ]
  },
  {
   "cell_type": "code",
   "execution_count": 26,
   "metadata": {},
   "outputs": [
    {
     "data": {
      "text/plain": [
       "<bound method B.bar of <__main__.B object at 0x10aab4080>>"
      ]
     },
     "execution_count": 26,
     "metadata": {},
     "output_type": "execute_result"
    }
   ],
   "source": [
    "# Initially, bb inherits bar() from its class parent.\n",
    "bb = B(0)\n",
    "bb.bar"
   ]
  },
  {
   "cell_type": "code",
   "execution_count": 27,
   "metadata": {},
   "outputs": [
    {
     "data": {
      "text/plain": [
       "3"
      ]
     },
     "execution_count": 27,
     "metadata": {},
     "output_type": "execute_result"
    }
   ],
   "source": [
    "# Now we blow it away by assigning to bb a local value for bar:\n",
    "bb.bar = 3\n",
    "bb.bar"
   ]
  },
  {
   "cell_type": "code",
   "execution_count": 28,
   "metadata": {},
   "outputs": [
    {
     "name": "stdout",
     "output_type": "stream",
     "text": [
      "Calling B.bar() on: <__main__.B object at 0x10aab4080> 1\n",
      "Calling B.bar() on: <__main__.B object at 0x10aab4080> 2\n"
     ]
    }
   ],
   "source": [
    "# If we're careful, we can still access the bar() method on our parent. There are a couple ways:\n",
    "B.bar(bb, 1)\n",
    "bb.__class__.bar(bb, 2)"
   ]
  },
  {
   "cell_type": "code",
   "execution_count": 29,
   "metadata": {},
   "outputs": [
    {
     "ename": "TypeError",
     "evalue": "'int' object is not callable",
     "output_type": "error",
     "traceback": [
      "\u001b[0;31m---------------------------------------------------------------------------\u001b[0m",
      "\u001b[0;31mTypeError\u001b[0m                                 Traceback (most recent call last)",
      "\u001b[0;32m<ipython-input-29-58972e1ed56d>\u001b[0m in \u001b[0;36m<module>\u001b[0;34m()\u001b[0m\n\u001b[1;32m      1\u001b[0m \u001b[0;31m# But, needless to say, the \"normal\" way won't work, because we've blown away \"bar\" locally.\u001b[0m\u001b[0;34m\u001b[0m\u001b[0;34m\u001b[0m\u001b[0m\n\u001b[0;32m----> 2\u001b[0;31m \u001b[0mbb\u001b[0m\u001b[0;34m.\u001b[0m\u001b[0mbar\u001b[0m\u001b[0;34m(\u001b[0m\u001b[0;36m0\u001b[0m\u001b[0;34m)\u001b[0m\u001b[0;34m\u001b[0m\u001b[0m\n\u001b[0m",
      "\u001b[0;31mTypeError\u001b[0m: 'int' object is not callable"
     ]
    }
   ],
   "source": [
    "# But, needless to say, the \"normal\" way won't work, because we've blown away \"bar\" locally.\n",
    "bb.bar(0)"
   ]
  },
  {
   "cell_type": "markdown",
   "metadata": {},
   "source": [
    "# Patching Classes\n",
    "A class is an object at run time, just like any other python object. As such, it can have attributes dynamically added to it even after it has been defined."
   ]
  },
  {
   "cell_type": "code",
   "execution_count": 30,
   "metadata": {
    "collapsed": true
   },
   "outputs": [],
   "source": [
    "# Define an empty class\n",
    "class C:\n",
    "    pass\n",
    "\n",
    "# Patch it with a class variable\n",
    "C.color = 'red'\n",
    "\n",
    "# Give it a declare_color() method:\n",
    "def f(self):\n",
    "    print(\"My color is\", self.color)\n",
    "C.declare_color = f"
   ]
  },
  {
   "cell_type": "code",
   "execution_count": 31,
   "metadata": {},
   "outputs": [
    {
     "data": {
      "text/plain": [
       "<__main__.C at 0x10aab49b0>"
      ]
     },
     "execution_count": 31,
     "metadata": {},
     "output_type": "execute_result"
    }
   ],
   "source": [
    "# Create an instance of C\n",
    "c = C()\n",
    "c"
   ]
  },
  {
   "cell_type": "code",
   "execution_count": 32,
   "metadata": {},
   "outputs": [
    {
     "data": {
      "text/plain": [
       "<bound method f of <__main__.C object at 0x10aab49b0>>"
      ]
     },
     "execution_count": 32,
     "metadata": {},
     "output_type": "execute_result"
    }
   ],
   "source": [
    "# It has a declare_color method\n",
    "c.declare_color"
   ]
  },
  {
   "cell_type": "code",
   "execution_count": 33,
   "metadata": {},
   "outputs": [
    {
     "name": "stdout",
     "output_type": "stream",
     "text": [
      "My color is red\n"
     ]
    }
   ],
   "source": [
    "# Invoke the method.\n",
    "c.declare_color()"
   ]
  }
 ],
 "metadata": {
  "kernelspec": {
   "display_name": "Python 3",
   "language": "python",
   "name": "python3"
  },
  "language_info": {
   "codemirror_mode": {
    "name": "ipython",
    "version": 3
   },
   "file_extension": ".py",
   "mimetype": "text/x-python",
   "name": "python",
   "nbconvert_exporter": "python",
   "pygments_lexer": "ipython3",
   "version": "3.6.3"
  }
 },
 "nbformat": 4,
 "nbformat_minor": 2
}
