{
 "cells": [
  {
   "cell_type": "markdown",
   "metadata": {},
   "source": [
    "# Overview\n",
    "This file contains examples illustrating various important miscellaneous features of the python language."
   ]
  },
  {
   "cell_type": "markdown",
   "metadata": {},
   "source": [
    "# The zip() built-in function\n",
    "\n",
    "The zip() built-in function is an ingenious way to handle a common problem of data organization related to lists and tuples.\n",
    "\n",
    "Suppose we are dealing with multiple (x,y) coordinates that need to be plotted, i.e.: (x1, y1), (x2, y2), (x3, y3), etc. Depending on the case at hand, it may be desirable at any given time to have the data represented either as two lists, like this:"
   ]
  },
  {
   "cell_type": "code",
   "execution_count": 1,
   "metadata": {
    "collapsed": true
   },
   "outputs": [],
   "source": [
    "x_coords = [1,2,3,5,7]\n",
    "y_coords = [2,4,8,16,100]"
   ]
  },
  {
   "cell_type": "markdown",
   "metadata": {},
   "source": [
    "OR as a single list of pairs, like this:"
   ]
  },
  {
   "cell_type": "code",
   "execution_count": 2,
   "metadata": {
    "collapsed": true
   },
   "outputs": [],
   "source": [
    "xy_coords = [(1,2), (2,4), (3,8), (5,16), (7,100)]"
   ]
  },
  {
   "cell_type": "markdown",
   "metadata": {},
   "source": [
    "The most common use case for `zip()` is illustrated below."
   ]
  },
  {
   "cell_type": "code",
   "execution_count": 3,
   "metadata": {},
   "outputs": [
    {
     "name": "stdout",
     "output_type": "stream",
     "text": [
      "x is 1 and y is 2\n",
      "x is 2 and y is 4\n",
      "x is 3 and y is 8\n",
      "x is 5 and y is 16\n",
      "x is 7 and y is 100\n"
     ]
    }
   ],
   "source": [
    "# zip two separate lists together into pairs.\n",
    "for x, y in zip(x_coords, y_coords):\n",
    "    print(\"x is\", x, \"and y is\", y)"
   ]
  },
  {
   "cell_type": "markdown",
   "metadata": {},
   "source": [
    "The zip() function lets us go concisely back and forth between these two representations. If we started with `x_coords` and `y_coords`, we can turn them into `xy_coords` like this:"
   ]
  },
  {
   "cell_type": "code",
   "execution_count": 4,
   "metadata": {},
   "outputs": [
    {
     "name": "stdout",
     "output_type": "stream",
     "text": [
      "[(1, 2), (2, 4), (3, 8), (5, 16), (7, 100)]\n"
     ]
    }
   ],
   "source": [
    "x_coords = [1,2,3,5,7]\n",
    "y_coords = [2,4,8,16,100]\n",
    "xy       = list(zip(x_coords, y_coords))\n",
    "\n",
    "print(xy)"
   ]
  },
  {
   "cell_type": "markdown",
   "metadata": {},
   "source": [
    "For those of you who already know about iterables, `zip()` above returns an iterable object. We call `list()` on it to turn it back into a list.\n",
    "\n",
    "Conversely, if we started with `xy_coords`, we can turn them into `x_coords` and `y_coords` like this:"
   ]
  },
  {
   "cell_type": "code",
   "execution_count": 5,
   "metadata": {},
   "outputs": [
    {
     "name": "stdout",
     "output_type": "stream",
     "text": [
      "(1, 2, 3, 5, 7)\n",
      "(2, 4, 8, 16, 100)\n"
     ]
    }
   ],
   "source": [
    "xx, yy = list(zip(*xy_coords)) # Restore the x-coords and y-coords to separate data structures\n",
    "\n",
    "print(xx)\n",
    "print(yy)"
   ]
  },
  {
   "cell_type": "markdown",
   "metadata": {},
   "source": []
  },
  {
   "cell_type": "markdown",
   "metadata": {},
   "source": [
    "# The min() built-in function\n",
    "The python `min()` function is versatile and quite useful for mathematical computations. Almost everyone knows its basic usage, to find the minimum of a list of numbers, like this:"
   ]
  },
  {
   "cell_type": "code",
   "execution_count": 6,
   "metadata": {},
   "outputs": [
    {
     "name": "stdout",
     "output_type": "stream",
     "text": [
      "The minimum is 3\n"
     ]
    }
   ],
   "source": [
    "my_list = [100, 3, 17, 6, 9, 25]\n",
    "m = min(my_list)\n",
    "print(\"The minimum is\", m)"
   ]
  },
  {
   "cell_type": "markdown",
   "metadata": {},
   "source": [
    "But its real power derives from using the `key` keyword argument. (There is no relationship between \"keyword\" and \"key\" here. That's just a coincidence.) The following is a typical example."
   ]
  },
  {
   "cell_type": "code",
   "execution_count": 7,
   "metadata": {},
   "outputs": [
    {
     "name": "stdout",
     "output_type": "stream",
     "text": [
      "The color of the stone stone with minimum weight is slate\n"
     ]
    }
   ],
   "source": [
    "# This example illustrates how to find the stone with minimum weight.\n",
    "class Stone(object):\n",
    "    def __init__(self, weight, color):\n",
    "        self.weight = weight\n",
    "        self.color = color\n",
    "        \n",
    "my_stones = [Stone(100, 'gray'), \n",
    "             Stone(3, 'slate'), \n",
    "             Stone(17, 'amber'), \n",
    "             Stone(6, 'black'), \n",
    "             Stone(9, 'ash'), \n",
    "             Stone(25, 'brown')]\n",
    "\n",
    "min_stone = min(my_stones, key = lambda stone: stone.weight)\n",
    "print(\"The color of the stone stone with minimum weight is\", min_stone.color)"
   ]
  },
  {
   "cell_type": "markdown",
   "metadata": {},
   "source": [
    "# Lambda expressions\n",
    "A lambda expression was used in the above example. You can learn about them [here](https://docs.python.org/3/tutorial/controlflow.html#lambda-expressions)"
   ]
  },
  {
   "cell_type": "markdown",
   "metadata": {},
   "source": [
    "# Objects whose logical value is False\n",
    "All objects in python have a logical value: either `True` or `False`. All python objects evaluate to logical `True`, with a few exceptions. These are: `None`, `[]`, `{}`, `set()`, `0`, and `0.0` (and, of course, `False` itself), which evaluate to logical `False`."
   ]
  },
  {
   "cell_type": "markdown",
   "metadata": {},
   "source": [
    "# The any() built-in function"
   ]
  },
  {
   "cell_type": "markdown",
   "metadata": {},
   "source": [
    "The `any()` built-in function returns `True` if at least one of the elements in the iterable passed into it (if you don't know what an iterable is, you can think of it as a list), is logically True. Otherwise, it returns `False`."
   ]
  },
  {
   "cell_type": "code",
   "execution_count": 8,
   "metadata": {},
   "outputs": [
    {
     "name": "stdout",
     "output_type": "stream",
     "text": [
      "There is at least one non-False element in my_list.\n",
      "All elements of their_list are False.\n"
     ]
    }
   ],
   "source": [
    "my_list    = [False, None, 0, 0.0, {}, [0], [], set()]\n",
    "their_list = [False, None, 0, 0.0, {}, [], set()]\n",
    "\n",
    "if any(my_list):\n",
    "    print(\"There is at least one non-False element in my_list.\")\n",
    "else:\n",
    "    print(\"All elements of my_list are False.\")\n",
    "    \n",
    "if any(their_list):\n",
    "    print(\"There is at least one non-False element in their_list.\")\n",
    "else:\n",
    "    print(\"All elements of their_list are False.\")"
   ]
  },
  {
   "cell_type": "markdown",
   "metadata": {},
   "source": [
    "# The all() built-in function"
   ]
  },
  {
   "cell_type": "markdown",
   "metadata": {},
   "source": [
    "The `all()` built-in function returns `True` if all of the elements in the iterable passed into it (if you don't know what an iterable is, you can think of it as a list), is logically True. Otherwise, it returns `False`."
   ]
  },
  {
   "cell_type": "code",
   "execution_count": 9,
   "metadata": {},
   "outputs": [
    {
     "name": "stdout",
     "output_type": "stream",
     "text": [
      "All elements in my_list are logically True.\n",
      "At least one element of their_list is logically False.\n"
     ]
    }
   ],
   "source": [
    "my_list    = [1, 2, 'foo', dict(bar = 0), [3,4]]\n",
    "their_list = [1, 2, 'foo', {}, dict(bar = 'baz'), [3,4]]\n",
    "\n",
    "if all(my_list):\n",
    "    print(\"All elements in my_list are logically True.\")\n",
    "else:\n",
    "    print(\"At least one element of my_list is logically False.\")\n",
    "    \n",
    "if all(their_list):\n",
    "    print(\"All elements in their_list are logically True.\")\n",
    "else:\n",
    "    print(\"At least one element of their_list is logically False.\")"
   ]
  },
  {
   "cell_type": "markdown",
   "metadata": {},
   "source": [
    "# Comprehensions And Generator Expressions\n",
    "List comprehensions are one of the most elegant and useful language features of python. They are best illustrated by example."
   ]
  },
  {
   "cell_type": "code",
   "execution_count": 10,
   "metadata": {},
   "outputs": [
    {
     "name": "stdout",
     "output_type": "stream",
     "text": [
      "Here are some even numbers: [0, 2, 4, 6, 8, 10, 12, 14, 16, 18]\n",
      "Here are some big odd numbers: [13, 15, 17, 19]\n"
     ]
    }
   ],
   "source": [
    "# Here we generate a list and collect its elements all in a single line.\n",
    "even_numbers = [2*x for x in range(10)]\n",
    "print(\"Here are some even numbers:\", even_numbers)\n",
    "\n",
    "# Here we add a filtering clause, so that only some elements make it into the list.\n",
    "big_odd_numbers = [x + 1 for x in even_numbers if x > 10]\n",
    "print(\"Here are some big odd numbers:\", big_odd_numbers)"
   ]
  },
  {
   "cell_type": "markdown",
   "metadata": {},
   "source": [
    "You can read more about [list comprehensions](https://docs.python.org/3/tutorial/datastructures.html#list-comprehensions) in the python tutorial. The same trick works for `dict` comprehensions. It is unfortnate that the tutorial doesn't mention this. Below is an example of a dictionary comprehension. "
   ]
  },
  {
   "cell_type": "code",
   "execution_count": 4,
   "metadata": {},
   "outputs": [
    {
     "name": "stdout",
     "output_type": "stream",
     "text": [
      "The variable color_dict is {'red': 3, 'green': 5, 'blue': 4}\n"
     ]
    }
   ],
   "source": [
    "words = ['red', 'green', 'blue']\n",
    "lengths = [len(x) for x in words]\n",
    "color_dict = {word:length for word, length in zip(words, lengths)} # dict comprehension\n",
    "print(\"The variable color_dict is\", color_dict)"
   ]
  },
  {
   "cell_type": "markdown",
   "metadata": {},
   "source": [
    "Syntactically, generator expressions look almost exactly like list comprehensions, except that they are enclosed with parentheses instead of square brackets. Generator expressions cannot be fully understood until we cover iterables. For now, you can think of them as being list comprehensions that calculate their elements in a lazy fashion, only producing an element when required. Here are a couple of examples that illustrate them and their differences from list comprehensions."
   ]
  },
  {
   "cell_type": "code",
   "execution_count": 11,
   "metadata": {},
   "outputs": [
    {
     "name": "stdout",
     "output_type": "stream",
     "text": [
      "Running the first example with a list comprehension\n",
      "Evaluating function is_divisible_by_5() on: 1\n",
      "Evaluating function is_divisible_by_5() on: 2\n",
      "Evaluating function is_divisible_by_5() on: 3\n",
      "Evaluating function is_divisible_by_5() on: 4\n",
      "Evaluating function is_divisible_by_5() on: 5\n",
      "Evaluating function is_divisible_by_5() on: 6\n",
      "Evaluating function is_divisible_by_5() on: 7\n",
      "Evaluating function is_divisible_by_5() on: 8\n",
      "Evaluating function is_divisible_by_5() on: 9\n",
      "There is at least one integer divisible by 5 between 1 and 9.\n",
      "\n",
      "Running the second example with a generator expression\n",
      "Evaluating function is_divisible_by_5() on: 1\n",
      "Evaluating function is_divisible_by_5() on: 2\n",
      "Evaluating function is_divisible_by_5() on: 3\n",
      "Evaluating function is_divisible_by_5() on: 4\n",
      "Evaluating function is_divisible_by_5() on: 5\n",
      "There is at least one integer divisible by 5 between 1 and 9.\n",
      "\n",
      "Here is what a raw list comprehension object looks like--it's just a list!\n",
      "Evaluating function is_divisible_by_5() on: 1\n",
      "Evaluating function is_divisible_by_5() on: 2\n",
      "Evaluating function is_divisible_by_5() on: 3\n",
      "Evaluating function is_divisible_by_5() on: 4\n",
      "Evaluating function is_divisible_by_5() on: 5\n",
      "Evaluating function is_divisible_by_5() on: 6\n",
      "Evaluating function is_divisible_by_5() on: 7\n",
      "Evaluating function is_divisible_by_5() on: 8\n",
      "Evaluating function is_divisible_by_5() on: 9\n",
      "x = [False, False, False, False, True, False, False, False, False]\n",
      "\n",
      "Here is what a raw generator expression object looks like\n",
      "x = <generator object <genexpr> at 0x10eb18fc0>\n"
     ]
    }
   ],
   "source": [
    "# This helper function prints out a message whenever it is called.\n",
    "def is_divisible_by_5(x):\n",
    "    print(\"Evaluating function is_divisible_by_5() on:\", x)\n",
    "    return x % 5 == 0\n",
    "\n",
    "\n",
    "# First example: list comprehension\n",
    "print(\"Running the first example with a list comprehension\")\n",
    "if any([is_divisible_by_5(x) for x in range(1,10)]):\n",
    "    print(\"There is at least one integer divisible by 5 between 1 and 9.\")\n",
    "else:\n",
    "    print(\"No integers between 1 and 9 are divisible by 5.\")\n",
    "\n",
    "    \n",
    "# Second example: generator expression\n",
    "# Note that we are allowed to omit the extra pair of enclosing parentheses on line 19\n",
    "# that would normally be needed to define a generator expression.\"\n",
    "print()\n",
    "print(\"Running the second example with a generator expression\")\n",
    "if any(is_divisible_by_5(x) for x in range(1,10)):\n",
    "    print(\"There is at least one integer divisible by 5 between 1 and 9.\")\n",
    "else:\n",
    "    print(\"No integers between 1 and 9 are divisible by 5.\")\n",
    "    \n",
    "    \n",
    "# Example of a raw list comprehension object\n",
    "print()\n",
    "print(\"Here is what a raw list comprehension object looks like--it's just a list!\")\n",
    "x = [is_divisible_by_5(x) for x in range(1,10)]\n",
    "print(\"x =\", x)\n",
    "\n",
    "\n",
    "# Example of a raw generator expression object.\n",
    "print()\n",
    "print(\"Here is what a raw generator expression object looks like\")\n",
    "x = (is_divisible_by_5 for x in range(1,10))\n",
    "print(\"x =\", x)\n"
   ]
  },
  {
   "cell_type": "markdown",
   "metadata": {},
   "source": [
    "# x < y <= z\n",
    "In python, we can combine multiple comparison operations into a single operation, as illustrated below. "
   ]
  },
  {
   "cell_type": "code",
   "execution_count": 12,
   "metadata": {},
   "outputs": [
    {
     "name": "stdout",
     "output_type": "stream",
     "text": [
      "The expression is True.\n"
     ]
    }
   ],
   "source": [
    "if 1 <= 2 < 3 <= 4 > 3 >= 2 > 1:\n",
    "    print(\"The expression is True.\")\n",
    "else:\n",
    "    print(\"The expression is False.\")"
   ]
  },
  {
   "cell_type": "markdown",
   "metadata": {},
   "source": [
    "# Formatting strings\n",
    "There are multiple ways to format strings in python. One of the most versatile, and one that makes complex string templates easier to understand, uses the `format()` method on string objects, illustrated below."
   ]
  },
  {
   "cell_type": "code",
   "execution_count": 13,
   "metadata": {},
   "outputs": [
    {
     "name": "stdout",
     "output_type": "stream",
     "text": [
      "\n",
      "      The function calc_amount_due failed on line 103.\n",
      "      The error message was: Division by 0.\n",
      "      \n"
     ]
    }
   ],
   "source": [
    "print(\"\"\"\n",
    "      The function {function_name} failed on line {line_number}.\n",
    "      The error message was: {error_msg}.\n",
    "      \"\"\".format(function_name = 'calc_amount_due',\n",
    "                 line_number = 103,\n",
    "                 error_msg = 'Division by 0'))"
   ]
  }
 ],
 "metadata": {
  "kernelspec": {
   "display_name": "Python 3",
   "language": "python",
   "name": "python3"
  },
  "language_info": {
   "codemirror_mode": {
    "name": "ipython",
    "version": 3
   },
   "file_extension": ".py",
   "mimetype": "text/x-python",
   "name": "python",
   "nbconvert_exporter": "python",
   "pygments_lexer": "ipython3",
   "version": "3.6.3"
  }
 },
 "nbformat": 4,
 "nbformat_minor": 2
}
