{
 "cells": [
  {
   "cell_type": "markdown",
   "metadata": {},
   "source": [
    "# Overview\n",
    "This file contains examples illustrating various important miscellaneous features of the python language."
   ]
  },
  {
   "cell_type": "markdown",
   "metadata": {},
   "source": [
    "# The zip() built-in function\n",
    "\n",
    "The zip() built-in function is an ingenious way to handle a common problem of data organization related to lists and tuples.\n",
    "\n",
    "Suppose we are dealing with multiple (x,y,z) coordinates that need to be plotted, i.e.: (x1, y1, z1), (x2, y2 ,z2), (x3, y3, z3), etc. Depending on the case at hand, it may be desirable at any given time to have the data represented either as two lists, like this:"
   ]
  },
  {
   "cell_type": "code",
   "execution_count": 1,
   "metadata": {
    "collapsed": true
   },
   "outputs": [],
   "source": [
    "x_coords = [1,2,3,5,7]\n",
    "y_coords = [2,4,8,16,100]\n",
    "z_coords = [3,13,15,17,20]"
   ]
  },
  {
   "cell_type": "markdown",
   "metadata": {},
   "source": [
    "OR as a single list of pairs, like this:"
   ]
  },
  {
   "cell_type": "code",
   "execution_count": 2,
   "metadata": {
    "collapsed": true
   },
   "outputs": [],
   "source": [
    "xyz_coords = [(1,2,3), (2,4,13), (3,8,15), (5,16,17), (7,100,20)]"
   ]
  },
  {
   "cell_type": "markdown",
   "metadata": {},
   "source": [
    "The most common use case for `zip()` is illustrated below."
   ]
  },
  {
   "cell_type": "code",
   "execution_count": 3,
   "metadata": {},
   "outputs": [
    {
     "name": "stdout",
     "output_type": "stream",
     "text": [
      "(1, 2, 3)\n",
      "(2, 4, 13)\n",
      "(3, 8, 15)\n",
      "(5, 16, 17)\n",
      "(7, 100, 20)\n"
     ]
    }
   ],
   "source": [
    "# zip multiple lists together into tuples.\n",
    "for x, y, z in zip(x_coords, y_coords, z_coords):\n",
    "    print((x, y, z))"
   ]
  },
  {
   "cell_type": "markdown",
   "metadata": {},
   "source": [
    "The zip() function lets us go concisely back and forth between these two representations. If we started with `x_coords`, `y_coords`, and `z_coords`, we can turn them into `xyz_coords` like this:"
   ]
  },
  {
   "cell_type": "code",
   "execution_count": 4,
   "metadata": {},
   "outputs": [
    {
     "name": "stdout",
     "output_type": "stream",
     "text": [
      "[(1, 2, 3), (2, 4, 13), (3, 8, 15), (5, 16, 17), (7, 100, 20)]\n"
     ]
    }
   ],
   "source": [
    "x_coords = [1,2,3,5,7]\n",
    "y_coords = [2,4,8,16,100]\n",
    "z_coords = [3,13,15,17,20]\n",
    "xyz      = list(zip(x_coords, y_coords, z_coords))\n",
    "\n",
    "print(xyz)"
   ]
  },
  {
   "cell_type": "markdown",
   "metadata": {},
   "source": [
    "For those of you who already know about iterables, `zip()` above returns an iterable object. We call `list()` on it to turn it back into a list.\n",
    "\n",
    "Conversely, if we started with `xyz_coords`, we can turn it into `x_coords`, `y_coords`, `z_coords` like this:"
   ]
  },
  {
   "cell_type": "code",
   "execution_count": 5,
   "metadata": {},
   "outputs": [
    {
     "name": "stdout",
     "output_type": "stream",
     "text": [
      "(1, 2, 3, 5, 7)\n",
      "(2, 4, 8, 16, 100)\n",
      "(3, 13, 15, 17, 20)\n"
     ]
    }
   ],
   "source": [
    "xx, yy, zz = list(zip(*xyz_coords)) # Restore the x-coords, y-coords, z-coords to separate data structures\n",
    "\n",
    "print(xx)\n",
    "print(yy)\n",
    "print(zz)"
   ]
  },
  {
   "cell_type": "markdown",
   "metadata": {},
   "source": [
    "# The min() and max() built-in functions\n",
    "The python `min()` and `max()` functions are versatile and quite useful for mathematical computations. Almost everyone knows their basic usage. To find the minimum of a list of numbers, do this:"
   ]
  },
  {
   "cell_type": "code",
   "execution_count": 6,
   "metadata": {},
   "outputs": [
    {
     "name": "stdout",
     "output_type": "stream",
     "text": [
      "The minimum is 3\n"
     ]
    }
   ],
   "source": [
    "my_list = [100, 3, 17, 6, 9, 25]\n",
    "m = min(my_list)\n",
    "print(\"The minimum is\", m)"
   ]
  },
  {
   "cell_type": "markdown",
   "metadata": {},
   "source": [
    "But the real power in these functions derives from using the `key` keyword argument. (There is no relationship between \"keyword\" and \"key\" here. That's just a coincidence.) The following is a typical example."
   ]
  },
  {
   "cell_type": "code",
   "execution_count": 7,
   "metadata": {},
   "outputs": [
    {
     "name": "stdout",
     "output_type": "stream",
     "text": [
      "The color of the stone stone with minimum weight is slate\n"
     ]
    }
   ],
   "source": [
    "# This example illustrates how to find the stone with minimum weight.\n",
    "class Stone(object):\n",
    "    def __init__(self, weight, color):\n",
    "        self.weight = weight\n",
    "        self.color = color\n",
    "        \n",
    "my_stones = [Stone(100, 'gray'), \n",
    "             Stone(3, 'slate'), \n",
    "             Stone(17, 'amber'), \n",
    "             Stone(6, 'black'), \n",
    "             Stone(9, 'ash'), \n",
    "             Stone(25, 'brown')]\n",
    "\n",
    "min_stone = min(my_stones, key = lambda stone: stone.weight)\n",
    "print(\"The color of the stone stone with minimum weight is\", min_stone.color)"
   ]
  },
  {
   "cell_type": "markdown",
   "metadata": {},
   "source": [
    "# Lambda expressions\n",
    "A lambda expression was used in the above example. You can learn about them [here](https://docs.python.org/3/tutorial/controlflow.html#lambda-expressions)"
   ]
  },
  {
   "cell_type": "markdown",
   "metadata": {},
   "source": [
    "# Objects whose logical value is False\n",
    "All objects in python have a logical value: either `True` or `False`. All python objects evaluate to logical `True`, with a few exceptions. These are: `None`, `[]`, `{}`, `set()`, `0`, and `0.0` (and, of course, `False` itself), which evaluate to logical `False`."
   ]
  },
  {
   "cell_type": "markdown",
   "metadata": {},
   "source": [
    "# The any() built-in function"
   ]
  },
  {
   "cell_type": "markdown",
   "metadata": {},
   "source": [
    "The `any()` built-in function returns `True` if at least one of the elements in the iterable passed into it (if you don't know what an iterable is, you can think of it as a list), is logically True. Otherwise, it returns `False`."
   ]
  },
  {
   "cell_type": "code",
   "execution_count": 8,
   "metadata": {},
   "outputs": [
    {
     "name": "stdout",
     "output_type": "stream",
     "text": [
      "True\n"
     ]
    }
   ],
   "source": [
    "my_list    = [False, None, 0, 0.0, {}, [0], [], set()]\n",
    "print(any(my_list))"
   ]
  },
  {
   "cell_type": "code",
   "execution_count": 9,
   "metadata": {},
   "outputs": [
    {
     "name": "stdout",
     "output_type": "stream",
     "text": [
      "False\n"
     ]
    }
   ],
   "source": [
    "their_list = [False, None, 0, 0.0, {}, [], set()]\n",
    "print(any(their_list))"
   ]
  },
  {
   "cell_type": "markdown",
   "metadata": {},
   "source": [
    "# The all() built-in function"
   ]
  },
  {
   "cell_type": "markdown",
   "metadata": {},
   "source": [
    "The `all()` built-in function returns `True` if all of the elements in the iterable passed into it (if you don't know what an iterable is, you can think of it as a list), is logically True. Otherwise, it returns `False`."
   ]
  },
  {
   "cell_type": "code",
   "execution_count": 10,
   "metadata": {},
   "outputs": [
    {
     "name": "stdout",
     "output_type": "stream",
     "text": [
      "True\n"
     ]
    }
   ],
   "source": [
    "my_list    = [1, 2, 'foo', dict(bar = 0), [3,4]]\n",
    "print(all(my_list))"
   ]
  },
  {
   "cell_type": "code",
   "execution_count": 11,
   "metadata": {},
   "outputs": [
    {
     "name": "stdout",
     "output_type": "stream",
     "text": [
      "False\n"
     ]
    }
   ],
   "source": [
    "their_list = [1, 2, 'foo', {}, dict(bar = 'baz'), [3,4]]\n",
    "print(all(their_list))"
   ]
  },
  {
   "cell_type": "markdown",
   "metadata": {},
   "source": [
    "# Comprehensions And Generator Expressions\n",
    "List comprehensions are one of the most elegant and useful language features of python. They are best illustrated by example."
   ]
  },
  {
   "cell_type": "code",
   "execution_count": 12,
   "metadata": {},
   "outputs": [
    {
     "name": "stdout",
     "output_type": "stream",
     "text": [
      "[0, 2, 4, 6, 8, 10, 12, 14, 16, 18]\n"
     ]
    }
   ],
   "source": [
    "# Here we generate a list and collect its elements all in a single line.\n",
    "even_numbers = [2*x for x in range(10)]\n",
    "print(even_numbers)"
   ]
  },
  {
   "cell_type": "code",
   "execution_count": 13,
   "metadata": {},
   "outputs": [
    {
     "name": "stdout",
     "output_type": "stream",
     "text": [
      "[13, 15, 17, 19]\n"
     ]
    }
   ],
   "source": [
    "# Here we add a filtering clause, so that only some elements make it into the list.\n",
    "big_odd_numbers = [x + 1 for x in even_numbers if x > 10]\n",
    "print(big_odd_numbers)"
   ]
  },
  {
   "cell_type": "markdown",
   "metadata": {},
   "source": [
    "You can read more about [list comprehensions](https://docs.python.org/3/tutorial/datastructures.html#list-comprehensions) in the python tutorial. The same trick works for `dict` comprehensions. It is unfortnate that the tutorial doesn't mention this. Below is an example of a dictionary comprehension. "
   ]
  },
  {
   "cell_type": "code",
   "execution_count": 14,
   "metadata": {},
   "outputs": [
    {
     "name": "stdout",
     "output_type": "stream",
     "text": [
      "{'red': 3, 'green': 5, 'blue': 4}\n"
     ]
    }
   ],
   "source": [
    "words = ['red', 'green', 'blue']\n",
    "lengths = [len(x) for x in words]\n",
    "color_dict = {word:length for word, length in zip(words, lengths)} # dict comprehension\n",
    "print(color_dict)"
   ]
  },
  {
   "cell_type": "markdown",
   "metadata": {},
   "source": [
    "Syntactically, generator expressions look almost exactly like list comprehensions, except that they are enclosed with parentheses instead of square brackets. Generator expressions cannot be fully understood until we cover iterables. For now, you can think of them as being list comprehensions that calculate their elements in a lazy fashion, only producing an element when required. Here are a couple of examples that illustrate them and their differences from list comprehensions."
   ]
  },
  {
   "cell_type": "code",
   "execution_count": 15,
   "metadata": {},
   "outputs": [
    {
     "name": "stdout",
     "output_type": "stream",
     "text": [
      "Evaluating function is_divisible_by_5() on: 1\n"
     ]
    },
    {
     "data": {
      "text/plain": [
       "False"
      ]
     },
     "execution_count": 15,
     "metadata": {},
     "output_type": "execute_result"
    }
   ],
   "source": [
    "# Just a helper function that prints out a message whenever it is called.\n",
    "def is_divisible_by_5(x):\n",
    "    print(\"Evaluating function is_divisible_by_5() on:\", x)\n",
    "    return x % 5 == 0\n",
    "\n",
    "is_divisible_by_5(1)"
   ]
  },
  {
   "cell_type": "code",
   "execution_count": 16,
   "metadata": {},
   "outputs": [
    {
     "name": "stdout",
     "output_type": "stream",
     "text": [
      "Evaluating function is_divisible_by_5() on: 1\n",
      "Evaluating function is_divisible_by_5() on: 2\n",
      "Evaluating function is_divisible_by_5() on: 3\n",
      "Evaluating function is_divisible_by_5() on: 4\n",
      "Evaluating function is_divisible_by_5() on: 5\n",
      "Evaluating function is_divisible_by_5() on: 6\n",
      "Evaluating function is_divisible_by_5() on: 7\n",
      "Evaluating function is_divisible_by_5() on: 8\n",
      "Evaluating function is_divisible_by_5() on: 9\n"
     ]
    },
    {
     "data": {
      "text/plain": [
       "True"
      ]
     },
     "execution_count": 16,
     "metadata": {},
     "output_type": "execute_result"
    }
   ],
   "source": [
    "# First example: list comprehension. This evaluates all elements between 1 and 10\n",
    "# before passing the full list to any().\n",
    "any([is_divisible_by_5(x) for x in range(1,10)])"
   ]
  },
  {
   "cell_type": "code",
   "execution_count": 17,
   "metadata": {},
   "outputs": [
    {
     "name": "stdout",
     "output_type": "stream",
     "text": [
      "Evaluating function is_divisible_by_5() on: 1\n",
      "Evaluating function is_divisible_by_5() on: 2\n",
      "Evaluating function is_divisible_by_5() on: 3\n",
      "Evaluating function is_divisible_by_5() on: 4\n",
      "Evaluating function is_divisible_by_5() on: 5\n"
     ]
    },
    {
     "data": {
      "text/plain": [
       "True"
      ]
     },
     "execution_count": 17,
     "metadata": {},
     "output_type": "execute_result"
    }
   ],
   "source": [
    "# Second example: generator expression. any() doesn't need to ask the generator for \n",
    "# more elements once it sees element 5.\n",
    "# (Note that we are allowed to omit the extra pair of enclosing parentheses on line 20\n",
    "# that would normally be needed to define a generator expression.\")\n",
    "any(is_divisible_by_5(x) for x in range(1,10))"
   ]
  },
  {
   "cell_type": "code",
   "execution_count": 18,
   "metadata": {},
   "outputs": [
    {
     "name": "stdout",
     "output_type": "stream",
     "text": [
      "\n",
      "Here is what a raw list comprehension object looks like--it's just a list!\n",
      "Evaluating function is_divisible_by_5() on: 1\n",
      "Evaluating function is_divisible_by_5() on: 2\n",
      "Evaluating function is_divisible_by_5() on: 3\n",
      "Evaluating function is_divisible_by_5() on: 4\n",
      "Evaluating function is_divisible_by_5() on: 5\n",
      "Evaluating function is_divisible_by_5() on: 6\n",
      "Evaluating function is_divisible_by_5() on: 7\n",
      "Evaluating function is_divisible_by_5() on: 8\n",
      "Evaluating function is_divisible_by_5() on: 9\n",
      "x = [False, False, False, False, True, False, False, False, False]\n"
     ]
    }
   ],
   "source": [
    "# Example of a raw list comprehension object\n",
    "print()\n",
    "print(\"Here is what a raw list comprehension object looks like--it's just a list!\")\n",
    "x = [is_divisible_by_5(x) for x in range(1,10)]\n",
    "print(\"x =\", x)"
   ]
  },
  {
   "cell_type": "code",
   "execution_count": 19,
   "metadata": {},
   "outputs": [
    {
     "name": "stdout",
     "output_type": "stream",
     "text": [
      "\n",
      "Here is what a raw generator expression object looks like\n",
      "x = <generator object <genexpr> at 0x1066e1d00>\n"
     ]
    }
   ],
   "source": [
    "# Example of a raw generator expression object.\n",
    "print()\n",
    "print(\"Here is what a raw generator expression object looks like\")\n",
    "x = (is_divisible_by_5 for x in range(1,10))\n",
    "print(\"x =\", x)"
   ]
  },
  {
   "cell_type": "markdown",
   "metadata": {},
   "source": [
    "# x < y <= z\n",
    "In python, we can combine multiple comparison operations into a single operation, as illustrated below. "
   ]
  },
  {
   "cell_type": "code",
   "execution_count": 20,
   "metadata": {},
   "outputs": [
    {
     "name": "stdout",
     "output_type": "stream",
     "text": [
      "The expression is True.\n"
     ]
    }
   ],
   "source": [
    "if 1 <= 2 < 3 <= 4 > 3 >= 2 > 1:\n",
    "    print(\"The expression is True.\")\n",
    "else:\n",
    "    print(\"The expression is False.\")"
   ]
  },
  {
   "cell_type": "markdown",
   "metadata": {},
   "source": [
    "# The built-ins locals(), globals(), and vars()\n",
    "The built-in functions `locals()`, `globals()`, and `vars()` each return a dictionary. `locals()` returns a dictionary whose keys are the names of the local variables defined in the current scope and whose values are the associated values. `globals()` is exactly the same, except it returns the names and values of global variables. `vars()` takes an object as an argument and returns the member variables for that object and their values."
   ]
  },
  {
   "cell_type": "code",
   "execution_count": 21,
   "metadata": {},
   "outputs": [
    {
     "name": "stdout",
     "output_type": "stream",
     "text": [
      "The value of the global FOO is 10\n",
      "{'z': <__main__.Bar object at 0x1066362e8>, 'y': 2, 'x': 1}\n",
      "{'up': 3, 'down': 4}\n"
     ]
    }
   ],
   "source": [
    "# Example of locals() and globals()\n",
    "FOO = 10\n",
    "def f(x, y, z):\n",
    "    print(\"The value of the global FOO is\", globals()['FOO'])\n",
    "    print(locals())\n",
    "    print(vars(z))\n",
    "    \n",
    "class Bar(object):\n",
    "    def __init__(self, u, d):\n",
    "        self.up = u\n",
    "        self.down = d\n",
    "        \n",
    "\n",
    "f(1, 2, Bar(3, 4))"
   ]
  },
  {
   "cell_type": "markdown",
   "metadata": {},
   "source": [
    "# Formatting strings\n",
    "There are multiple ways to format strings in python. One of the most versatile, and one that makes complex string templates easier to understand, uses the `format()` method on string objects, illustrated below."
   ]
  },
  {
   "cell_type": "code",
   "execution_count": 22,
   "metadata": {},
   "outputs": [
    {
     "name": "stdout",
     "output_type": "stream",
     "text": [
      "\n",
      "      The function calc_amount_due failed on line 103.\n",
      "      The error message was: Division by 0.\n",
      "      \n"
     ]
    }
   ],
   "source": [
    "print(\"\"\"\n",
    "      The function {function_name} failed on line {line_number}.\n",
    "      The error message was: {error_msg}.\n",
    "      \"\"\".format(function_name = 'calc_amount_due',\n",
    "                 line_number = 103,\n",
    "                 error_msg = 'Division by 0'))"
   ]
  },
  {
   "cell_type": "markdown",
   "metadata": {},
   "source": [
    "The `locals()`, `globals()`, and `vars()` functions can be quite useful when combined with the above formatting operation. Here's the most typical example, using `locals()`."
   ]
  },
  {
   "cell_type": "code",
   "execution_count": 23,
   "metadata": {},
   "outputs": [
    {
     "name": "stdout",
     "output_type": "stream",
     "text": [
      "\n",
      "           The function calc_amount_due failed on line 103.\n",
      "           The error message was: Division by 0.\n",
      "           \n"
     ]
    }
   ],
   "source": [
    "def error_msg(function_name, line_number, error_msg):\n",
    "    return \"\"\"\n",
    "           The function {function_name} failed on line {line_number}.\n",
    "           The error message was: {error_msg}.\n",
    "           \"\"\".format(**locals())\n",
    "\n",
    "print(error_msg('calc_amount_due', 103, 'Division by 0'))\n",
    "    "
   ]
  },
  {
   "cell_type": "markdown",
   "metadata": {},
   "source": [
    "# Closures\n",
    "When one function returns another as its value, the returned function is allowed to contain \"free\" variables that refer to variables that were local in the scope in which it was defined. Such a function is called a _closure_."
   ]
  },
  {
   "cell_type": "code",
   "execution_count": 24,
   "metadata": {},
   "outputs": [
    {
     "name": "stdout",
     "output_type": "stream",
     "text": [
      "19\n",
      "-10\n"
     ]
    }
   ],
   "source": [
    "# Closure Example\n",
    "def make_line(slope, intercept):\n",
    "    def f(x):\n",
    "        return slope*x + intercept\n",
    "    \n",
    "    return f\n",
    "\n",
    "my_line      = make_line(3,4)\n",
    "another_line = make_line(-2, 0)\n",
    "\n",
    "slope = 10\n",
    "intercept = 20\n",
    "\n",
    "print(my_line(5))\n",
    "print(another_line(5))"
   ]
  },
  {
   "cell_type": "markdown",
   "metadata": {},
   "source": [
    "Let's discuss in detail what happens in the above example, starting on line 8. When we call `make_line()`, the arguments `3` and `4` become local variables `slope` and `intercept` to the function.  These are then _closed over_ when the function `f` is defined on line 3. Note that `slope` and `intercept` are \"free\" with respect to f, because they are not local variables to the function. The only local variable to `f` is the variable `x`.\n",
    "\n",
    "On line 6, an instance of `f` is returned as the value of `make_line()`, and this becomes assigned to the variable `my_line` on line 8. The function instance that is returned is called a _closure_, because it remembers the variables `slope` and `intercept` that were in effect _at the time it was defined_. Since the value of `my_line` is a function, this means that `my_line` behaves like a function. It can be applied to arguments, which is done on line 14 when we call it with the argument `5`. \n",
    "\n",
    "This invokes the closure `f` with an argument of `5`, but what are the values of `slope` and `intercept`? They are the closed-over values that were in effect _at the time that f was defined_. Hence, the return value is `3*5 + 4 = 19`. This is true even though we define globals `slope` and `intercept` of the same names on lines 11 and 12 above. These are different variables and have no bearing on the closed-over values inside the instance of `f`.\n",
    "\n",
    "Similarly, when make_line is called a second time with different args on line 9, the function instance it returns is a different closure than the one that was returned on line 8, and this closure remembers the values of `slope` and `intercept` as `-2` and `0` repectively. This leads to a different result when `another_line()` is called with the same argument of `5` on line 15."
   ]
  },
  {
   "cell_type": "markdown",
   "metadata": {
    "collapsed": true
   },
   "source": [
    "In python 3, a closure has the ability to change the values of the variables it has closed over. In python 2, this cannot be exactly done, though the same effect can be achieved using lists or dictionaries. As is always the case when a function can reference an object that persists outside of itself, this endows the function with state and means that multiple calls to the function on the same arguments may yield different return values. Here is a simple example."
   ]
  },
  {
   "cell_type": "code",
   "execution_count": 25,
   "metadata": {},
   "outputs": [
    {
     "name": "stdout",
     "output_type": "stream",
     "text": [
      "5\n",
      "6\n",
      "7\n"
     ]
    }
   ],
   "source": [
    "# This function returns a counter function.\n",
    "def make_counter(initial_value):\n",
    "    counter = initial_value\n",
    "    \n",
    "    def increment_count():\n",
    "        # This statement allows us to change the value of the non-local var \"counter\".\n",
    "        # Note: \"nonlocal\" is not available in python 2.7. This precise example can't be done in 2.7\n",
    "        nonlocal counter \n",
    "        result = counter\n",
    "        counter += 1\n",
    "        return result\n",
    "    \n",
    "    return increment_count\n",
    "\n",
    "my_counter = make_counter(5)\n",
    "print(my_counter())\n",
    "print(my_counter())\n",
    "print(my_counter())"
   ]
  },
  {
   "cell_type": "code",
   "execution_count": 26,
   "metadata": {},
   "outputs": [
    {
     "name": "stdout",
     "output_type": "stream",
     "text": [
      "5\n",
      "6\n",
      "7\n"
     ]
    }
   ],
   "source": [
    "# This code works in both 2.7 and in 3.6 versions of python.\n",
    "# Note that it works because the variable named \"counter\" is not having\n",
    "# its value changed. Instead, the list object it points to is being modified.\n",
    "def make_counter2(initial_value):\n",
    "    counter = [initial_value]\n",
    "    \n",
    "    def increment_count():\n",
    "        result = counter[0]\n",
    "        counter[0] += 1\n",
    "        return result\n",
    "    \n",
    "    return increment_count\n",
    "\n",
    "my_counter = make_counter(5)\n",
    "print(my_counter())\n",
    "print(my_counter())\n",
    "print(my_counter())"
   ]
  },
  {
   "cell_type": "markdown",
   "metadata": {
    "collapsed": true
   },
   "source": [
    "# Making Objects Callable\n",
    "Any object in python can be made callable by providing a `__call__()` method for it. The example below re-implements the previous `make_line()` example using objects instead of closures."
   ]
  },
  {
   "cell_type": "code",
   "execution_count": 27,
   "metadata": {},
   "outputs": [
    {
     "name": "stdout",
     "output_type": "stream",
     "text": [
      "19\n",
      "-10\n"
     ]
    }
   ],
   "source": [
    "class Line(object):\n",
    "    \"\"\"\n",
    "    Represents the function of a line.\n",
    "    Can be applied to an x-argument to return\n",
    "    the associated y-value.\n",
    "    \"\"\"\n",
    "    def __init__(self, slope, intercept):\n",
    "        self._slope     = slope\n",
    "        self._intercept = intercept\n",
    "        \n",
    "    def __call__(self, x):\n",
    "        return self._slope * x + self._intercept\n",
    "    \n",
    "# Example\n",
    "my_line = Line(3,4)\n",
    "another_line = make_line(-2, 0)\n",
    "\n",
    "print(my_line(5))\n",
    "print(another_line(5))"
   ]
  }
 ],
 "metadata": {
  "kernelspec": {
   "display_name": "Python 3",
   "language": "python",
   "name": "python3"
  },
  "language_info": {
   "codemirror_mode": {
    "name": "ipython",
    "version": 3
   },
   "file_extension": ".py",
   "mimetype": "text/x-python",
   "name": "python",
   "nbconvert_exporter": "python",
   "pygments_lexer": "ipython3",
   "version": "3.6.3"
  }
 },
 "nbformat": 4,
 "nbformat_minor": 2
}
