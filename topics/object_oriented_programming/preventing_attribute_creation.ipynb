{
 "cells": [
  {
   "cell_type": "markdown",
   "metadata": {},
   "source": [
    "# Preventing Attribute Creation\n",
    "If we want to prevent objects from being able to create new attributes after they are initialized, we can alter the objects' `__setattr__()` method. All attribute assignment statements for an instance go through the `__setattr__()` method of the instance. Since attribute creation is also implicitly done via attribute assignment, this is the place to add the logic we desire.\n",
    "\n",
    "Preventing attribute creation after an object is initialized corresponds to the more \"locked down\" style of languages like Java. Doing so has the advantage of preventing client code from mistakenly creating a new attribute when the real intent was to assign to an existing attribute (e.g. mistakenly creating a `length` attribute when the real intent was to assign to an existing `height` attribute). However, this also closes off some flexibility, and there are valid use cases that take advantage of this flexibility of open attribute creation (see the \"advantages_of_open_attribute_creation\" tutorial).\n",
    "\n",
    "Below is an example that shows how to restrict attribute creation and assignment to a pre-defined set of attributes."
   ]
  },
  {
   "cell_type": "code",
   "execution_count": 1,
   "metadata": {},
   "outputs": [
    {
     "name": "stdout",
     "output_type": "stream",
     "text": [
      "1.2\n",
      "5.6\n"
     ]
    },
    {
     "ename": "AssertionError",
     "evalue": "Invalid attribute: length",
     "traceback": [
      "\u001b[0;31m---------------------------------------------------------------------------\u001b[0m",
      "\u001b[0;31mAssertionError\u001b[0m                            Traceback (most recent call last)",
      "\u001b[0;32m<ipython-input-1-7d17ebcfb420>\u001b[0m in \u001b[0;36m<module>\u001b[0;34m()\u001b[0m\n\u001b[1;32m     22\u001b[0m \u001b[0;34m\u001b[0m\u001b[0m\n\u001b[1;32m     23\u001b[0m \u001b[0;31m# But we can't add a new attribute\u001b[0m\u001b[0;34m\u001b[0m\u001b[0;34m\u001b[0m\u001b[0m\n\u001b[0;32m---> 24\u001b[0;31m \u001b[0mrectangle\u001b[0m\u001b[0;34m.\u001b[0m\u001b[0mlength\u001b[0m \u001b[0;34m=\u001b[0m \u001b[0;36m10\u001b[0m\u001b[0;34m\u001b[0m\u001b[0m\n\u001b[0m\u001b[1;32m     25\u001b[0m \u001b[0mprint\u001b[0m\u001b[0;34m(\u001b[0m\u001b[0mrectangle\u001b[0m\u001b[0;34m.\u001b[0m\u001b[0mlength\u001b[0m\u001b[0;34m)\u001b[0m\u001b[0;34m\u001b[0m\u001b[0m\n",
      "\u001b[0;32m<ipython-input-1-7d17ebcfb420>\u001b[0m in \u001b[0;36m__setattr__\u001b[0;34m(self, key, value)\u001b[0m\n\u001b[1;32m      4\u001b[0m         \u001b[0mRestrict\u001b[0m \u001b[0mattribute\u001b[0m \u001b[0massignments\u001b[0m \u001b[0mto\u001b[0m \u001b[0mjust\u001b[0m \u001b[0;34m\"width\"\u001b[0m \u001b[0;32mand\u001b[0m \u001b[0;34m\"height\"\u001b[0m\u001b[0;34m\u001b[0m\u001b[0m\n\u001b[1;32m      5\u001b[0m         \"\"\"\n\u001b[0;32m----> 6\u001b[0;31m         \u001b[0;32massert\u001b[0m \u001b[0mkey\u001b[0m \u001b[0;32min\u001b[0m \u001b[0;34m(\u001b[0m\u001b[0;34m'width'\u001b[0m\u001b[0;34m,\u001b[0m \u001b[0;34m'height'\u001b[0m\u001b[0;34m)\u001b[0m\u001b[0;34m,\u001b[0m \u001b[0;34m\"Invalid attribute: \"\u001b[0m \u001b[0;34m+\u001b[0m \u001b[0mkey\u001b[0m\u001b[0;34m\u001b[0m\u001b[0m\n\u001b[0m\u001b[1;32m      7\u001b[0m         \u001b[0msuper\u001b[0m\u001b[0;34m(\u001b[0m\u001b[0;34m)\u001b[0m\u001b[0;34m.\u001b[0m\u001b[0m__setattr__\u001b[0m\u001b[0;34m(\u001b[0m\u001b[0mkey\u001b[0m\u001b[0;34m,\u001b[0m \u001b[0mvalue\u001b[0m\u001b[0;34m)\u001b[0m\u001b[0;34m\u001b[0m\u001b[0m\n\u001b[1;32m      8\u001b[0m \u001b[0;34m\u001b[0m\u001b[0m\n",
      "\u001b[0;31mAssertionError\u001b[0m: Invalid attribute: length"
     ],
     "output_type": "error"
    }
   ],
   "source": [
    "class Rectangle(object):\n",
    "    def __setattr__(self, key, value):\n",
    "        \"\"\"\n",
    "        Restrict attribute assignments to just \"width\" and \"height\"\n",
    "        \"\"\"\n",
    "        assert key in ('width', 'height'), \"Invalid attribute: \" + key\n",
    "        super().__setattr__(key, value)\n",
    "        \n",
    "    \n",
    "    def __init__(self, width, height):\n",
    "        self.width = width\n",
    "        self.height = height\n",
    "\n",
    "# Example\n",
    "# Create a Rectangle\n",
    "rectangle = Rectangle(1.2, 3.4) \n",
    "print(rectangle.width)\n",
    "\n",
    "# We can change its height\n",
    "rectangle.height = 5.6          \n",
    "print(rectangle.height)  \n",
    "\n",
    "# But we can't add a new attribute\n",
    "rectangle.length = 10\n",
    "print(rectangle.length)\n"
   ]
  },
  {
   "cell_type": "markdown",
   "metadata": {},
   "source": [
    "In the code above, `__setattr__()` intercepts all attempts to set attributes on the Rectangle class and only actually sets attributes that it knows about: width and height, raising an error for all other attempts. \n",
    "\n",
    "Some people use the `__slots__` class variable to achieve the above behavior; however, that is not the intended purpose of `__slots__`, which has other limitations"
   ]
  },
  {
   "cell_type": "markdown",
   "metadata": {},
   "source": [
    "# A do-nothing `__setattrr__`\n",
    "As an aside, if we defined a 'do nothing\" `__setattr__()` method, then no one would be able to set any attributes on instances of the class, not even the class itself, nor would any errors be raised when an assignment occurred."
   ]
  },
  {
   "cell_type": "code",
   "execution_count": 2,
   "metadata": {},
   "outputs": [
    {
     "ename": "AttributeError",
     "evalue": "'Rectangle' object has no attribute 'width'",
     "traceback": [
      "\u001b[0;31m---------------------------------------------------------------------------\u001b[0m",
      "\u001b[0;31mAttributeError\u001b[0m                            Traceback (most recent call last)",
      "\u001b[0;32m<ipython-input-2-8bbd1eabcc7e>\u001b[0m in \u001b[0;36m<module>\u001b[0;34m()\u001b[0m\n\u001b[1;32m     14\u001b[0m \u001b[0;31m# Create a Rectangle\u001b[0m\u001b[0;34m\u001b[0m\u001b[0;34m\u001b[0m\u001b[0m\n\u001b[1;32m     15\u001b[0m \u001b[0mrectangle\u001b[0m \u001b[0;34m=\u001b[0m \u001b[0mRectangle\u001b[0m\u001b[0;34m(\u001b[0m\u001b[0;36m1.2\u001b[0m\u001b[0;34m,\u001b[0m \u001b[0;36m3.4\u001b[0m\u001b[0;34m)\u001b[0m\u001b[0;34m\u001b[0m\u001b[0m\n\u001b[0;32m---> 16\u001b[0;31m \u001b[0mprint\u001b[0m\u001b[0;34m(\u001b[0m\u001b[0mrectangle\u001b[0m\u001b[0;34m.\u001b[0m\u001b[0mwidth\u001b[0m\u001b[0;34m)\u001b[0m \u001b[0;31m# This causes an error, because the attribute doesn't exist.\u001b[0m\u001b[0;34m\u001b[0m\u001b[0m\n\u001b[0m",
      "\u001b[0;31mAttributeError\u001b[0m: 'Rectangle' object has no attribute 'width'"
     ],
     "output_type": "error"
    }
   ],
   "source": [
    "class Rectangle(object):\n",
    "    def __setattr__(self, key, value):\n",
    "        \"\"\"\n",
    "        Prevent all attribute assignments, silently.\"\n",
    "        \"\"\"\n",
    "        pass\n",
    "        \n",
    "    \n",
    "    def __init__(self, width, height):\n",
    "        self.width = width   # This \"assignment\" raises no error, but doesn't actually assign anything!\n",
    "        self.height = height # This \"assignment\" raises no error, but doesn't actually assign anything!\n",
    "\n",
    "# Example\n",
    "# Create a Rectangle\n",
    "rectangle = Rectangle(1.2, 3.4) \n",
    "print(rectangle.width) # This causes an error, because the attribute doesn't exist."
   ]
  },
  {
   "cell_type": "markdown",
   "metadata": {},
   "source": [
    "# Freezing A Class\n",
    "Rather than hard-coding the allowed member variables into the `__setattr__()` method, which creates coupling between the init method and the setattr method (every time we add or delete a member variable in the init method, we also have to change the setattr method), we can \"freeze\" our instance's set of member variables to just those that exist after the init method has done its job, as illustrated in the code below."
   ]
  },
  {
   "cell_type": "code",
   "execution_count": 3,
   "metadata": {},
   "outputs": [
    {
     "name": "stdout",
     "output_type": "stream",
     "text": [
      "1.2\n",
      "5.6\n"
     ]
    },
    {
     "ename": "AssertionError",
     "evalue": "Invalid attribute: length",
     "traceback": [
      "\u001b[0;31m---------------------------------------------------------------------------\u001b[0m",
      "\u001b[0;31mAssertionError\u001b[0m                            Traceback (most recent call last)",
      "\u001b[0;32m<ipython-input-3-4bcd4c59163e>\u001b[0m in \u001b[0;36m<module>\u001b[0;34m()\u001b[0m\n\u001b[1;32m     26\u001b[0m \u001b[0;34m\u001b[0m\u001b[0m\n\u001b[1;32m     27\u001b[0m \u001b[0;31m# But we can't add a new attribute\u001b[0m\u001b[0;34m\u001b[0m\u001b[0;34m\u001b[0m\u001b[0m\n\u001b[0;32m---> 28\u001b[0;31m \u001b[0mrectangle\u001b[0m\u001b[0;34m.\u001b[0m\u001b[0mlength\u001b[0m \u001b[0;34m=\u001b[0m \u001b[0;36m10\u001b[0m\u001b[0;34m\u001b[0m\u001b[0m\n\u001b[0m\u001b[1;32m     29\u001b[0m \u001b[0mprint\u001b[0m\u001b[0;34m(\u001b[0m\u001b[0mrectangle\u001b[0m\u001b[0;34m.\u001b[0m\u001b[0mlength\u001b[0m\u001b[0;34m)\u001b[0m\u001b[0;34m\u001b[0m\u001b[0m\n",
      "\u001b[0;32m<ipython-input-3-4bcd4c59163e>\u001b[0m in \u001b[0;36m__setattr__\u001b[0;34m(self, key, value)\u001b[0m\n\u001b[1;32m      6\u001b[0m         \"\"\"\n\u001b[1;32m      7\u001b[0m         \u001b[0;32mif\u001b[0m \u001b[0mhasattr\u001b[0m\u001b[0;34m(\u001b[0m\u001b[0mself\u001b[0m\u001b[0;34m,\u001b[0m \u001b[0;34m'_frozen'\u001b[0m\u001b[0;34m)\u001b[0m\u001b[0;34m:\u001b[0m\u001b[0;34m\u001b[0m\u001b[0m\n\u001b[0;32m----> 8\u001b[0;31m             \u001b[0;32massert\u001b[0m \u001b[0mhasattr\u001b[0m\u001b[0;34m(\u001b[0m\u001b[0mself\u001b[0m\u001b[0;34m,\u001b[0m \u001b[0mkey\u001b[0m\u001b[0;34m)\u001b[0m\u001b[0;34m,\u001b[0m \u001b[0;34m\"Invalid attribute: \"\u001b[0m \u001b[0;34m+\u001b[0m \u001b[0mkey\u001b[0m\u001b[0;34m\u001b[0m\u001b[0m\n\u001b[0m\u001b[1;32m      9\u001b[0m \u001b[0;34m\u001b[0m\u001b[0m\n\u001b[1;32m     10\u001b[0m         \u001b[0msuper\u001b[0m\u001b[0;34m(\u001b[0m\u001b[0;34m)\u001b[0m\u001b[0;34m.\u001b[0m\u001b[0m__setattr__\u001b[0m\u001b[0;34m(\u001b[0m\u001b[0mkey\u001b[0m\u001b[0;34m,\u001b[0m \u001b[0mvalue\u001b[0m\u001b[0;34m)\u001b[0m\u001b[0;34m\u001b[0m\u001b[0m\n",
      "\u001b[0;31mAssertionError\u001b[0m: Invalid attribute: length"
     ],
     "output_type": "error"
    }
   ],
   "source": [
    "class Rectangle(object):\n",
    "    def __setattr__(self, key, value):\n",
    "        \"\"\"\n",
    "        Restrict attribute assignments to just those that exist at the time\n",
    "        we are frozen.\n",
    "        \"\"\"\n",
    "        if hasattr(self, '_frozen'):\n",
    "            assert hasattr(self, key), \"Invalid attribute: \" + key\n",
    "            \n",
    "        super().__setattr__(key, value)\n",
    "        \n",
    "    \n",
    "    def __init__(self, width, height):\n",
    "        self.width = width\n",
    "        self.height = height\n",
    "        self._frozen = True\n",
    "\n",
    "# Example\n",
    "# Create a Rectangle\n",
    "rectangle = Rectangle(1.2, 3.4) \n",
    "print(rectangle.width)\n",
    "\n",
    "# We can change its height\n",
    "rectangle.height = 5.6          \n",
    "print(rectangle.height)  \n",
    "\n",
    "# But we can't add a new attribute\n",
    "rectangle.length = 10\n",
    "print(rectangle.length)\n"
   ]
  },
  {
   "cell_type": "markdown",
   "metadata": {},
   "source": [
    "A more elegant version of the above, which hides implementation details, and doesn't have to be re-implemented for each class, is below. It wraps up the freeze functionality as a mixin."
   ]
  },
  {
   "cell_type": "code",
   "execution_count": 4,
   "metadata": {},
   "outputs": [
    {
     "name": "stdout",
     "output_type": "stream",
     "text": [
      "1.2\n",
      "5.6\n"
     ]
    },
    {
     "ename": "AssertionError",
     "evalue": "Invalid attribute: length",
     "traceback": [
      "\u001b[0;31m---------------------------------------------------------------------------\u001b[0m",
      "\u001b[0;31mAssertionError\u001b[0m                            Traceback (most recent call last)",
      "\u001b[0;32m<ipython-input-4-0ca545d35181>\u001b[0m in \u001b[0;36m<module>\u001b[0;34m()\u001b[0m\n\u001b[1;32m     40\u001b[0m \u001b[0;34m\u001b[0m\u001b[0m\n\u001b[1;32m     41\u001b[0m \u001b[0;31m# But we can't add a new attribute\u001b[0m\u001b[0;34m\u001b[0m\u001b[0;34m\u001b[0m\u001b[0m\n\u001b[0;32m---> 42\u001b[0;31m \u001b[0mrectangle\u001b[0m\u001b[0;34m.\u001b[0m\u001b[0mlength\u001b[0m \u001b[0;34m=\u001b[0m \u001b[0;36m10\u001b[0m\u001b[0;34m\u001b[0m\u001b[0m\n\u001b[0m\u001b[1;32m     43\u001b[0m \u001b[0mprint\u001b[0m\u001b[0;34m(\u001b[0m\u001b[0mrectangle\u001b[0m\u001b[0;34m.\u001b[0m\u001b[0mlength\u001b[0m\u001b[0;34m)\u001b[0m\u001b[0;34m\u001b[0m\u001b[0m\n",
      "\u001b[0;32m<ipython-input-4-0ca545d35181>\u001b[0m in \u001b[0;36m__setattr__\u001b[0;34m(self, key, value)\u001b[0m\n\u001b[1;32m     18\u001b[0m         \"\"\"\n\u001b[1;32m     19\u001b[0m         \u001b[0;32mif\u001b[0m \u001b[0mself\u001b[0m\u001b[0;34m.\u001b[0m\u001b[0m_is_frozen_for_new_attributes\u001b[0m\u001b[0;34m(\u001b[0m\u001b[0;34m)\u001b[0m\u001b[0;34m:\u001b[0m\u001b[0;34m\u001b[0m\u001b[0m\n\u001b[0;32m---> 20\u001b[0;31m             \u001b[0;32massert\u001b[0m \u001b[0mhasattr\u001b[0m\u001b[0;34m(\u001b[0m\u001b[0mself\u001b[0m\u001b[0;34m,\u001b[0m \u001b[0mkey\u001b[0m\u001b[0;34m)\u001b[0m\u001b[0;34m,\u001b[0m \u001b[0;34m\"Invalid attribute: \"\u001b[0m \u001b[0;34m+\u001b[0m \u001b[0mkey\u001b[0m\u001b[0;34m\u001b[0m\u001b[0m\n\u001b[0m\u001b[1;32m     21\u001b[0m \u001b[0;34m\u001b[0m\u001b[0m\n\u001b[1;32m     22\u001b[0m         \u001b[0msuper\u001b[0m\u001b[0;34m(\u001b[0m\u001b[0;34m)\u001b[0m\u001b[0;34m.\u001b[0m\u001b[0m__setattr__\u001b[0m\u001b[0;34m(\u001b[0m\u001b[0mkey\u001b[0m\u001b[0;34m,\u001b[0m \u001b[0mvalue\u001b[0m\u001b[0;34m)\u001b[0m\u001b[0;34m\u001b[0m\u001b[0m\n",
      "\u001b[0;31mAssertionError\u001b[0m: Invalid attribute: length"
     ],
     "output_type": "error"
    }
   ],
   "source": [
    "class FrozenClassMixin(object):\n",
    "    def _is_frozen_for_new_attributes(self):\n",
    "        \"\"\"\n",
    "        Return True if we are frozen from creating new attributes, else False.\n",
    "        \"\"\"\n",
    "        return hasattr(self, '_frozen_for_new_attributes')\n",
    "\n",
    "    def freeze_new_attributes(self):\n",
    "        \"\"\"\n",
    "        Set a flag on ourselves indicating creation of new attributes is no longer allowed\n",
    "        \"\"\"\n",
    "        setattr(self, '_frozen_for_new_attributes', True)\n",
    "\n",
    "    def __setattr__(self, key, value):\n",
    "        \"\"\"\n",
    "        Disallow creation of new attributes on ourselves after freeze_new_attributes() has\n",
    "        been called.\n",
    "        \"\"\"\n",
    "        if self._is_frozen_for_new_attributes():\n",
    "            assert hasattr(self, key), \"Invalid attribute: \" + key\n",
    "\n",
    "        super().__setattr__(key, value)    \n",
    "\n",
    "        \n",
    "class Rectangle(FrozenClassMixin):    \n",
    "    def __init__(self, width, height):\n",
    "        self.width = width\n",
    "        self.height = height\n",
    "        self.freeze_new_attributes()\n",
    "\n",
    "\n",
    "# Example\n",
    "# Create a Rectangle\n",
    "rectangle = Rectangle(1.2, 3.4) \n",
    "print(rectangle.width)\n",
    "\n",
    "# We can change its height\n",
    "rectangle.height = 5.6          \n",
    "print(rectangle.height)  \n",
    "\n",
    "# But we can't add a new attribute\n",
    "rectangle.length = 10\n",
    "print(rectangle.length)\n"
   ]
  }
 ],
 "metadata": {
  "kernelspec": {
   "display_name": "Python 3",
   "language": "python",
   "name": "python3"
  },
  "language_info": {
   "codemirror_mode": {
    "name": "ipython",
    "version": 3
   },
   "file_extension": ".py",
   "mimetype": "text/x-python",
   "name": "python",
   "nbconvert_exporter": "python",
   "pygments_lexer": "ipython3",
   "version": "3.6.3"
  }
 },
 "nbformat": 4,
 "nbformat_minor": 2
}
